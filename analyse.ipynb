{
 "metadata": {
  "language_info": {
   "codemirror_mode": {
    "name": "ipython",
    "version": 3
   },
   "file_extension": ".py",
   "mimetype": "text/x-python",
   "name": "python",
   "nbconvert_exporter": "python",
   "pygments_lexer": "ipython3",
   "version": "3.9.1"
  },
  "orig_nbformat": 2,
  "kernelspec": {
   "name": "python391jvsc74a57bd0b6514bc0d4f53b0f2587f3676c8605d39339b942f2cc28ce55a0b87701275da9",
   "display_name": "Python 3.9.1 64-bit ('base': conda)"
  },
  "metadata": {
   "interpreter": {
    "hash": "b6514bc0d4f53b0f2587f3676c8605d39339b942f2cc28ce55a0b87701275da9"
   }
  }
 },
 "nbformat": 4,
 "nbformat_minor": 2,
 "cells": [
  {
   "cell_type": "code",
   "execution_count": 39,
   "metadata": {},
   "outputs": [],
   "source": [
    "import csv\n",
    "\n",
    "from IPython.display import clear_output\n",
    "\n",
    "import numpy as np\n",
    "import pandas as pd\n",
    "import plotly\n",
    "import plotly.express as px\n",
    "import plotly.graph_objects as go\n",
    "import plotly.io as pio\n",
    "pio.renderers.default='notebook'\n",
    "plotly.io.orca.config.executable = \"~/miniconda3/bin/orca\""
   ]
  },
  {
   "cell_type": "code",
   "execution_count": 2,
   "metadata": {},
   "outputs": [],
   "source": [
    "basics_file = pd.read_table('title.basics.tsv',\n",
    "    sep='\\t',\n",
    "    lineterminator='\\n',\n",
    "    quotechar='', # else rows with \" in title wont work\n",
    "    quoting=csv.QUOTE_NONE,\n",
    "    dtype={\n",
    "        'tconst': 'string',\n",
    "        'titleType': 'string',\n",
    "        'primaryTitle': 'string',\n",
    "        'originalTitle': 'string',\n",
    "        'isAdult': 'float',\n",
    "        'startYear': 'float',\n",
    "        'endYear': 'float',\n",
    "        'runtimeMinutes': 'float',\n",
    "        'genres': 'string'\n",
    "        },\n",
    "    na_values=['\\\\N']\n",
    ")"
   ]
  },
  {
   "cell_type": "code",
   "execution_count": 3,
   "metadata": {},
   "outputs": [],
   "source": [
    "# improvements\n",
    "basics_file[\"startYear\"] = basics_file[\"startYear\"].replace(np.NaN, 2022.0)\n",
    "basics_file[\"endYear\"] = basics_file[\"endYear\"].replace(np.NaN, 2022.0)\n",
    "basics_file[\"startYear\"] = pd.to_datetime(basics_file.startYear, format='%Y')\n",
    "basics_file[\"endYear\"] = pd.to_datetime(basics_file.endYear, format='%Y')\n",
    "temp = basics_file[\"endYear\"] + np.timedelta64(364, 'D')\n",
    "basics_file[\"endYear\"] = temp\n",
    "basics_file[\"title_and_tconst\"] = basics_file[\"primaryTitle\"] + \" \" + basics_file[\"tconst\"]"
   ]
  },
  {
   "cell_type": "code",
   "execution_count": 4,
   "metadata": {},
   "outputs": [
    {
     "output_type": "execute_result",
     "data": {
      "text/plain": [
       "      tconst titleType            primaryTitle           originalTitle  \\\n",
       "0  tt0000001     short              Carmencita              Carmencita   \n",
       "1  tt0000002     short  Le clown et ses chiens  Le clown et ses chiens   \n",
       "2  tt0000003     short          Pauvre Pierrot          Pauvre Pierrot   \n",
       "3  tt0000004     short             Un bon bock             Un bon bock   \n",
       "4  tt0000005     short        Blacksmith Scene        Blacksmith Scene   \n",
       "\n",
       "   isAdult  startYear    endYear  runtimeMinutes                    genres  \\\n",
       "0      0.0 1894-01-01 2022-12-31             1.0         Documentary,Short   \n",
       "1      0.0 1892-01-01 2022-12-31             5.0           Animation,Short   \n",
       "2      0.0 1892-01-01 2022-12-31             4.0  Animation,Comedy,Romance   \n",
       "3      0.0 1892-01-01 2022-12-31            12.0           Animation,Short   \n",
       "4      0.0 1893-01-01 2022-12-31             1.0              Comedy,Short   \n",
       "\n",
       "                   title_and_tconst  \n",
       "0              Carmencita tt0000001  \n",
       "1  Le clown et ses chiens tt0000002  \n",
       "2          Pauvre Pierrot tt0000003  \n",
       "3             Un bon bock tt0000004  \n",
       "4        Blacksmith Scene tt0000005  "
      ],
      "text/html": "<div>\n<style scoped>\n    .dataframe tbody tr th:only-of-type {\n        vertical-align: middle;\n    }\n\n    .dataframe tbody tr th {\n        vertical-align: top;\n    }\n\n    .dataframe thead th {\n        text-align: right;\n    }\n</style>\n<table border=\"1\" class=\"dataframe\">\n  <thead>\n    <tr style=\"text-align: right;\">\n      <th></th>\n      <th>tconst</th>\n      <th>titleType</th>\n      <th>primaryTitle</th>\n      <th>originalTitle</th>\n      <th>isAdult</th>\n      <th>startYear</th>\n      <th>endYear</th>\n      <th>runtimeMinutes</th>\n      <th>genres</th>\n      <th>title_and_tconst</th>\n    </tr>\n  </thead>\n  <tbody>\n    <tr>\n      <th>0</th>\n      <td>tt0000001</td>\n      <td>short</td>\n      <td>Carmencita</td>\n      <td>Carmencita</td>\n      <td>0.0</td>\n      <td>1894-01-01</td>\n      <td>2022-12-31</td>\n      <td>1.0</td>\n      <td>Documentary,Short</td>\n      <td>Carmencita tt0000001</td>\n    </tr>\n    <tr>\n      <th>1</th>\n      <td>tt0000002</td>\n      <td>short</td>\n      <td>Le clown et ses chiens</td>\n      <td>Le clown et ses chiens</td>\n      <td>0.0</td>\n      <td>1892-01-01</td>\n      <td>2022-12-31</td>\n      <td>5.0</td>\n      <td>Animation,Short</td>\n      <td>Le clown et ses chiens tt0000002</td>\n    </tr>\n    <tr>\n      <th>2</th>\n      <td>tt0000003</td>\n      <td>short</td>\n      <td>Pauvre Pierrot</td>\n      <td>Pauvre Pierrot</td>\n      <td>0.0</td>\n      <td>1892-01-01</td>\n      <td>2022-12-31</td>\n      <td>4.0</td>\n      <td>Animation,Comedy,Romance</td>\n      <td>Pauvre Pierrot tt0000003</td>\n    </tr>\n    <tr>\n      <th>3</th>\n      <td>tt0000004</td>\n      <td>short</td>\n      <td>Un bon bock</td>\n      <td>Un bon bock</td>\n      <td>0.0</td>\n      <td>1892-01-01</td>\n      <td>2022-12-31</td>\n      <td>12.0</td>\n      <td>Animation,Short</td>\n      <td>Un bon bock tt0000004</td>\n    </tr>\n    <tr>\n      <th>4</th>\n      <td>tt0000005</td>\n      <td>short</td>\n      <td>Blacksmith Scene</td>\n      <td>Blacksmith Scene</td>\n      <td>0.0</td>\n      <td>1893-01-01</td>\n      <td>2022-12-31</td>\n      <td>1.0</td>\n      <td>Comedy,Short</td>\n      <td>Blacksmith Scene tt0000005</td>\n    </tr>\n  </tbody>\n</table>\n</div>"
     },
     "metadata": {},
     "execution_count": 4
    }
   ],
   "source": [
    "basics_file.head()"
   ]
  },
  {
   "cell_type": "code",
   "execution_count": 6,
   "metadata": {},
   "outputs": [],
   "source": [
    "ratings_file = pd.read_table('title.ratings.tsv',\n",
    "    sep='\\t',\n",
    "    lineterminator='\\n',\n",
    "    quotechar='', # else rows with \" in title wont work\n",
    "    quoting=csv.QUOTE_NONE,\n",
    "    dtype={\n",
    "        'tconst': 'string',\n",
    "        'averageRating': 'float',\n",
    "        'numVotes': 'int'\n",
    "        },\n",
    "    na_values=['\\\\N']\n",
    ")"
   ]
  },
  {
   "cell_type": "code",
   "execution_count": 7,
   "metadata": {},
   "outputs": [
    {
     "output_type": "execute_result",
     "data": {
      "text/plain": [
       "      tconst  averageRating  numVotes\n",
       "0  tt0000001            5.7      1702\n",
       "1  tt0000002            6.1       210\n",
       "2  tt0000003            6.5      1462\n",
       "3  tt0000004            6.2       123\n",
       "4  tt0000005            6.2      2262"
      ],
      "text/html": "<div>\n<style scoped>\n    .dataframe tbody tr th:only-of-type {\n        vertical-align: middle;\n    }\n\n    .dataframe tbody tr th {\n        vertical-align: top;\n    }\n\n    .dataframe thead th {\n        text-align: right;\n    }\n</style>\n<table border=\"1\" class=\"dataframe\">\n  <thead>\n    <tr style=\"text-align: right;\">\n      <th></th>\n      <th>tconst</th>\n      <th>averageRating</th>\n      <th>numVotes</th>\n    </tr>\n  </thead>\n  <tbody>\n    <tr>\n      <th>0</th>\n      <td>tt0000001</td>\n      <td>5.7</td>\n      <td>1702</td>\n    </tr>\n    <tr>\n      <th>1</th>\n      <td>tt0000002</td>\n      <td>6.1</td>\n      <td>210</td>\n    </tr>\n    <tr>\n      <th>2</th>\n      <td>tt0000003</td>\n      <td>6.5</td>\n      <td>1462</td>\n    </tr>\n    <tr>\n      <th>3</th>\n      <td>tt0000004</td>\n      <td>6.2</td>\n      <td>123</td>\n    </tr>\n    <tr>\n      <th>4</th>\n      <td>tt0000005</td>\n      <td>6.2</td>\n      <td>2262</td>\n    </tr>\n  </tbody>\n</table>\n</div>"
     },
     "metadata": {},
     "execution_count": 7
    }
   ],
   "source": [
    "ratings_file.head()"
   ]
  },
  {
   "cell_type": "code",
   "execution_count": 8,
   "metadata": {},
   "outputs": [],
   "source": [
    "episode_file = pd.read_table('title.episode.tsv',\n",
    "    sep='\\t',\n",
    "    lineterminator='\\n',\n",
    "    quotechar='', # else rows with \" in title wont work\n",
    "    quoting=csv.QUOTE_NONE,\n",
    "    dtype={\n",
    "        'tconst': 'string',\n",
    "        'parentTconst': 'string',\n",
    "        'seasonNumber': 'float',\n",
    "        'episodeNumber': 'float'\n",
    "        },\n",
    "    na_values=['\\\\N']\n",
    ")"
   ]
  },
  {
   "cell_type": "code",
   "execution_count": 9,
   "metadata": {},
   "outputs": [
    {
     "output_type": "execute_result",
     "data": {
      "text/plain": [
       "      tconst parentTconst  seasonNumber  episodeNumber\n",
       "0  tt0041951    tt0041038           1.0            9.0\n",
       "1  tt0042816    tt0989125           1.0           17.0\n",
       "2  tt0042889    tt0989125           NaN            NaN\n",
       "3  tt0043426    tt0040051           3.0           42.0\n",
       "4  tt0043631    tt0989125           2.0           16.0"
      ],
      "text/html": "<div>\n<style scoped>\n    .dataframe tbody tr th:only-of-type {\n        vertical-align: middle;\n    }\n\n    .dataframe tbody tr th {\n        vertical-align: top;\n    }\n\n    .dataframe thead th {\n        text-align: right;\n    }\n</style>\n<table border=\"1\" class=\"dataframe\">\n  <thead>\n    <tr style=\"text-align: right;\">\n      <th></th>\n      <th>tconst</th>\n      <th>parentTconst</th>\n      <th>seasonNumber</th>\n      <th>episodeNumber</th>\n    </tr>\n  </thead>\n  <tbody>\n    <tr>\n      <th>0</th>\n      <td>tt0041951</td>\n      <td>tt0041038</td>\n      <td>1.0</td>\n      <td>9.0</td>\n    </tr>\n    <tr>\n      <th>1</th>\n      <td>tt0042816</td>\n      <td>tt0989125</td>\n      <td>1.0</td>\n      <td>17.0</td>\n    </tr>\n    <tr>\n      <th>2</th>\n      <td>tt0042889</td>\n      <td>tt0989125</td>\n      <td>NaN</td>\n      <td>NaN</td>\n    </tr>\n    <tr>\n      <th>3</th>\n      <td>tt0043426</td>\n      <td>tt0040051</td>\n      <td>3.0</td>\n      <td>42.0</td>\n    </tr>\n    <tr>\n      <th>4</th>\n      <td>tt0043631</td>\n      <td>tt0989125</td>\n      <td>2.0</td>\n      <td>16.0</td>\n    </tr>\n  </tbody>\n</table>\n</div>"
     },
     "metadata": {},
     "execution_count": 9
    }
   ],
   "source": [
    "episode_file.head()"
   ]
  },
  {
   "cell_type": "code",
   "execution_count": 10,
   "metadata": {},
   "outputs": [
    {
     "output_type": "stream",
     "name": "stdout",
     "text": [
      "Amount of imdb movies/series/episodes/titles: (7933717, 10)\nAmount of ratings for movies/series/episodes/titles: (1155733, 3)\nAmount of episodes connected to series: (5790039, 4)\n"
     ]
    }
   ],
   "source": [
    "print(\"Amount of imdb movies/series/episodes/titles:\", basics_file.shape)\n",
    "print(\"Amount of ratings for movies/series/episodes/titles:\", ratings_file.shape)\n",
    "print(\"Amount of episodes connected to series:\", episode_file.shape)"
   ]
  },
  {
   "cell_type": "code",
   "execution_count": 11,
   "metadata": {},
   "outputs": [],
   "source": [
    "ratings_merged = pd.merge(basics_file, ratings_file, how=\"left\", on=\"tconst\")"
   ]
  },
  {
   "cell_type": "code",
   "execution_count": 12,
   "metadata": {},
   "outputs": [
    {
     "output_type": "execute_result",
     "data": {
      "text/plain": [
       "      tconst titleType            primaryTitle           originalTitle  \\\n",
       "0  tt0000001     short              Carmencita              Carmencita   \n",
       "1  tt0000002     short  Le clown et ses chiens  Le clown et ses chiens   \n",
       "2  tt0000003     short          Pauvre Pierrot          Pauvre Pierrot   \n",
       "3  tt0000004     short             Un bon bock             Un bon bock   \n",
       "4  tt0000005     short        Blacksmith Scene        Blacksmith Scene   \n",
       "\n",
       "   isAdult  startYear    endYear  runtimeMinutes                    genres  \\\n",
       "0      0.0 1894-01-01 2022-12-31             1.0         Documentary,Short   \n",
       "1      0.0 1892-01-01 2022-12-31             5.0           Animation,Short   \n",
       "2      0.0 1892-01-01 2022-12-31             4.0  Animation,Comedy,Romance   \n",
       "3      0.0 1892-01-01 2022-12-31            12.0           Animation,Short   \n",
       "4      0.0 1893-01-01 2022-12-31             1.0              Comedy,Short   \n",
       "\n",
       "                   title_and_tconst  averageRating  numVotes  \n",
       "0              Carmencita tt0000001            5.7    1702.0  \n",
       "1  Le clown et ses chiens tt0000002            6.1     210.0  \n",
       "2          Pauvre Pierrot tt0000003            6.5    1462.0  \n",
       "3             Un bon bock tt0000004            6.2     123.0  \n",
       "4        Blacksmith Scene tt0000005            6.2    2262.0  "
      ],
      "text/html": "<div>\n<style scoped>\n    .dataframe tbody tr th:only-of-type {\n        vertical-align: middle;\n    }\n\n    .dataframe tbody tr th {\n        vertical-align: top;\n    }\n\n    .dataframe thead th {\n        text-align: right;\n    }\n</style>\n<table border=\"1\" class=\"dataframe\">\n  <thead>\n    <tr style=\"text-align: right;\">\n      <th></th>\n      <th>tconst</th>\n      <th>titleType</th>\n      <th>primaryTitle</th>\n      <th>originalTitle</th>\n      <th>isAdult</th>\n      <th>startYear</th>\n      <th>endYear</th>\n      <th>runtimeMinutes</th>\n      <th>genres</th>\n      <th>title_and_tconst</th>\n      <th>averageRating</th>\n      <th>numVotes</th>\n    </tr>\n  </thead>\n  <tbody>\n    <tr>\n      <th>0</th>\n      <td>tt0000001</td>\n      <td>short</td>\n      <td>Carmencita</td>\n      <td>Carmencita</td>\n      <td>0.0</td>\n      <td>1894-01-01</td>\n      <td>2022-12-31</td>\n      <td>1.0</td>\n      <td>Documentary,Short</td>\n      <td>Carmencita tt0000001</td>\n      <td>5.7</td>\n      <td>1702.0</td>\n    </tr>\n    <tr>\n      <th>1</th>\n      <td>tt0000002</td>\n      <td>short</td>\n      <td>Le clown et ses chiens</td>\n      <td>Le clown et ses chiens</td>\n      <td>0.0</td>\n      <td>1892-01-01</td>\n      <td>2022-12-31</td>\n      <td>5.0</td>\n      <td>Animation,Short</td>\n      <td>Le clown et ses chiens tt0000002</td>\n      <td>6.1</td>\n      <td>210.0</td>\n    </tr>\n    <tr>\n      <th>2</th>\n      <td>tt0000003</td>\n      <td>short</td>\n      <td>Pauvre Pierrot</td>\n      <td>Pauvre Pierrot</td>\n      <td>0.0</td>\n      <td>1892-01-01</td>\n      <td>2022-12-31</td>\n      <td>4.0</td>\n      <td>Animation,Comedy,Romance</td>\n      <td>Pauvre Pierrot tt0000003</td>\n      <td>6.5</td>\n      <td>1462.0</td>\n    </tr>\n    <tr>\n      <th>3</th>\n      <td>tt0000004</td>\n      <td>short</td>\n      <td>Un bon bock</td>\n      <td>Un bon bock</td>\n      <td>0.0</td>\n      <td>1892-01-01</td>\n      <td>2022-12-31</td>\n      <td>12.0</td>\n      <td>Animation,Short</td>\n      <td>Un bon bock tt0000004</td>\n      <td>6.2</td>\n      <td>123.0</td>\n    </tr>\n    <tr>\n      <th>4</th>\n      <td>tt0000005</td>\n      <td>short</td>\n      <td>Blacksmith Scene</td>\n      <td>Blacksmith Scene</td>\n      <td>0.0</td>\n      <td>1893-01-01</td>\n      <td>2022-12-31</td>\n      <td>1.0</td>\n      <td>Comedy,Short</td>\n      <td>Blacksmith Scene tt0000005</td>\n      <td>6.2</td>\n      <td>2262.0</td>\n    </tr>\n  </tbody>\n</table>\n</div>"
     },
     "metadata": {},
     "execution_count": 12
    }
   ],
   "source": [
    "ratings_merged.head()"
   ]
  },
  {
   "cell_type": "code",
   "execution_count": 15,
   "metadata": {},
   "outputs": [],
   "source": [
    "# fixes ratings\n",
    "ratings_merged[\"averageRating\"] = ratings_merged[\"averageRating\"].replace(np.NaN, 0.0)"
   ]
  },
  {
   "cell_type": "code",
   "execution_count": 16,
   "metadata": {},
   "outputs": [],
   "source": [
    "# filter parent titles\n",
    "tv_series = ratings_merged[(ratings_merged[\"titleType\"] == 'tvSeries') | (ratings_merged[\"titleType\"] == 'tvMiniSeries')]"
   ]
  },
  {
   "cell_type": "code",
   "execution_count": 17,
   "metadata": {},
   "outputs": [],
   "source": [
    "# filter recent populair\n",
    "tv_popular = tv_series[(tv_series[\"numVotes\"] > 20000) & (tv_series[\"averageRating\"] > 7.0) & (tv_series[\"startYear\"] > np.datetime64('2005-01-01'))]"
   ]
  },
  {
   "cell_type": "code",
   "execution_count": 18,
   "metadata": {},
   "outputs": [
    {
     "output_type": "stream",
     "name": "stdout",
     "text": [
      "(537, 12)\n"
     ]
    }
   ],
   "source": [
    "print(tv_popular.shape)"
   ]
  },
  {
   "cell_type": "code",
   "execution_count": 19,
   "metadata": {},
   "outputs": [
    {
     "output_type": "execute_result",
     "data": {
      "text/plain": [
       "           tconst     titleType               primaryTitle  \\\n",
       "359303  tt0374463  tvMiniSeries                The Pacific   \n",
       "381321  tt0397442      tvSeries                Gossip Girl   \n",
       "404313  tt0421030      tvSeries                   Big Love   \n",
       "440608  tt0458290      tvSeries  Star Wars: The Clone Wars   \n",
       "442977  tt0460690      tvSeries                   The Unit   \n",
       "\n",
       "                    originalTitle  isAdult  startYear    endYear  \\\n",
       "359303                The Pacific      0.0 2010-01-01 2010-12-31   \n",
       "381321                Gossip Girl      0.0 2007-01-01 2012-12-30   \n",
       "404313                   Big Love      0.0 2006-01-01 2011-12-31   \n",
       "440608  Star Wars: The Clone Wars      0.0 2008-01-01 2020-12-30   \n",
       "442977                   The Unit      0.0 2006-01-01 2009-12-31   \n",
       "\n",
       "        runtimeMinutes                      genres  \\\n",
       "359303           530.0      Action,Adventure,Drama   \n",
       "381321            42.0               Drama,Romance   \n",
       "404313            60.0                       Drama   \n",
       "440608            23.0  Action,Adventure,Animation   \n",
       "442977            60.0       Action,Drama,Thriller   \n",
       "\n",
       "                           title_and_tconst  averageRating  numVotes  \n",
       "359303                The Pacific tt0374463            8.3  101949.0  \n",
       "381321                Gossip Girl tt0397442            7.4  157077.0  \n",
       "404313                   Big Love tt0421030            7.6   20252.0  \n",
       "440608  Star Wars: The Clone Wars tt0458290            8.3   68639.0  \n",
       "442977                   The Unit tt0460690            8.1   20493.0  "
      ],
      "text/html": "<div>\n<style scoped>\n    .dataframe tbody tr th:only-of-type {\n        vertical-align: middle;\n    }\n\n    .dataframe tbody tr th {\n        vertical-align: top;\n    }\n\n    .dataframe thead th {\n        text-align: right;\n    }\n</style>\n<table border=\"1\" class=\"dataframe\">\n  <thead>\n    <tr style=\"text-align: right;\">\n      <th></th>\n      <th>tconst</th>\n      <th>titleType</th>\n      <th>primaryTitle</th>\n      <th>originalTitle</th>\n      <th>isAdult</th>\n      <th>startYear</th>\n      <th>endYear</th>\n      <th>runtimeMinutes</th>\n      <th>genres</th>\n      <th>title_and_tconst</th>\n      <th>averageRating</th>\n      <th>numVotes</th>\n    </tr>\n  </thead>\n  <tbody>\n    <tr>\n      <th>359303</th>\n      <td>tt0374463</td>\n      <td>tvMiniSeries</td>\n      <td>The Pacific</td>\n      <td>The Pacific</td>\n      <td>0.0</td>\n      <td>2010-01-01</td>\n      <td>2010-12-31</td>\n      <td>530.0</td>\n      <td>Action,Adventure,Drama</td>\n      <td>The Pacific tt0374463</td>\n      <td>8.3</td>\n      <td>101949.0</td>\n    </tr>\n    <tr>\n      <th>381321</th>\n      <td>tt0397442</td>\n      <td>tvSeries</td>\n      <td>Gossip Girl</td>\n      <td>Gossip Girl</td>\n      <td>0.0</td>\n      <td>2007-01-01</td>\n      <td>2012-12-30</td>\n      <td>42.0</td>\n      <td>Drama,Romance</td>\n      <td>Gossip Girl tt0397442</td>\n      <td>7.4</td>\n      <td>157077.0</td>\n    </tr>\n    <tr>\n      <th>404313</th>\n      <td>tt0421030</td>\n      <td>tvSeries</td>\n      <td>Big Love</td>\n      <td>Big Love</td>\n      <td>0.0</td>\n      <td>2006-01-01</td>\n      <td>2011-12-31</td>\n      <td>60.0</td>\n      <td>Drama</td>\n      <td>Big Love tt0421030</td>\n      <td>7.6</td>\n      <td>20252.0</td>\n    </tr>\n    <tr>\n      <th>440608</th>\n      <td>tt0458290</td>\n      <td>tvSeries</td>\n      <td>Star Wars: The Clone Wars</td>\n      <td>Star Wars: The Clone Wars</td>\n      <td>0.0</td>\n      <td>2008-01-01</td>\n      <td>2020-12-30</td>\n      <td>23.0</td>\n      <td>Action,Adventure,Animation</td>\n      <td>Star Wars: The Clone Wars tt0458290</td>\n      <td>8.3</td>\n      <td>68639.0</td>\n    </tr>\n    <tr>\n      <th>442977</th>\n      <td>tt0460690</td>\n      <td>tvSeries</td>\n      <td>The Unit</td>\n      <td>The Unit</td>\n      <td>0.0</td>\n      <td>2006-01-01</td>\n      <td>2009-12-31</td>\n      <td>60.0</td>\n      <td>Action,Drama,Thriller</td>\n      <td>The Unit tt0460690</td>\n      <td>8.1</td>\n      <td>20493.0</td>\n    </tr>\n  </tbody>\n</table>\n</div>"
     },
     "metadata": {},
     "execution_count": 19
    }
   ],
   "source": [
    "tv_popular.head()"
   ]
  },
  {
   "cell_type": "code",
   "execution_count": 20,
   "metadata": {},
   "outputs": [],
   "source": [
    "tv_popular_sorted = tv_popular.sort_values(by=[\"startYear\", \"endYear\"])"
   ]
  },
  {
   "cell_type": "code",
   "execution_count": 21,
   "metadata": {},
   "outputs": [
    {
     "output_type": "display_data",
     "data": {
      "application/vnd.plotly.v1+json": {
       "config": {
        "plotlyServerURL": "https://plot.ly"
       },
       "data": [
        {
         "alignmentgroup": "True",
         "base": [
          "2006-01-01T00:00:00",
          "2006-01-01T00:00:00",
          "2006-01-01T00:00:00",
          "2006-01-01T00:00:00",
          "2006-01-01T00:00:00",
          "2006-01-01T00:00:00",
          "2006-01-01T00:00:00",
          "2006-01-01T00:00:00",
          "2006-01-01T00:00:00",
          "2006-01-01T00:00:00",
          "2006-01-01T00:00:00",
          "2006-01-01T00:00:00",
          "2006-01-01T00:00:00",
          "2006-01-01T00:00:00",
          "2006-01-01T00:00:00",
          "2006-01-01T00:00:00",
          "2006-01-01T00:00:00",
          "2006-01-01T00:00:00",
          "2006-01-01T00:00:00",
          "2006-01-01T00:00:00",
          "2006-01-01T00:00:00",
          "2007-01-01T00:00:00",
          "2007-01-01T00:00:00",
          "2007-01-01T00:00:00",
          "2007-01-01T00:00:00",
          "2007-01-01T00:00:00",
          "2007-01-01T00:00:00",
          "2007-01-01T00:00:00",
          "2007-01-01T00:00:00",
          "2007-01-01T00:00:00",
          "2007-01-01T00:00:00",
          "2007-01-01T00:00:00",
          "2007-01-01T00:00:00",
          "2007-01-01T00:00:00",
          "2007-01-01T00:00:00",
          "2007-01-01T00:00:00",
          "2007-01-01T00:00:00",
          "2007-01-01T00:00:00",
          "2007-01-01T00:00:00",
          "2007-01-01T00:00:00",
          "2008-01-01T00:00:00",
          "2008-01-01T00:00:00",
          "2008-01-01T00:00:00",
          "2008-01-01T00:00:00",
          "2008-01-01T00:00:00",
          "2008-01-01T00:00:00",
          "2008-01-01T00:00:00",
          "2008-01-01T00:00:00",
          "2008-01-01T00:00:00",
          "2008-01-01T00:00:00",
          "2008-01-01T00:00:00",
          "2008-01-01T00:00:00",
          "2008-01-01T00:00:00",
          "2008-01-01T00:00:00",
          "2008-01-01T00:00:00",
          "2009-01-01T00:00:00",
          "2009-01-01T00:00:00",
          "2009-01-01T00:00:00",
          "2009-01-01T00:00:00",
          "2009-01-01T00:00:00",
          "2009-01-01T00:00:00",
          "2009-01-01T00:00:00",
          "2009-01-01T00:00:00",
          "2009-01-01T00:00:00",
          "2009-01-01T00:00:00",
          "2009-01-01T00:00:00",
          "2009-01-01T00:00:00",
          "2009-01-01T00:00:00",
          "2009-01-01T00:00:00",
          "2009-01-01T00:00:00",
          "2009-01-01T00:00:00",
          "2009-01-01T00:00:00",
          "2009-01-01T00:00:00",
          "2009-01-01T00:00:00",
          "2009-01-01T00:00:00",
          "2009-01-01T00:00:00",
          "2009-01-01T00:00:00",
          "2009-01-01T00:00:00",
          "2009-01-01T00:00:00",
          "2009-01-01T00:00:00",
          "2009-01-01T00:00:00",
          "2009-01-01T00:00:00",
          "2009-01-01T00:00:00",
          "2009-01-01T00:00:00",
          "2009-01-01T00:00:00",
          "2009-01-01T00:00:00",
          "2009-01-01T00:00:00",
          "2010-01-01T00:00:00",
          "2010-01-01T00:00:00",
          "2010-01-01T00:00:00",
          "2010-01-01T00:00:00",
          "2010-01-01T00:00:00",
          "2010-01-01T00:00:00",
          "2010-01-01T00:00:00",
          "2010-01-01T00:00:00",
          "2010-01-01T00:00:00",
          "2010-01-01T00:00:00",
          "2010-01-01T00:00:00",
          "2010-01-01T00:00:00",
          "2010-01-01T00:00:00",
          "2010-01-01T00:00:00",
          "2010-01-01T00:00:00",
          "2010-01-01T00:00:00",
          "2010-01-01T00:00:00",
          "2010-01-01T00:00:00",
          "2010-01-01T00:00:00",
          "2010-01-01T00:00:00",
          "2010-01-01T00:00:00",
          "2010-01-01T00:00:00",
          "2010-01-01T00:00:00",
          "2010-01-01T00:00:00",
          "2010-01-01T00:00:00",
          "2010-01-01T00:00:00",
          "2010-01-01T00:00:00",
          "2010-01-01T00:00:00",
          "2011-01-01T00:00:00",
          "2011-01-01T00:00:00",
          "2011-01-01T00:00:00",
          "2011-01-01T00:00:00",
          "2011-01-01T00:00:00",
          "2011-01-01T00:00:00",
          "2011-01-01T00:00:00",
          "2011-01-01T00:00:00",
          "2011-01-01T00:00:00",
          "2011-01-01T00:00:00",
          "2011-01-01T00:00:00",
          "2011-01-01T00:00:00",
          "2011-01-01T00:00:00",
          "2011-01-01T00:00:00",
          "2011-01-01T00:00:00",
          "2011-01-01T00:00:00",
          "2011-01-01T00:00:00",
          "2011-01-01T00:00:00",
          "2011-01-01T00:00:00",
          "2011-01-01T00:00:00",
          "2011-01-01T00:00:00",
          "2011-01-01T00:00:00",
          "2011-01-01T00:00:00",
          "2011-01-01T00:00:00",
          "2011-01-01T00:00:00",
          "2011-01-01T00:00:00",
          "2011-01-01T00:00:00",
          "2011-01-01T00:00:00",
          "2011-01-01T00:00:00",
          "2011-01-01T00:00:00",
          "2011-01-01T00:00:00",
          "2011-01-01T00:00:00",
          "2011-01-01T00:00:00",
          "2011-01-01T00:00:00",
          "2011-01-01T00:00:00",
          "2011-01-01T00:00:00",
          "2011-01-01T00:00:00",
          "2011-01-01T00:00:00",
          "2011-01-01T00:00:00",
          "2011-01-01T00:00:00",
          "2012-01-01T00:00:00",
          "2012-01-01T00:00:00",
          "2012-01-01T00:00:00",
          "2012-01-01T00:00:00",
          "2012-01-01T00:00:00",
          "2012-01-01T00:00:00",
          "2012-01-01T00:00:00",
          "2012-01-01T00:00:00",
          "2012-01-01T00:00:00",
          "2012-01-01T00:00:00",
          "2012-01-01T00:00:00",
          "2012-01-01T00:00:00",
          "2012-01-01T00:00:00",
          "2012-01-01T00:00:00",
          "2012-01-01T00:00:00",
          "2012-01-01T00:00:00",
          "2012-01-01T00:00:00",
          "2012-01-01T00:00:00",
          "2012-01-01T00:00:00",
          "2012-01-01T00:00:00",
          "2012-01-01T00:00:00",
          "2012-01-01T00:00:00",
          "2012-01-01T00:00:00",
          "2012-01-01T00:00:00",
          "2012-01-01T00:00:00",
          "2012-01-01T00:00:00",
          "2013-01-01T00:00:00",
          "2013-01-01T00:00:00",
          "2013-01-01T00:00:00",
          "2013-01-01T00:00:00",
          "2013-01-01T00:00:00",
          "2013-01-01T00:00:00",
          "2013-01-01T00:00:00",
          "2013-01-01T00:00:00",
          "2013-01-01T00:00:00",
          "2013-01-01T00:00:00",
          "2013-01-01T00:00:00",
          "2013-01-01T00:00:00",
          "2013-01-01T00:00:00",
          "2013-01-01T00:00:00",
          "2013-01-01T00:00:00",
          "2013-01-01T00:00:00",
          "2013-01-01T00:00:00",
          "2013-01-01T00:00:00",
          "2013-01-01T00:00:00",
          "2013-01-01T00:00:00",
          "2013-01-01T00:00:00",
          "2013-01-01T00:00:00",
          "2013-01-01T00:00:00",
          "2013-01-01T00:00:00",
          "2013-01-01T00:00:00",
          "2013-01-01T00:00:00",
          "2013-01-01T00:00:00",
          "2013-01-01T00:00:00",
          "2013-01-01T00:00:00",
          "2013-01-01T00:00:00",
          "2013-01-01T00:00:00",
          "2013-01-01T00:00:00",
          "2013-01-01T00:00:00",
          "2013-01-01T00:00:00",
          "2013-01-01T00:00:00",
          "2013-01-01T00:00:00",
          "2013-01-01T00:00:00",
          "2013-01-01T00:00:00",
          "2013-01-01T00:00:00",
          "2014-01-01T00:00:00",
          "2014-01-01T00:00:00",
          "2014-01-01T00:00:00",
          "2014-01-01T00:00:00",
          "2014-01-01T00:00:00",
          "2014-01-01T00:00:00",
          "2014-01-01T00:00:00",
          "2014-01-01T00:00:00",
          "2014-01-01T00:00:00",
          "2014-01-01T00:00:00",
          "2014-01-01T00:00:00",
          "2014-01-01T00:00:00",
          "2014-01-01T00:00:00",
          "2014-01-01T00:00:00",
          "2014-01-01T00:00:00",
          "2014-01-01T00:00:00",
          "2014-01-01T00:00:00",
          "2014-01-01T00:00:00",
          "2014-01-01T00:00:00",
          "2014-01-01T00:00:00",
          "2014-01-01T00:00:00",
          "2014-01-01T00:00:00",
          "2014-01-01T00:00:00",
          "2014-01-01T00:00:00",
          "2014-01-01T00:00:00",
          "2014-01-01T00:00:00",
          "2014-01-01T00:00:00",
          "2014-01-01T00:00:00",
          "2014-01-01T00:00:00",
          "2014-01-01T00:00:00",
          "2014-01-01T00:00:00",
          "2014-01-01T00:00:00",
          "2014-01-01T00:00:00",
          "2014-01-01T00:00:00",
          "2014-01-01T00:00:00",
          "2014-01-01T00:00:00",
          "2014-01-01T00:00:00",
          "2014-01-01T00:00:00",
          "2014-01-01T00:00:00",
          "2014-01-01T00:00:00",
          "2014-01-01T00:00:00",
          "2014-01-01T00:00:00",
          "2014-01-01T00:00:00",
          "2014-01-01T00:00:00",
          "2014-01-01T00:00:00",
          "2014-01-01T00:00:00",
          "2014-01-01T00:00:00",
          "2015-01-01T00:00:00",
          "2015-01-01T00:00:00",
          "2015-01-01T00:00:00",
          "2015-01-01T00:00:00",
          "2015-01-01T00:00:00",
          "2015-01-01T00:00:00",
          "2015-01-01T00:00:00",
          "2015-01-01T00:00:00",
          "2015-01-01T00:00:00",
          "2015-01-01T00:00:00",
          "2015-01-01T00:00:00",
          "2015-01-01T00:00:00",
          "2015-01-01T00:00:00",
          "2015-01-01T00:00:00",
          "2015-01-01T00:00:00",
          "2015-01-01T00:00:00",
          "2015-01-01T00:00:00",
          "2015-01-01T00:00:00",
          "2015-01-01T00:00:00",
          "2015-01-01T00:00:00",
          "2015-01-01T00:00:00",
          "2015-01-01T00:00:00",
          "2015-01-01T00:00:00",
          "2015-01-01T00:00:00",
          "2015-01-01T00:00:00",
          "2015-01-01T00:00:00",
          "2015-01-01T00:00:00",
          "2015-01-01T00:00:00",
          "2015-01-01T00:00:00",
          "2015-01-01T00:00:00",
          "2015-01-01T00:00:00",
          "2015-01-01T00:00:00",
          "2015-01-01T00:00:00",
          "2015-01-01T00:00:00",
          "2015-01-01T00:00:00",
          "2015-01-01T00:00:00",
          "2015-01-01T00:00:00",
          "2015-01-01T00:00:00",
          "2015-01-01T00:00:00",
          "2015-01-01T00:00:00",
          "2015-01-01T00:00:00",
          "2015-01-01T00:00:00",
          "2015-01-01T00:00:00",
          "2015-01-01T00:00:00",
          "2015-01-01T00:00:00",
          "2015-01-01T00:00:00",
          "2015-01-01T00:00:00",
          "2016-01-01T00:00:00",
          "2016-01-01T00:00:00",
          "2016-01-01T00:00:00",
          "2016-01-01T00:00:00",
          "2016-01-01T00:00:00",
          "2016-01-01T00:00:00",
          "2016-01-01T00:00:00",
          "2016-01-01T00:00:00",
          "2016-01-01T00:00:00",
          "2016-01-01T00:00:00",
          "2016-01-01T00:00:00",
          "2016-01-01T00:00:00",
          "2016-01-01T00:00:00",
          "2016-01-01T00:00:00",
          "2016-01-01T00:00:00",
          "2016-01-01T00:00:00",
          "2016-01-01T00:00:00",
          "2016-01-01T00:00:00",
          "2016-01-01T00:00:00",
          "2016-01-01T00:00:00",
          "2016-01-01T00:00:00",
          "2016-01-01T00:00:00",
          "2016-01-01T00:00:00",
          "2016-01-01T00:00:00",
          "2016-01-01T00:00:00",
          "2016-01-01T00:00:00",
          "2016-01-01T00:00:00",
          "2016-01-01T00:00:00",
          "2016-01-01T00:00:00",
          "2016-01-01T00:00:00",
          "2016-01-01T00:00:00",
          "2016-01-01T00:00:00",
          "2016-01-01T00:00:00",
          "2016-01-01T00:00:00",
          "2016-01-01T00:00:00",
          "2016-01-01T00:00:00",
          "2016-01-01T00:00:00",
          "2016-01-01T00:00:00",
          "2016-01-01T00:00:00",
          "2016-01-01T00:00:00",
          "2016-01-01T00:00:00",
          "2016-01-01T00:00:00",
          "2016-01-01T00:00:00",
          "2016-01-01T00:00:00",
          "2016-01-01T00:00:00",
          "2017-01-01T00:00:00",
          "2017-01-01T00:00:00",
          "2017-01-01T00:00:00",
          "2017-01-01T00:00:00",
          "2017-01-01T00:00:00",
          "2017-01-01T00:00:00",
          "2017-01-01T00:00:00",
          "2017-01-01T00:00:00",
          "2017-01-01T00:00:00",
          "2017-01-01T00:00:00",
          "2017-01-01T00:00:00",
          "2017-01-01T00:00:00",
          "2017-01-01T00:00:00",
          "2017-01-01T00:00:00",
          "2017-01-01T00:00:00",
          "2017-01-01T00:00:00",
          "2017-01-01T00:00:00",
          "2017-01-01T00:00:00",
          "2017-01-01T00:00:00",
          "2017-01-01T00:00:00",
          "2017-01-01T00:00:00",
          "2017-01-01T00:00:00",
          "2017-01-01T00:00:00",
          "2017-01-01T00:00:00",
          "2017-01-01T00:00:00",
          "2017-01-01T00:00:00",
          "2017-01-01T00:00:00",
          "2017-01-01T00:00:00",
          "2017-01-01T00:00:00",
          "2017-01-01T00:00:00",
          "2017-01-01T00:00:00",
          "2017-01-01T00:00:00",
          "2017-01-01T00:00:00",
          "2017-01-01T00:00:00",
          "2017-01-01T00:00:00",
          "2017-01-01T00:00:00",
          "2017-01-01T00:00:00",
          "2017-01-01T00:00:00",
          "2017-01-01T00:00:00",
          "2017-01-01T00:00:00",
          "2018-01-01T00:00:00",
          "2018-01-01T00:00:00",
          "2018-01-01T00:00:00",
          "2018-01-01T00:00:00",
          "2018-01-01T00:00:00",
          "2018-01-01T00:00:00",
          "2018-01-01T00:00:00",
          "2018-01-01T00:00:00",
          "2018-01-01T00:00:00",
          "2018-01-01T00:00:00",
          "2018-01-01T00:00:00",
          "2018-01-01T00:00:00",
          "2018-01-01T00:00:00",
          "2018-01-01T00:00:00",
          "2018-01-01T00:00:00",
          "2018-01-01T00:00:00",
          "2018-01-01T00:00:00",
          "2018-01-01T00:00:00",
          "2018-01-01T00:00:00",
          "2018-01-01T00:00:00",
          "2018-01-01T00:00:00",
          "2018-01-01T00:00:00",
          "2018-01-01T00:00:00",
          "2018-01-01T00:00:00",
          "2018-01-01T00:00:00",
          "2018-01-01T00:00:00",
          "2018-01-01T00:00:00",
          "2018-01-01T00:00:00",
          "2018-01-01T00:00:00",
          "2018-01-01T00:00:00",
          "2018-01-01T00:00:00",
          "2018-01-01T00:00:00",
          "2018-01-01T00:00:00",
          "2018-01-01T00:00:00",
          "2018-01-01T00:00:00",
          "2018-01-01T00:00:00",
          "2018-01-01T00:00:00",
          "2018-01-01T00:00:00",
          "2018-01-01T00:00:00",
          "2018-01-01T00:00:00",
          "2018-01-01T00:00:00",
          "2018-01-01T00:00:00",
          "2018-01-01T00:00:00",
          "2018-01-01T00:00:00",
          "2019-01-01T00:00:00",
          "2019-01-01T00:00:00",
          "2019-01-01T00:00:00",
          "2019-01-01T00:00:00",
          "2019-01-01T00:00:00",
          "2019-01-01T00:00:00",
          "2019-01-01T00:00:00",
          "2019-01-01T00:00:00",
          "2019-01-01T00:00:00",
          "2019-01-01T00:00:00",
          "2019-01-01T00:00:00",
          "2019-01-01T00:00:00",
          "2019-01-01T00:00:00",
          "2019-01-01T00:00:00",
          "2019-01-01T00:00:00",
          "2019-01-01T00:00:00",
          "2019-01-01T00:00:00",
          "2019-01-01T00:00:00",
          "2019-01-01T00:00:00",
          "2019-01-01T00:00:00",
          "2019-01-01T00:00:00",
          "2019-01-01T00:00:00",
          "2019-01-01T00:00:00",
          "2019-01-01T00:00:00",
          "2019-01-01T00:00:00",
          "2019-01-01T00:00:00",
          "2019-01-01T00:00:00",
          "2019-01-01T00:00:00",
          "2019-01-01T00:00:00",
          "2019-01-01T00:00:00",
          "2019-01-01T00:00:00",
          "2019-01-01T00:00:00",
          "2019-01-01T00:00:00",
          "2019-01-01T00:00:00",
          "2019-01-01T00:00:00",
          "2019-01-01T00:00:00",
          "2019-01-01T00:00:00",
          "2019-01-01T00:00:00",
          "2019-01-01T00:00:00",
          "2019-01-01T00:00:00",
          "2019-01-01T00:00:00",
          "2019-01-01T00:00:00",
          "2020-01-01T00:00:00",
          "2020-01-01T00:00:00",
          "2020-01-01T00:00:00",
          "2020-01-01T00:00:00",
          "2020-01-01T00:00:00",
          "2020-01-01T00:00:00",
          "2020-01-01T00:00:00",
          "2020-01-01T00:00:00",
          "2020-01-01T00:00:00",
          "2020-01-01T00:00:00",
          "2020-01-01T00:00:00",
          "2020-01-01T00:00:00",
          "2020-01-01T00:00:00",
          "2020-01-01T00:00:00",
          "2020-01-01T00:00:00",
          "2020-01-01T00:00:00",
          "2020-01-01T00:00:00",
          "2020-01-01T00:00:00",
          "2020-01-01T00:00:00",
          "2020-01-01T00:00:00",
          "2020-01-01T00:00:00",
          "2020-01-01T00:00:00",
          "2020-01-01T00:00:00",
          "2020-01-01T00:00:00",
          "2020-01-01T00:00:00",
          "2020-01-01T00:00:00",
          "2020-01-01T00:00:00",
          "2020-01-01T00:00:00",
          "2020-01-01T00:00:00",
          "2020-01-01T00:00:00",
          "2020-01-01T00:00:00",
          "2020-01-01T00:00:00",
          "2020-01-01T00:00:00",
          "2020-01-01T00:00:00",
          "2020-01-01T00:00:00",
          "2020-01-01T00:00:00",
          "2020-01-01T00:00:00",
          "2020-01-01T00:00:00",
          "2020-01-01T00:00:00",
          "2020-01-01T00:00:00",
          "2020-01-01T00:00:00",
          "2021-01-01T00:00:00",
          "2021-01-01T00:00:00",
          "2021-01-01T00:00:00",
          "2021-01-01T00:00:00",
          "2021-01-01T00:00:00",
          "2021-01-01T00:00:00",
          "2021-01-01T00:00:00",
          "2021-01-01T00:00:00",
          "2021-01-01T00:00:00",
          "2021-01-01T00:00:00",
          "2021-01-01T00:00:00"
         ],
         "customdata": [
          [
           9.4,
           170427,
           "Documentary"
          ],
          [
           8.2,
           29840,
           "Action,Fantasy,Mystery"
          ],
          [
           8.3,
           29260,
           "Crime,Drama,Mystery"
          ],
          [
           8.2,
           23345,
           "Comedy,Drama"
          ],
          [
           9,
           253095,
           "Animation,Crime,Drama"
          ],
          [
           7.9,
           54291,
           "Action,Drama,Mystery"
          ],
          [
           8.1,
           20493,
           "Action,Drama,Thriller"
          ],
          [
           7.4,
           28221,
           "Drama,Mystery,Romance"
          ],
          [
           7.5,
           231012,
           "Drama,Fantasy,Sci-Fi"
          ],
          [
           7.6,
           20252,
           "Drama"
          ],
          [
           7.7,
           38941,
           "Action,Drama,Mystery"
          ],
          [
           7.3,
           21876,
           "Drama"
          ],
          [
           8.6,
           56896,
           "Drama,Sport"
          ],
          [
           8.3,
           20404,
           "Action,Animation,Fantasy"
          ],
          [
           7.9,
           48878,
           "Adventure,Comedy,Drama"
          ],
          [
           8.7,
           53864,
           "Action,Animation,Drama"
          ],
          [
           8.5,
           136990,
           "Comedy"
          ],
          [
           8.2,
           113151,
           "Comedy"
          ],
          [
           8.3,
           86801,
           "Comedy,Crime,Mystery"
          ],
          [
           8.1,
           21901,
           "Adventure,Reality-TV"
          ],
          [
           8.6,
           656064,
           "Crime,Drama,Mystery"
          ],
          [
           7.6,
           23652,
           "Drama,Fantasy,Horror"
          ],
          [
           8.5,
           55989,
           "Comedy,Music,Musical"
          ],
          [
           8.3,
           32804,
           "Crime,Drama,Mystery"
          ],
          [
           8.3,
           54113,
           "Comedy,Drama,Fantasy"
          ],
          [
           7.7,
           23335,
           "Adventure,Comedy,Drama"
          ],
          [
           8.1,
           69756,
           "Drama,History,Romance"
          ],
          [
           7.5,
           23614,
           "Comedy,Drama,Family"
          ],
          [
           7.4,
           157077,
           "Drama,Romance"
          ],
          [
           8.4,
           24888,
           "Crime,Drama,Mystery"
          ],
          [
           8.1,
           28165,
           "Crime,Drama,Mystery"
          ],
          [
           8.2,
           128754,
           "Action,Comedy,Drama"
          ],
          [
           7.3,
           31991,
           "Comedy,Romance"
          ],
          [
           7.9,
           68941,
           "Action,Crime,Drama"
          ],
          [
           8.2,
           76209,
           "Drama"
          ],
          [
           8.3,
           172922,
           "Comedy,Drama"
          ],
          [
           8.6,
           212536,
           "Drama"
          ],
          [
           8,
           36773,
           "Action,Animation,Comedy"
          ],
          [
           8.6,
           90424,
           "Action,Adventure,Animation"
          ],
          [
           8.1,
           734944,
           "Comedy,Romance"
          ],
          [
           8.5,
           29213,
           "Biography,Drama,History"
          ],
          [
           8.5,
           48896,
           "Drama,War"
          ],
          [
           8.5,
           41913,
           "Comedy,Musical,Sci-Fi"
          ],
          [
           7.7,
           57798,
           "Action,Drama,Fantasy"
          ],
          [
           7.6,
           33598,
           "Action,Adventure,Drama"
          ],
          [
           8.4,
           81381,
           "Comedy"
          ],
          [
           7.9,
           43589,
           "Crime,Mystery,Thriller"
          ],
          [
           7.9,
           75010,
           "Adventure,Drama,Fantasy"
          ],
          [
           9.4,
           1514869,
           "Crime,Drama,Thriller"
          ],
          [
           8.4,
           223469,
           "Drama,Mystery,Sci-Fi"
          ],
          [
           7.8,
           24169,
           "Comedy,Drama,Fantasy"
          ],
          [
           7.8,
           231094,
           "Drama,Fantasy,Mystery"
          ],
          [
           8.5,
           266321,
           "Crime,Drama,Thriller"
          ],
          [
           8.1,
           168165,
           "Crime,Drama,Mystery"
          ],
          [
           8.3,
           68639,
           "Action,Adventure,Animation"
          ],
          [
           7.5,
           25488,
           "Drama,Horror,Mystery"
          ],
          [
           9.1,
           38441,
           "Documentary"
          ],
          [
           7.1,
           24085,
           "Action,Drama,Sci-Fi"
          ],
          [
           8.2,
           28269,
           "Comedy,Drama"
          ],
          [
           7.7,
           46803,
           "Drama,Mystery,Sci-Fi"
          ],
          [
           8.2,
           24911,
           "Comedy,Sci-Fi"
          ],
          [
           7.6,
           59361,
           "Drama,Mystery,Sci-Fi"
          ],
          [
           7.9,
           22040,
           "Comedy,Drama,Romance"
          ],
          [
           7.1,
           20959,
           "Comedy,Drama"
          ],
          [
           8,
           112552,
           "Crime,Drama,Mystery"
          ],
          [
           7.9,
           31814,
           "Comedy,Crime,Drama"
          ],
          [
           7.6,
           48064,
           "Drama,Sci-Fi"
          ],
          [
           8.6,
           28496,
           "Crime,Drama,Thriller"
          ],
          [
           9.1,
           129554,
           "Action,Adventure,Animation"
          ],
          [
           8.2,
           52288,
           "Comedy,Drama,Sport"
          ],
          [
           8.4,
           24849,
           "Crime,Drama,Thriller"
          ],
          [
           8.2,
           94751,
           "Comedy,Drama,Fantasy"
          ],
          [
           7.6,
           47922,
           "Drama,Mystery,Sci-Fi"
          ],
          [
           8.2,
           120573,
           "Comedy,Crime,Drama"
          ],
          [
           7.7,
           24989,
           "Comedy,Drama"
          ],
          [
           8.2,
           20276,
           "Action,Adventure,Animation"
          ],
          [
           8.5,
           225980,
           "Comedy"
          ],
          [
           8.2,
           44376,
           "Comedy,Sport"
          ],
          [
           8.1,
           142437,
           "Comedy,Crime,Drama"
          ],
          [
           8.3,
           69115,
           "Crime,Drama,Mystery"
          ],
          [
           7.7,
           289135,
           "Drama,Fantasy,Horror"
          ],
          [
           8.4,
           31501,
           "Action,Adventure,Animation"
          ],
          [
           7.6,
           45777,
           "Comedy"
          ],
          [
           8,
           21390,
           "Action,Adventure,Animation"
          ],
          [
           8.6,
           221514,
           "Comedy"
          ],
          [
           8.4,
           368575,
           "Comedy,Drama,Romance"
          ],
          [
           8.6,
           139941,
           "Action,Animation,Comedy"
          ],
          [
           8.3,
           101949,
           "Action,Adventure,Drama"
          ],
          [
           8.1,
           29278,
           "Drama,History,Romance"
          ],
          [
           8.3,
           49355,
           "Comedy,Sport"
          ],
          [
           8.3,
           30394,
           "Adventure,Comedy,Documentary"
          ],
          [
           8.5,
           226421,
           "Action,Adventure,Biography"
          ],
          [
           7.7,
           49116,
           "Action,Crime,Drama"
          ],
          [
           8.5,
           174660,
           "Crime,Drama,History"
          ],
          [
           7.3,
           27114,
           "Action,Crime,Drama"
          ],
          [
           8,
           35374,
           "Comedy,Family"
          ],
          [
           8.2,
           31442,
           "Comedy,Drama"
          ],
          [
           8.6,
           88618,
           "Action,Crime,Drama"
          ],
          [
           8.5,
           75051,
           "Comedy,Drama"
          ],
          [
           7.5,
           35776,
           "Crime,Drama,Fantasy"
          ],
          [
           8.7,
           167313,
           "Drama,Romance"
          ],
          [
           7.7,
           29089,
           "Action,Drama,Fantasy"
          ],
          [
           7.6,
           30330,
           "Crime,Drama,Mystery"
          ],
          [
           9.1,
           826175,
           "Crime,Drama,Mystery"
          ],
          [
           7.4,
           154324,
           "Drama,Mystery,Romance"
          ],
          [
           8.6,
           79422,
           "Action,Adventure,Animation"
          ],
          [
           8.5,
           123864,
           "Crime,Drama,Mystery"
          ],
          [
           8.8,
           27986,
           "Crime,Drama,Mystery"
          ],
          [
           8.2,
           29664,
           "Action,Drama,Thriller"
          ],
          [
           7.3,
           67793,
           "Action,Crime,Drama"
          ],
          [
           8.2,
           871342,
           "Drama,Horror,Thriller"
          ],
          [
           8.5,
           20601,
           "Drama"
          ],
          [
           7.6,
           33322,
           "Crime,Drama,Mystery"
          ],
          [
           8.1,
           22754,
           "Comedy,Music,Talk-Show"
          ],
          [
           8.6,
           32784,
           "Action,Adventure,Animation"
          ],
          [
           8.5,
           128882,
           "Action,Adventure,Biography"
          ],
          [
           9,
           24164,
           "Documentary"
          ],
          [
           7.2,
           27895,
           "Action,Drama,Sci-Fi"
          ],
          [
           7.3,
           45606,
           "Drama,Fantasy,Horror"
          ],
          [
           9,
           27422,
           "Documentary"
          ],
          [
           7.9,
           48740,
           "Crime,Drama,History"
          ],
          [
           7.5,
           24450,
           "Drama,Fantasy,Horror"
          ],
          [
           8.2,
           100548,
           "Crime,Drama,Mystery"
          ],
          [
           7.8,
           40333,
           "Comedy,Drama,Mystery"
          ],
          [
           7.2,
           30818,
           "Comedy"
          ],
          [
           9.1,
           89920,
           "Adventure,Comedy,Drama"
          ],
          [
           9,
           64107,
           "Action,Adventure,Animation"
          ],
          [
           7.2,
           85948,
           "Action,Adventure,Drama"
          ],
          [
           7.7,
           47591,
           "Comedy,Drama,Romance"
          ],
          [
           7.8,
           113848,
           "Drama,Mystery,Thriller"
          ],
          [
           8.8,
           47658,
           "Animation,Comedy,Drama"
          ],
          [
           7.5,
           42861,
           "Comedy,Drama,Romance"
          ],
          [
           8.3,
           48395,
           "Drama,Western"
          ],
          [
           8.4,
           165259,
           "Action,Crime,Drama"
          ],
          [
           8.9,
           26419,
           "Action,Crime,Drama"
          ],
          [
           7.6,
           130314,
           "Action,Drama,Fantasy"
          ],
          [
           7.8,
           33425,
           "Comedy"
          ],
          [
           8.1,
           46774,
           "Comedy"
          ],
          [
           7.7,
           23528,
           "Drama,Family,Romance"
          ],
          [
           7.8,
           110504,
           "Crime,Drama,Fantasy"
          ],
          [
           9.4,
           32289,
           "Comedy,Fantasy,Music"
          ],
          [
           8.6,
           60445,
           "Crime,Mystery,Thriller"
          ],
          [
           7.7,
           196909,
           "Comedy"
          ],
          [
           7.7,
           210774,
           "Adventure,Fantasy,Romance"
          ],
          [
           9.3,
           1813318,
           "Action,Adventure,Drama"
          ],
          [
           8.4,
           370087,
           "Comedy,Drama"
          ],
          [
           8.2,
           23263,
           "Adventure,Animation,Comedy"
          ],
          [
           7.7,
           34798,
           "Comedy,Romance"
          ],
          [
           8.3,
           319369,
           "Crime,Drama,Mystery"
          ],
          [
           8.5,
           210157,
           "Comedy,Drama"
          ],
          [
           7.5,
           30276,
           "Comedy"
          ],
          [
           8.1,
           67561,
           "Animation,Comedy"
          ],
          [
           8,
           281670,
           "Drama,Horror,Thriller"
          ],
          [
           8.8,
           459456,
           "Drama,Sci-Fi,Thriller"
          ],
          [
           8.5,
           34608,
           "Comedy,Reality-TV"
          ],
          [
           7.9,
           20443,
           "Drama,Fantasy,Mystery"
          ],
          [
           8,
           24980,
           "Drama,History,Romance"
          ],
          [
           7.3,
           34855,
           "Comedy"
          ],
          [
           7.3,
           41795,
           "Drama,Mystery,Sci-Fi"
          ],
          [
           7.4,
           21099,
           "Action,Drama,Mystery"
          ],
          [
           8.5,
           20077,
           "Comedy"
          ],
          [
           8.4,
           107343,
           "Action,Adventure,Animation"
          ],
          [
           8.6,
           106185,
           "Drama"
          ],
          [
           8,
           27094,
           "Comedy,Crime,Drama"
          ],
          [
           8,
           28838,
           "Comedy,Drama"
          ],
          [
           7.6,
           58312,
           "Action,Sci-Fi,Thriller"
          ],
          [
           7.4,
           24049,
           "Comedy,Drama"
          ],
          [
           8.9,
           78583,
           "Adventure,Animation,Comedy"
          ],
          [
           7.1,
           35092,
           "Drama,Horror,Romance"
          ],
          [
           7.3,
           66207,
           "Comedy,Drama"
          ],
          [
           8.3,
           30019,
           "Action,Crime,Drama"
          ],
          [
           7.4,
           28996,
           "Comedy"
          ],
          [
           7.7,
           68033,
           "Drama,Thriller"
          ],
          [
           7.7,
           23380,
           "Drama,Music,Romance"
          ],
          [
           8.3,
           46760,
           "Comedy"
          ],
          [
           7.9,
           102585,
           "Crime,Drama,Mystery"
          ],
          [
           7.5,
           411644,
           "Action,Adventure,Crime"
          ],
          [
           8.4,
           20861,
           "Drama,History"
          ],
          [
           7.6,
           38292,
           "Action,Adventure,Animation"
          ],
          [
           8,
           40634,
           "Action,Drama"
          ],
          [
           8.7,
           42677,
           "Crime,Drama,Mystery"
          ],
          [
           8.5,
           26886,
           "Action,Drama,History"
          ],
          [
           7.8,
           24424,
           "Drama,History,Romance"
          ],
          [
           7.6,
           24478,
           "Comedy,Drama,Fantasy"
          ],
          [
           7.3,
           28275,
           "Drama,Horror,Romance"
          ],
          [
           8.4,
           42476,
           "Drama,Mystery,Sci-Fi"
          ],
          [
           8,
           48149,
           "Action,Crime,Drama"
          ],
          [
           7.2,
           34374,
           "Action,Drama,Sci-Fi"
          ],
          [
           7.4,
           84267,
           "Crime,Drama,Horror"
          ],
          [
           8,
           74034,
           "Adventure,Biography,Drama"
          ],
          [
           8.5,
           233017,
           "Crime,Drama,Horror"
          ],
          [
           7.1,
           37406,
           "Drama,Horror,Mystery"
          ],
          [
           8.4,
           89628,
           "Action,Crime,Drama"
          ],
          [
           7.9,
           35117,
           "Drama,Romance"
          ],
          [
           8.3,
           25011,
           "Drama"
          ],
          [
           7.8,
           22219,
           "Comedy,Drama,Mystery"
          ],
          [
           8.1,
           87362,
           "Crime,Drama,Thriller"
          ],
          [
           7.5,
           32860,
           "Crime,Drama,Mystery"
          ],
          [
           8.1,
           98772,
           "Drama,Horror,Mystery"
          ],
          [
           8.3,
           103098,
           "Action,Drama,Sci-Fi"
          ],
          [
           8.4,
           98217,
           "Crime,Drama,Mystery"
          ],
          [
           8.9,
           20975,
           "Comedy,Documentary"
          ],
          [
           7.4,
           57863,
           "Action,Adventure,Crime"
          ],
          [
           7.5,
           44397,
           "Drama,Fantasy"
          ],
          [
           8.7,
           472544,
           "Drama"
          ],
          [
           8.4,
           87050,
           "Crime,Drama,Mystery"
          ],
          [
           7.9,
           25241,
           "Drama,Romance"
          ],
          [
           8.2,
           120516,
           "Drama,Fantasy,Horror"
          ],
          [
           8,
           282042,
           "Comedy,Crime,Drama"
          ],
          [
           8.3,
           78584,
           "Crime,Drama"
          ],
          [
           8.5,
           448576,
           "Action,Adventure,Drama"
          ],
          [
           7.5,
           203056,
           "Action,Adventure,Drama"
          ],
          [
           8.2,
           26907,
           "Action,Adventure,Animation"
          ],
          [
           9,
           229925,
           "Action,Adventure,Animation"
          ],
          [
           7.2,
           29622,
           "Comedy,Drama,Romance"
          ],
          [
           8.8,
           374509,
           "Crime,Drama"
          ],
          [
           8.4,
           239575,
           "Comedy,Crime"
          ],
          [
           8.1,
           32421,
           "Comedy"
          ],
          [
           8,
           205760,
           "Crime,Drama,Mystery"
          ],
          [
           9.2,
           391591,
           "Adventure,Animation,Comedy"
          ],
          [
           8.3,
           43628,
           "Action,Crime,Drama"
          ],
          [
           9.3,
           113116,
           "Documentary"
          ],
          [
           8.8,
           42729,
           "Adventure,Animation,Drama"
          ],
          [
           7.8,
           39710,
           "Action,Animation,Drama"
          ],
          [
           8.5,
           44636,
           "Drama,History"
          ],
          [
           8.3,
           27753,
           "Action,Animation,Horror"
          ],
          [
           8.3,
           53946,
           "Crime,Drama,Fantasy"
          ],
          [
           7.5,
           49803,
           "Drama,Fantasy,Horror"
          ],
          [
           8,
           66080,
           "Adventure,Drama,History"
          ],
          [
           7.8,
           22163,
           "Action,Drama,Thriller"
          ],
          [
           8.2,
           113728,
           "Drama,Fantasy,Horror"
          ],
          [
           7.8,
           20980,
           "Adventure,Drama"
          ],
          [
           8.2,
           22683,
           "Crime,Drama,Mystery"
          ],
          [
           8.6,
           23585,
           "Comedy,Romance"
          ],
          [
           8.2,
           95345,
           "Adventure,Drama"
          ],
          [
           8.4,
           29253,
           "Drama"
          ],
          [
           7.3,
           76124,
           "Drama,Fantasy,Horror"
          ],
          [
           8.3,
           83197,
           "Drama,Fantasy,Mystery"
          ],
          [
           7.2,
           22348,
           "Drama,Fantasy,Horror"
          ],
          [
           7.5,
           54989,
           "Action,Drama,Sci-Fi"
          ],
          [
           8,
           33441,
           "Action,Adventure,Animation"
          ],
          [
           8.1,
           23225,
           "Comedy,Drama,Music"
          ],
          [
           7.1,
           47730,
           "Action,Crime,Drama"
          ],
          [
           8.9,
           508888,
           "Crime,Drama,Mystery"
          ],
          [
           8.5,
           129767,
           "Comedy"
          ],
          [
           8.4,
           27449,
           "Comedy"
          ],
          [
           7.9,
           41431,
           "Drama"
          ],
          [
           8.1,
           23835,
           "Comedy,Drama,Romance"
          ],
          [
           7.6,
           20381,
           "Drama"
          ],
          [
           7.7,
           21450,
           "Comedy,Drama"
          ],
          [
           7.8,
           40253,
           "Comedy"
          ],
          [
           7.8,
           214403,
           "Action,Crime,Drama"
          ],
          [
           8,
           29980,
           "Action,Adventure,Drama"
          ],
          [
           7.6,
           222650,
           "Drama,Mystery,Sci-Fi"
          ],
          [
           8.1,
           133553,
           "Crime,Drama,Mystery"
          ],
          [
           8.1,
           40632,
           "Crime,Drama"
          ],
          [
           8.7,
           119350,
           "Animation,Comedy,Drama"
          ],
          [
           8.6,
           31240,
           "Crime,Drama,Thriller"
          ],
          [
           8.9,
           335612,
           "Crime,Drama,Thriller"
          ],
          [
           8.1,
           29526,
           "Action,Crime,Drama"
          ],
          [
           8.4,
           131433,
           "Drama,Fantasy,Romance"
          ],
          [
           7.7,
           312857,
           "Action,Adventure,Drama"
          ],
          [
           8.4,
           34572,
           "Crime,Drama"
          ],
          [
           7.1,
           20381,
           "Comedy"
          ],
          [
           8.4,
           48892,
           "Crime,Drama"
          ],
          [
           8.9,
           80840,
           "Comedy,News,Talk-Show"
          ],
          [
           8,
           24851,
           "Action,Adventure,Animation"
          ],
          [
           7.9,
           34230,
           "Crime,Drama,Mystery"
          ],
          [
           8,
           21032,
           "Crime,Drama,Mystery"
          ],
          [
           8.7,
           40482,
           "Crime,Documentary,Mystery"
          ],
          [
           7.4,
           22590,
           "Comedy"
          ],
          [
           9.1,
           60535,
           "Comedy,Drama"
          ],
          [
           7.4,
           52478,
           "Drama,Mystery,Sci-Fi"
          ],
          [
           7.9,
           75174,
           "Action,Adventure,Sci-Fi"
          ],
          [
           7.1,
           35373,
           "Comedy,Horror,Mystery"
          ],
          [
           7.7,
           62755,
           "Comedy,Crime,Drama"
          ],
          [
           8.8,
           368554,
           "Biography,Crime,Drama"
          ],
          [
           7.9,
           45129,
           "Drama,Thriller"
          ],
          [
           7.5,
           39457,
           "Adventure,Drama,Mystery"
          ],
          [
           8.6,
           28924,
           "Drama,Romance"
          ],
          [
           8.3,
           142213,
           "Drama,Mystery,Sci-Fi"
          ],
          [
           7.7,
           41350,
           "Adventure,Drama,Mystery"
          ],
          [
           7.3,
           53765,
           "Action,Comedy,Drama"
          ],
          [
           8.6,
           369513,
           "Action,Crime,Drama"
          ],
          [
           7.4,
           20226,
           "Drama,Horror,Mystery"
          ],
          [
           8,
           36910,
           "Drama,Sci-Fi"
          ],
          [
           8.4,
           66072,
           "Comedy,Horror"
          ],
          [
           8.4,
           24810,
           "Action,Adventure,Animation"
          ],
          [
           8.6,
           88152,
           "Crime,Documentary"
          ],
          [
           8,
           90013,
           "Drama,Sci-Fi,Thriller"
          ],
          [
           7.9,
           195830,
           "Action,Crime,Drama"
          ],
          [
           7.6,
           38863,
           "Comedy,Drama,Sport"
          ],
          [
           7.6,
           64656,
           "Comedy"
          ],
          [
           7.8,
           61411,
           "Comedy,Crime,Drama"
          ],
          [
           8.3,
           26979,
           "Drama,History,Romance"
          ],
          [
           8,
           42381,
           "Action,Adventure,Drama"
          ],
          [
           7.2,
           34732,
           "Comedy,Crime,Drama"
          ],
          [
           7.2,
           20521,
           "Action,Adventure,Sci-Fi"
          ],
          [
           8.5,
           340828,
           "Crime,Drama,Thriller"
          ],
          [
           8.1,
           31581,
           "Crime"
          ],
          [
           7.4,
           37792,
           "Drama,Music"
          ],
          [
           8.5,
           82400,
           "Comedy"
          ],
          [
           7.8,
           22879,
           "Comedy"
          ],
          [
           7.6,
           45055,
           "Drama,Fantasy,Mystery"
          ],
          [
           7.4,
           67444,
           "Action,Crime,Drama"
          ],
          [
           7.8,
           33070,
           "Comedy"
          ],
          [
           8.7,
           338318,
           "Crime,Drama"
          ],
          [
           8.5,
           116230,
           "Drama,Mystery,Sci-Fi"
          ],
          [
           8.3,
           40311,
           "Comedy"
          ],
          [
           8.4,
           90697,
           "Action,Drama,History"
          ],
          [
           8,
           30438,
           "Animation,Comedy,Drama"
          ],
          [
           8.8,
           123555,
           "Action,Animation,Comedy"
          ],
          [
           8.2,
           20767,
           "Action,Drama,Thriller"
          ],
          [
           8.3,
           68288,
           "Comedy,Drama"
          ],
          [
           8.1,
           75432,
           "Crime,Drama,Mystery"
          ],
          [
           8.5,
           126038,
           "Crime,Drama,Mystery"
          ],
          [
           8.2,
           75222,
           "Drama,Mystery,Sci-Fi"
          ],
          [
           7.8,
           22068,
           "Drama,Music"
          ],
          [
           8.4,
           39604,
           "Drama"
          ],
          [
           8.2,
           21329,
           "Drama,History,Romance"
          ],
          [
           8.5,
           32870,
           "Animation,Drama,Fantasy"
          ],
          [
           7.6,
           32035,
           "Comedy,Drama"
          ],
          [
           9.5,
           101252,
           "Documentary"
          ],
          [
           8.4,
           23596,
           "Documentary,Short"
          ],
          [
           7.2,
           55252,
           "Adventure,Fantasy,Sci-Fi"
          ],
          [
           8.3,
           44388,
           "Action,Adventure,Comedy"
          ],
          [
           8.3,
           21294,
           "Drama,Music,Musical"
          ],
          [
           7.3,
           118693,
           "Action,Crime,Drama"
          ],
          [
           8,
           21901,
           "Comedy"
          ],
          [
           7.7,
           38165,
           "Comedy,Drama,Romance"
          ],
          [
           7.5,
           32429,
           "Action,Drama"
          ],
          [
           7.4,
           31775,
           "Action,Adventure,Drama"
          ],
          [
           8,
           26067,
           "Drama,Horror,Mystery"
          ],
          [
           7.7,
           38077,
           "Action,Adventure,Drama"
          ],
          [
           8.1,
           47793,
           "Drama,Mystery,Sci-Fi"
          ],
          [
           7.8,
           93062,
           "Drama,Fantasy,Mystery"
          ],
          [
           8,
           69130,
           "Adventure,Drama,Fantasy"
          ],
          [
           7.9,
           35581,
           "Action,Comedy,Crime"
          ],
          [
           7.5,
           79834,
           "Action,Drama,Mystery"
          ],
          [
           8.7,
           110817,
           "Comedy,Drama"
          ],
          [
           7.4,
           22530,
           "Action,Drama,Sci-Fi"
          ],
          [
           8.2,
           122222,
           "Comedy,Drama,Fantasy"
          ],
          [
           7.5,
           34584,
           "Comedy,Drama,Western"
          ],
          [
           7.9,
           21283,
           "Action,Crime,Drama"
          ],
          [
           7.5,
           20137,
           "Action,Drama,Fantasy"
          ],
          [
           8.6,
           437774,
           "Drama,Mystery,Sci-Fi"
          ],
          [
           8.4,
           81746,
           "Biography,Crime,Drama"
          ],
          [
           8.1,
           245127,
           "Crime,Drama,Fantasy"
          ],
          [
           8.4,
           72150,
           "Drama"
          ],
          [
           8.6,
           54642,
           "Comedy,Drama,Music"
          ],
          [
           8.7,
           856437,
           "Drama,Fantasy,Horror"
          ],
          [
           8.1,
           34693,
           "Drama"
          ],
          [
           8.6,
           164407,
           "Biography,Drama,History"
          ],
          [
           8.2,
           23401,
           "Biography,Drama,History"
          ],
          [
           7.4,
           25603,
           "Crime,Drama,Mystery"
          ],
          [
           8.7,
           113053,
           "Comedy,Drama,Romance"
          ],
          [
           8.2,
           25024,
           "Crime,Drama"
          ],
          [
           8.5,
           40754,
           "Action,Adventure,Animation"
          ],
          [
           8.7,
           65122,
           "Comedy,Talk-Show"
          ],
          [
           7.7,
           27447,
           "Biography,Crime,Drama"
          ],
          [
           9.1,
           21227,
           "Documentary,History,War"
          ],
          [
           8.5,
           59185,
           "Crime,Drama,Fantasy"
          ],
          [
           7.3,
           93013,
           "Action,Adventure,Crime"
          ],
          [
           8.3,
           55495,
           "Drama,Western"
          ],
          [
           9.3,
           34924,
           "Documentary"
          ],
          [
           8.2,
           27456,
           "Comedy,Crime,Drama"
          ],
          [
           8.2,
           34166,
           "Action,Comedy,Crime"
          ],
          [
           8.5,
           163343,
           "Crime,Drama,Mystery"
          ],
          [
           7.3,
           31834,
           "Action,Drama,Fantasy"
          ],
          [
           8.1,
           23003,
           "Drama,Sci-Fi,Thriller"
          ],
          [
           7.8,
           54890,
           "Adventure,Comedy,Drama"
          ],
          [
           8.1,
           25584,
           "Drama"
          ],
          [
           8.2,
           83874,
           "Action,Drama,Sci-Fi"
          ],
          [
           8.6,
           228068,
           "Crime,Drama,Thriller"
          ],
          [
           8.7,
           41329,
           "Drama,Family"
          ],
          [
           7.8,
           58801,
           "Comedy,Horror"
          ],
          [
           8.5,
           190249,
           "Action,Crime,Drama"
          ],
          [
           8,
           41316,
           "Comedy,Drama,Sport"
          ],
          [
           8.1,
           152914,
           "Adventure,Comedy,Crime"
          ],
          [
           7.6,
           261561,
           "Drama,Mystery,Thriller"
          ],
          [
           7.7,
           22154,
           "Action,Adventure,Comedy"
          ],
          [
           8.8,
           301402,
           "Crime,Drama,Mystery"
          ],
          [
           7.8,
           78764,
           "Drama,Fantasy,Mystery"
          ],
          [
           8.3,
           63633,
           "Comedy,Drama"
          ],
          [
           8.2,
           45798,
           "Action,Adventure,Animation"
          ],
          [
           8.4,
           117860,
           "Drama,Mystery,Thriller"
          ],
          [
           8.4,
           20187,
           "Crime,Drama,Thriller"
          ],
          [
           8.4,
           198898,
           "Crime,Drama,Thriller"
          ],
          [
           7.2,
           99375,
           "Action,Adventure,Drama"
          ],
          [
           8.1,
           53295,
           "Biography,Crime,Drama"
          ],
          [
           8,
           60517,
           "Adventure,Comedy,Drama"
          ],
          [
           8.7,
           84790,
           "Comedy,Drama"
          ],
          [
           8.4,
           183112,
           "Drama,Sci-Fi,Thriller"
          ],
          [
           8.3,
           21008,
           "Crime,Drama"
          ],
          [
           7.9,
           94476,
           "Crime,Drama,Mystery"
          ],
          [
           7.5,
           37652,
           "Comedy"
          ],
          [
           8.3,
           324328,
           "Action,Crime,Mystery"
          ],
          [
           8.1,
           66712,
           "Drama"
          ],
          [
           7.9,
           59731,
           "Animation,Comedy,Romance"
          ],
          [
           8.1,
           76376,
           "Crime,Drama,Mystery"
          ],
          [
           7.8,
           68001,
           "Comedy,Drama,Sci-Fi"
          ],
          [
           8.1,
           25480,
           "Drama"
          ],
          [
           8.6,
           189881,
           "Drama,Horror,Mystery"
          ],
          [
           8.1,
           99630,
           "Crime,Drama,Thriller"
          ],
          [
           8.2,
           25954,
           "Crime,Documentary"
          ],
          [
           7.3,
           33916,
           "Crime,Drama,Mystery"
          ],
          [
           9.1,
           33718,
           "Crime,Drama,Mystery"
          ],
          [
           7.5,
           24457,
           "Crime,Documentary"
          ],
          [
           9.1,
           21137,
           "Comedy,Drama,Family"
          ],
          [
           8,
           39722,
           "Adventure,Drama,History"
          ],
          [
           8.6,
           78040,
           "Action,Crime,Drama"
          ],
          [
           7.6,
           39791,
           "Drama,Fantasy,Horror"
          ],
          [
           8,
           146427,
           "Action,Drama,Sci-Fi"
          ],
          [
           7.7,
           47498,
           "Crime,Drama,Mystery"
          ],
          [
           7.5,
           80689,
           "Drama,Fantasy,Horror"
          ],
          [
           8.2,
           25687,
           "Comedy,Drama"
          ],
          [
           8.6,
           21192,
           "Drama"
          ],
          [
           7.7,
           70093,
           "Action,Adventure,Crime"
          ],
          [
           8,
           35117,
           "Drama,Fantasy,Romance"
          ],
          [
           8.6,
           36470,
           "Drama,Western"
          ],
          [
           8.1,
           94249,
           "Action,Drama,Thriller"
          ],
          [
           7.3,
           75082,
           "Adventure,Drama,Family"
          ],
          [
           8.3,
           49036,
           "Action,Comedy,Crime"
          ],
          [
           7.2,
           49530,
           "Action,Adventure,Animation"
          ],
          [
           8.3,
           35005,
           "Action,Adventure,Animation"
          ],
          [
           8.4,
           55379,
           "Action,Crime,Drama"
          ],
          [
           7.8,
           36427,
           "Comedy,Crime,Drama"
          ],
          [
           8.4,
           35626,
           "Crime,Drama,Thriller"
          ],
          [
           7.5,
           21863,
           "Drama,Mystery,Thriller"
          ],
          [
           8.2,
           90756,
           "Action,Adventure,Drama"
          ],
          [
           8.4,
           22969,
           "Comedy"
          ],
          [
           7.5,
           52713,
           "Crime,Drama,Thriller"
          ],
          [
           8.6,
           118207,
           "Action,Comedy,Drama"
          ],
          [
           7.7,
           23797,
           "Action,Drama,Thriller"
          ],
          [
           7.7,
           151882,
           "Crime,Drama,Romance"
          ],
          [
           8,
           22939,
           "Comedy,Crime,Drama"
          ],
          [
           8.6,
           51922,
           "Drama"
          ],
          [
           8.1,
           25177,
           "Drama"
          ],
          [
           9.2,
           23880,
           "Comedy,Drama,Romance"
          ],
          [
           7.4,
           21152,
           "Adventure,Drama,Fantasy"
          ],
          [
           7.2,
           24032,
           "Drama,Mystery,Sci-Fi"
          ],
          [
           8.4,
           63286,
           "Crime,Drama"
          ],
          [
           8.9,
           23370,
           "Comedy,Drama,Romance"
          ],
          [
           8,
           41155,
           "Crime,Documentary"
          ],
          [
           8.1,
           63001,
           "Comedy,Fantasy"
          ],
          [
           7.9,
           34435,
           "Drama,History"
          ],
          [
           8.4,
           22041,
           "Adventure,Drama,Family"
          ],
          [
           8.2,
           97174,
           "Action,Drama,Mystery"
          ],
          [
           8.9,
           98634,
           "Biography,Crime,Drama"
          ],
          [
           9.4,
           575486,
           "Drama,History,Thriller"
          ],
          [
           8.4,
           78173,
           "Crime,Drama"
          ],
          [
           7.5,
           21386,
           "Action,Adventure,Drama"
          ],
          [
           8,
           20874,
           "Biography,Crime,Drama"
          ],
          [
           8.3,
           24343,
           "Drama,Sci-Fi"
          ],
          [
           7.1,
           21605,
           "Drama,Mystery,Sci-Fi"
          ],
          [
           9.3,
           35300,
           "Documentary"
          ],
          [
           7.8,
           24981,
           "Biography,Crime,Documentary"
          ],
          [
           9.2,
           48317,
           "Comedy,Drama"
          ],
          [
           8.5,
           26410,
           "Adventure,Animation,Drama"
          ],
          [
           7.9,
           48778,
           "Crime,Drama,Fantasy"
          ],
          [
           8.7,
           273416,
           "Action,Comedy,Crime"
          ],
          [
           8,
           168676,
           "Action,Adventure,Comedy"
          ],
          [
           8.2,
           317548,
           "Action,Adventure,Fantasy"
          ],
          [
           7.9,
           54798,
           "Adventure,Drama,Family"
          ],
          [
           8.4,
           32033,
           "Action,Drama,History"
          ],
          [
           7.5,
           27325,
           "Action,Drama"
          ],
          [
           8.4,
           57947,
           "Drama"
          ],
          [
           7.9,
           70110,
           "Adventure,Comedy,Drama"
          ],
          [
           8.3,
           168810,
           "Comedy,Drama"
          ],
          [
           8.5,
           39448,
           "Comedy,Fantasy,Horror"
          ],
          [
           7.6,
           44794,
           "Action,Drama,Sci-Fi"
          ],
          [
           8,
           59256,
           "Comedy,Drama"
          ],
          [
           7.5,
           23343,
           "Drama,Horror,Mystery"
          ],
          [
           8.8,
           321080,
           "Action,Adventure,Sci-Fi"
          ],
          [
           8.6,
           24521,
           "Documentary,Sport"
          ],
          [
           8.4,
           89319,
           "Comedy,Drama"
          ],
          [
           7.9,
           36547,
           "Action,Adventure,Comedy"
          ],
          [
           8,
           22883,
           "Comedy,Romance"
          ],
          [
           8.4,
           70882,
           "Drama"
          ],
          [
           7.2,
           26314,
           "Comedy,Drama,Sci-Fi"
          ],
          [
           7.5,
           22448,
           "Drama,Romance"
          ],
          [
           7.9,
           21835,
           "Comedy,Crime,Drama"
          ],
          [
           8.7,
           38914,
           "Action,Animation,Fantasy"
          ],
          [
           8.6,
           37093,
           "Action,Comedy,Drama"
          ],
          [
           8.5,
           111140,
           "Animation,Comedy,Fantasy"
          ],
          [
           8.6,
           314001,
           "Drama"
          ],
          [
           7.4,
           74814,
           "Drama,Horror,Mystery"
          ],
          [
           7.6,
           68738,
           "Biography,Crime,Documentary"
          ],
          [
           9.5,
           101132,
           "Biography,Crime,Drama"
          ],
          [
           7.7,
           20923,
           "Crime,Drama,Mystery"
          ],
          [
           7.9,
           37631,
           "Crime,Drama,Mystery"
          ],
          [
           7.6,
           39021,
           "Drama,Mystery,Thriller"
          ],
          [
           7.7,
           31002,
           "Drama"
          ],
          [
           7.7,
           29777,
           "Drama,Mystery,Sci-Fi"
          ],
          [
           7.4,
           66429,
           "Crime,Drama,Mystery"
          ],
          [
           9.1,
           88573,
           "Biography,Documentary,History"
          ],
          [
           7.7,
           65918,
           "Crime,Drama,Fantasy"
          ],
          [
           8.5,
           44230,
           "Drama,Romance"
          ],
          [
           7.5,
           44735,
           "Comedy,Sci-Fi"
          ],
          [
           7.3,
           37334,
           "Crime,Drama,Mystery"
          ],
          [
           8,
           62432,
           "Drama"
          ],
          [
           7.5,
           31227,
           "Drama"
          ],
          [
           7.6,
           33604,
           "Crime,Drama,Thriller"
          ],
          [
           7.9,
           27009,
           "Comedy"
          ],
          [
           7.6,
           21413,
           "Action,Crime,Drama"
          ],
          [
           7.7,
           20735,
           "Action,Fantasy,Mystery"
          ],
          [
           7.1,
           22354,
           "Drama,Sci-Fi,Thriller"
          ],
          [
           8.7,
           52892,
           "Comedy,Drama,Sport"
          ],
          [
           8.6,
           22610,
           "Drama,Thriller"
          ],
          [
           8.6,
           20830,
           "Action,Crime,Thriller"
          ],
          [
           8.5,
           30475,
           "Crime,Drama,Mystery"
          ],
          [
           8.8,
           38545,
           "Comedy,Drama"
          ],
          [
           8.5,
           68547,
           "Drama,Fantasy,Horror"
          ],
          [
           8.1,
           20959,
           "Biography,Comedy,Drama"
          ],
          [
           7.4,
           44971,
           "Drama,Fantasy,Horror"
          ],
          [
           7.1,
           31680,
           "Drama,Fantasy,Horror"
          ],
          [
           7.3,
           42615,
           "Crime,Drama,Mystery"
          ],
          [
           7.2,
           32856,
           "Crime,Drama,Mystery"
          ],
          [
           7.1,
           29458,
           "Comedy,Drama,Mystery"
          ],
          [
           8.1,
           22367,
           "Action,Crime,Drama"
          ],
          [
           8,
           43962,
           "Comedy,Mystery,Sci-Fi"
          ],
          [
           7.3,
           78705,
           "Drama,Romance"
          ],
          [
           7.5,
           46171,
           "Action,Adventure,Drama"
          ],
          [
           7.6,
           52148,
           "Drama,Fantasy,Sci-Fi"
          ],
          [
           7.5,
           21934,
           "Drama,Fantasy,Mystery"
          ],
          [
           7.8,
           43104,
           "Crime,Drama,Thriller"
          ],
          [
           7.7,
           27733,
           "Crime,Drama,Thriller"
          ],
          [
           8.8,
           20553,
           "Comedy,Drama,History"
          ],
          [
           8.1,
           171697,
           "Action,Comedy,Drama"
          ],
          [
           7.5,
           101293,
           "Action,Adventure,Drama"
          ],
          [
           7.2,
           42990,
           "Drama,Mystery,Thriller"
          ],
          [
           7.5,
           31772,
           "Comedy,Drama"
          ],
          [
           9,
           259436,
           "Drama"
          ],
          [
           7.8,
           45885,
           "Action,Adventure,Drama"
          ],
          [
           7.6,
           63444,
           "Action,Crime,Drama"
          ],
          [
           8.8,
           51895,
           "Action,Adventure,Animation"
          ],
          [
           8.2,
           20009,
           "Comedy,Drama,Mystery"
          ]
         ],
         "hovertemplate": "<b>%{hovertext}</b><br><br>startYear=%{base}<br>endYear=%{x}<br>title_and_tconst=%{y}<br>averageRating=%{marker.color}<br>numVotes=%{customdata[1]}<br>genres=%{customdata[2]}<extra></extra>",
         "hovertext": [
          "Planet Earth",
          "The Lost Room",
          "Life on Mars",
          "Studio 60 on the Sunset Strip",
          "Death Note",
          "Jericho",
          "The Unit",
          "Kyle XY",
          "Heroes",
          "Big Love",
          "Torchwood",
          "Brothers & Sisters",
          "Friday Night Lights",
          "Hellsing Ultimate",
          "Eureka",
          "Code Geass",
          "The IT Crowd",
          "30 Rock",
          "Psych",
          "Man vs. Wild",
          "Dexter",
          "Moonlight",
          "Flight of the Conchords",
          "Life",
          "Pushing Daisies",
          "Reaper",
          "The Tudors",
          "Greek",
          "Gossip Girl",
          "Forbrydelsen",
          "Damages",
          "Chuck",
          "Rules of Engagement",
          "Burn Notice",
          "Skins",
          "Californication",
          "Mad Men",
          "Phineas and Ferb",
          "Naruto: Shippûden",
          "The Big Bang Theory",
          "John Adams",
          "Generation Kill",
          "Dr. Horrible's Sing-Along Blog",
          "Terminator: The Sarah Connor Chronicles",
          "Legend of the Seeker",
          "The Inbetweeners",
          "Leverage",
          "Merlin",
          "Breaking Bad",
          "Fringe",
          "Being Human",
          "True Blood",
          "Sons of Anarchy",
          "The Mentalist",
          "Star Wars: The Clone Wars",
          "Harper's Island",
          "Life",
          "Caprica",
          "Party Down",
          "Dollhouse",
          "Better Off Ted",
          "FlashForward",
          "United States of Tara",
          "Hung",
          "Lie to Me",
          "Bored to Death",
          "Stargate Universe",
          "Ezel",
          "Fullmetal Alchemist: Brotherhood",
          "Eastbound & Down",
          "Southland",
          "Misfits",
          "Warehouse 13",
          "White Collar",
          "Nurse Jackie",
          "Dragon Ball Z Kai",
          "Community",
          "The League",
          "Castle",
          "The Good Wife",
          "The Vampire Diaries",
          "Regular Show",
          "The Middle",
          "Fairy Tail",
          "Parks and Recreation",
          "Modern Family",
          "Archer",
          "The Pacific",
          "The Pillars of the Earth",
          "Blue Mountain State",
          "An Idiot Abroad",
          "Spartacus",
          "Nikita",
          "Boardwalk Empire",
          "Covert Affairs",
          "Raising Hope",
          "Parenthood",
          "Justified",
          "Louie",
          "Haven",
          "Downton Abbey",
          "Lost Girl",
          "Rizzoli & Isles",
          "Sherlock",
          "Pretty Little Liars",
          "Adventure Time",
          "Luther",
          "Behzat Ç.: Bir Ankara Polisiyesi",
          "Strike Back",
          "Hawaii Five-0",
          "The Walking Dead",
          "Borgen",
          "Blue Bloods",
          "Conan",
          "Young Justice",
          "Spartacus: Gods of the Arena",
          "Human Planet",
          "Alphas",
          "The Secret Circle",
          "Frozen Planet",
          "The Borgias",
          "Being Human",
          "The Killing",
          "Wilfred",
          "Suburgatory",
          "Leyla and Mecnun",
          "Hunter x Hunter",
          "Falling Skies",
          "Hart of Dixie",
          "Revenge",
          "Steins;Gate",
          "Awkward.",
          "Hell on Wheels",
          "Person of Interest",
          "Undercover",
          "Teen Wolf",
          "Episodes",
          "Workaholics",
          "Switched at Birth",
          "Grimm",
          "The Filthy Frank Show",
          "Bron/Broen",
          "New Girl",
          "Once Upon a Time",
          "Game of Thrones",
          "Suits",
          "The Amazing World of Gumball",
          "Happy Endings",
          "Homeland",
          "Shameless",
          "Last Man Standing",
          "Bob's Burgers",
          "American Horror Story",
          "Black Mirror",
          "Impractical Jokers",
          "Awake",
          "Hatfields & McCoys",
          "Don't Trust the B---- in Apartment 23",
          "Touch",
          "Last Resort",
          "Isler Güçler",
          "The Legend of Korra",
          "The Newsroom",
          "Lilyhammer",
          "Derek",
          "Continuum",
          "House of Lies",
          "Gravity Falls",
          "Beauty and the Beast",
          "Girls",
          "Longmire",
          "The Mindy Project",
          "Scandal",
          "Nashville",
          "Veep",
          "Elementary",
          "Arrow",
          "Call the Midwife",
          "Sword Art Online",
          "Chicago Fire",
          "Line of Duty",
          "Generation War",
          "The White Queen",
          "Witches of East End",
          "Dracula",
          "Utopia",
          "Almost Human",
          "The Tomorrow People",
          "The Following",
          "Da Vinci's Demons",
          "Hannibal",
          "Hemlock Grove",
          "Banshee",
          "Masters of Sex",
          "Rectify",
          "Devious Maids",
          "The Fall",
          "Top of the Lake",
          "Bates Motel",
          "Orphan Black",
          "Broadchurch",
          "Nathan for You",
          "Sleepy Hollow",
          "Reign",
          "House of Cards",
          "The Americans",
          "The Fosters",
          "The Originals",
          "Orange Is the New Black",
          "Ray Donovan",
          "Vikings",
          "Agents of S.H.I.E.L.D.",
          "Steven Universe",
          "Attack on Titan",
          "Mom",
          "Peaky Blinders",
          "Brooklyn Nine-Nine",
          "The Goldbergs",
          "The Blacklist",
          "Rick and Morty",
          "24: Live Another Day",
          "Cosmos",
          "Over the Garden Wall",
          "Tokyo Ghoul",
          "The Knick",
          "Parasyte: The Maxim",
          "Forever",
          "Constantine",
          "Marco Polo",
          "Tyrant",
          "Penny Dreadful",
          "The Musketeers",
          "The Missing",
          "Permanent Roommates",
          "Black Sails",
          "Halt and Catch Fire",
          "The Strain",
          "The Leftovers",
          "Salem",
          "The Last Ship",
          "Star Wars Rebels",
          "Mozart in the Jungle",
          "Scorpion",
          "True Detective",
          "Silicon Valley",
          "Broad City",
          "The Affair",
          "You're the Worst",
          "Madam Secretary",
          "Transparent",
          "Jane the Virgin",
          "Gotham",
          "Dirilis: Ertugrul",
          "The 100",
          "How to Get Away with Murder",
          "Power",
          "BoJack Horseman",
          "Gomorrah",
          "Fargo",
          "Chicago P.D.",
          "Outlander",
          "The Flash",
          "Happy Valley",
          "Black-ish",
          "Bosch",
          "Last Week Tonight with John Oliver",
          "The Seven Deadly Sins",
          "And Then There Were None",
          "River",
          "The Jinx: The Life and Deaths of Robert Durst",
          "Wet Hot American Summer: First Day of Camp",
          "TVF Pitchers",
          "Wayward Pines",
          "Agent Carter",
          "Scream Queens",
          "Limitless",
          "Narcos",
          "Bloodline",
          "Dark Matter",
          "Skam",
          "Sense8",
          "12 Monkeys",
          "The Last Man on Earth",
          "Daredevil",
          "Fortitude",
          "Humans",
          "Ash vs Evil Dead",
          "Dragon Ball Super",
          "Making a Murderer",
          "The Man in the High Castle",
          "Jessica Jones",
          "Ballers",
          "Unbreakable Kimmy Schmidt",
          "iZombie",
          "Poldark",
          "Into the Badlands",
          "Scream: The TV Series",
          "Killjoys",
          "Mr. Robot",
          "Sneaky Pete",
          "Empire",
          "Schitt's Creek",
          "Fresh Off the Boat",
          "The Magicians",
          "Blindspot",
          "Superstore",
          "Better Call Saul",
          "The Expanse",
          "Grace and Frankie",
          "The Last Kingdom",
          "F Is for Family",
          "One Punch Man",
          "Fauda",
          "Master of None",
          "The Night Manager",
          "The Night Of",
          "11.22.63",
          "Vinyl",
          "The Young Pope",
          "War & Peace",
          "Erased",
          "Gilmore Girls: A Year in the Life",
          "Planet Earth II",
          "Inside Look: The People v. O.J. Simpson - American Crime Story",
          "The Shannara Chronicles",
          "Dirk Gently's Holistic Detective Agency",
          "The Get Down",
          "Luke Cage",
          "Vice Principals",
          "Love",
          "Shooter",
          "Colony",
          "The Exorcist",
          "Timeless",
          "Travelers",
          "The OA",
          "Preacher",
          "Lethal Weapon",
          "Designated Survivor",
          "Fleabag",
          "3%",
          "The Good Place",
          "The Ranch",
          "Queen of the South",
          "Wynonna Earp",
          "Westworld",
          "American Crime Story",
          "Lucifer",
          "Billions",
          "Atlanta",
          "Stranger Things",
          "Goliath",
          "The Crown",
          "Victoria",
          "Marcella",
          "This Is Us",
          "Animal Kingdom",
          "My Hero Academia",
          "The Grand Tour",
          "Alias Grace",
          "The Vietnam War",
          "Twin Peaks",
          "The Defenders",
          "Godless",
          "Blue Planet II",
          "American Vandal",
          "Happy!",
          "Big Little Lies",
          "The Gifted",
          "Counterpart",
          "A Series of Unfortunate Events",
          "The Deuce",
          "Legion",
          "Mindhunter",
          "Anne with an E",
          "Santa Clarita Diet",
          "The Punisher",
          "GLOW",
          "The End of the F***ing World",
          "13 Reasons Why",
          "Future Man",
          "Dark",
          "American Gods",
          "Atypical",
          "Castlevania",
          "Taboo",
          "Babylon Berlin",
          "Ozark",
          "Star Trek: Discovery",
          "Manhunt",
          "The Orville",
          "The Marvelous Mrs. Maisel",
          "The Handmaid's Tale",
          "The Good Fight",
          "The Sinner",
          "Young Sheldon",
          "Money Heist",
          "The Good Doctor",
          "Big Mouth",
          "Sharp Objects",
          "Maniac",
          "Patrick Melrose",
          "The Haunting of Hill House",
          "Bodyguard",
          "Wild Wild Country",
          "Safe",
          "Persona",
          "Evil Genius: The True Story of America's Most Diabolical Bank Heist",
          "Yeh Meri Family",
          "The Terror",
          "Sacred Games",
          "Castle Rock",
          "Altered Carbon",
          "The Alienist: Angel of Darkness",
          "Chilling Adventures of Sabrina",
          "The Kominsky Method",
          "Pose",
          "Titans",
          "A Discovery of Witches",
          "Yellowstone",
          "Tom Clancy's Jack Ryan",
          "Lost in Space",
          "Barry",
          "Disenchantment",
          "Final Space",
          "Mirzapur",
          "Good Girls",
          "The Mechanism",
          "Homecoming",
          "Killing Eve",
          "Derry Girls",
          "Elite",
          "Cobra Kai",
          "9-1-1",
          "You",
          "The Rookie",
          "Succession",
          "New Amsterdam",
          "Flames",
          "Legacies",
          "Manifest",
          "Narcos: Mexico",
          "College Romance",
          "Don't F**k with Cats: Hunting an Internet Killer",
          "Good Omens",
          "The Spy",
          "The Dark Crystal: Age of Resistance",
          "Watchmen",
          "When They See Us",
          "Chernobyl",
          "Unbelievable",
          "Swamp Thing",
          "The Act",
          "Years and Years",
          "The Society",
          "Our Planet",
          "Conversations with a Killer: The Ted Bundy Tapes",
          "Kota Factory",
          "The Promised Neverland",
          "Carnival Row",
          "The Boys",
          "The Umbrella Academy",
          "The Witcher",
          "His Dark Materials",
          "Kingdom",
          "Hanna",
          "The Morning Show",
          "Russian Doll",
          "Sex Education",
          "What We Do in the Shadows",
          "See",
          "Dead to Me",
          "Servant",
          "The Mandalorian",
          "Formula 1: Drive to Survive",
          "After Life",
          "Doom Patrol",
          "Modern Love",
          "Euphoria",
          "Living with Yourself",
          "Virgin River",
          "How to Sell Drugs Online (Fast)",
          "Demon Slayer: Kimetsu no Yaiba",
          "The Family Man",
          "Love, Death & Robots",
          "The Queen's Gambit",
          "The Haunting of Bly Manor",
          "Tiger King",
          "Scam 1992: The Harshad Mehta Story",
          "Aashram",
          "Defending Jacob",
          "Messiah",
          "Little Fires Everywhere",
          "Devs",
          "The Undoing",
          "The Last Dance",
          "The Outsider",
          "Normal People",
          "I Am Not Okay with This",
          "The Stranger",
          "Unorthodox",
          "Hollywood",
          "Your Honor",
          "Never Have I Ever",
          "Outer Banks",
          "Alice in Borderland",
          "Into the Night",
          "Ted Lasso",
          "Ethos",
          "Special OPS",
          "Asur: Welcome to Your Dark Side",
          "Panchayat",
          "Paranormal",
          "The Great",
          "Locke & Key",
          "Lovecraft Country",
          "Ratched",
          "Hunters",
          "The Flight Attendant",
          "Gangs of London",
          "Upload",
          "Bridgerton",
          "Star Trek: Picard",
          "Raised by Wolves",
          "Ragnarok",
          "Paatal Lok",
          "The Serpent",
          "It's a Sin",
          "WandaVision",
          "The Falcon and the Winter Soldier",
          "Behind Her Eyes",
          "Ginny & Georgia",
          "Aspirants",
          "Shadow and Bone",
          "Lupin",
          "Invincible",
          "Resident Alien"
         ],
         "legendgroup": "",
         "marker": {
          "color": [
           9.4,
           8.2,
           8.3,
           8.2,
           9,
           7.9,
           8.1,
           7.4,
           7.5,
           7.6,
           7.7,
           7.3,
           8.6,
           8.3,
           7.9,
           8.7,
           8.5,
           8.2,
           8.3,
           8.1,
           8.6,
           7.6,
           8.5,
           8.3,
           8.3,
           7.7,
           8.1,
           7.5,
           7.4,
           8.4,
           8.1,
           8.2,
           7.3,
           7.9,
           8.2,
           8.3,
           8.6,
           8,
           8.6,
           8.1,
           8.5,
           8.5,
           8.5,
           7.7,
           7.6,
           8.4,
           7.9,
           7.9,
           9.4,
           8.4,
           7.8,
           7.8,
           8.5,
           8.1,
           8.3,
           7.5,
           9.1,
           7.1,
           8.2,
           7.7,
           8.2,
           7.6,
           7.9,
           7.1,
           8,
           7.9,
           7.6,
           8.6,
           9.1,
           8.2,
           8.4,
           8.2,
           7.6,
           8.2,
           7.7,
           8.2,
           8.5,
           8.2,
           8.1,
           8.3,
           7.7,
           8.4,
           7.6,
           8,
           8.6,
           8.4,
           8.6,
           8.3,
           8.1,
           8.3,
           8.3,
           8.5,
           7.7,
           8.5,
           7.3,
           8,
           8.2,
           8.6,
           8.5,
           7.5,
           8.7,
           7.7,
           7.6,
           9.1,
           7.4,
           8.6,
           8.5,
           8.8,
           8.2,
           7.3,
           8.2,
           8.5,
           7.6,
           8.1,
           8.6,
           8.5,
           9,
           7.2,
           7.3,
           9,
           7.9,
           7.5,
           8.2,
           7.8,
           7.2,
           9.1,
           9,
           7.2,
           7.7,
           7.8,
           8.8,
           7.5,
           8.3,
           8.4,
           8.9,
           7.6,
           7.8,
           8.1,
           7.7,
           7.8,
           9.4,
           8.6,
           7.7,
           7.7,
           9.3,
           8.4,
           8.2,
           7.7,
           8.3,
           8.5,
           7.5,
           8.1,
           8,
           8.8,
           8.5,
           7.9,
           8,
           7.3,
           7.3,
           7.4,
           8.5,
           8.4,
           8.6,
           8,
           8,
           7.6,
           7.4,
           8.9,
           7.1,
           7.3,
           8.3,
           7.4,
           7.7,
           7.7,
           8.3,
           7.9,
           7.5,
           8.4,
           7.6,
           8,
           8.7,
           8.5,
           7.8,
           7.6,
           7.3,
           8.4,
           8,
           7.2,
           7.4,
           8,
           8.5,
           7.1,
           8.4,
           7.9,
           8.3,
           7.8,
           8.1,
           7.5,
           8.1,
           8.3,
           8.4,
           8.9,
           7.4,
           7.5,
           8.7,
           8.4,
           7.9,
           8.2,
           8,
           8.3,
           8.5,
           7.5,
           8.2,
           9,
           7.2,
           8.8,
           8.4,
           8.1,
           8,
           9.2,
           8.3,
           9.3,
           8.8,
           7.8,
           8.5,
           8.3,
           8.3,
           7.5,
           8,
           7.8,
           8.2,
           7.8,
           8.2,
           8.6,
           8.2,
           8.4,
           7.3,
           8.3,
           7.2,
           7.5,
           8,
           8.1,
           7.1,
           8.9,
           8.5,
           8.4,
           7.9,
           8.1,
           7.6,
           7.7,
           7.8,
           7.8,
           8,
           7.6,
           8.1,
           8.1,
           8.7,
           8.6,
           8.9,
           8.1,
           8.4,
           7.7,
           8.4,
           7.1,
           8.4,
           8.9,
           8,
           7.9,
           8,
           8.7,
           7.4,
           9.1,
           7.4,
           7.9,
           7.1,
           7.7,
           8.8,
           7.9,
           7.5,
           8.6,
           8.3,
           7.7,
           7.3,
           8.6,
           7.4,
           8,
           8.4,
           8.4,
           8.6,
           8,
           7.9,
           7.6,
           7.6,
           7.8,
           8.3,
           8,
           7.2,
           7.2,
           8.5,
           8.1,
           7.4,
           8.5,
           7.8,
           7.6,
           7.4,
           7.8,
           8.7,
           8.5,
           8.3,
           8.4,
           8,
           8.8,
           8.2,
           8.3,
           8.1,
           8.5,
           8.2,
           7.8,
           8.4,
           8.2,
           8.5,
           7.6,
           9.5,
           8.4,
           7.2,
           8.3,
           8.3,
           7.3,
           8,
           7.7,
           7.5,
           7.4,
           8,
           7.7,
           8.1,
           7.8,
           8,
           7.9,
           7.5,
           8.7,
           7.4,
           8.2,
           7.5,
           7.9,
           7.5,
           8.6,
           8.4,
           8.1,
           8.4,
           8.6,
           8.7,
           8.1,
           8.6,
           8.2,
           7.4,
           8.7,
           8.2,
           8.5,
           8.7,
           7.7,
           9.1,
           8.5,
           7.3,
           8.3,
           9.3,
           8.2,
           8.2,
           8.5,
           7.3,
           8.1,
           7.8,
           8.1,
           8.2,
           8.6,
           8.7,
           7.8,
           8.5,
           8,
           8.1,
           7.6,
           7.7,
           8.8,
           7.8,
           8.3,
           8.2,
           8.4,
           8.4,
           8.4,
           7.2,
           8.1,
           8,
           8.7,
           8.4,
           8.3,
           7.9,
           7.5,
           8.3,
           8.1,
           7.9,
           8.1,
           7.8,
           8.1,
           8.6,
           8.1,
           8.2,
           7.3,
           9.1,
           7.5,
           9.1,
           8,
           8.6,
           7.6,
           8,
           7.7,
           7.5,
           8.2,
           8.6,
           7.7,
           8,
           8.6,
           8.1,
           7.3,
           8.3,
           7.2,
           8.3,
           8.4,
           7.8,
           8.4,
           7.5,
           8.2,
           8.4,
           7.5,
           8.6,
           7.7,
           7.7,
           8,
           8.6,
           8.1,
           9.2,
           7.4,
           7.2,
           8.4,
           8.9,
           8,
           8.1,
           7.9,
           8.4,
           8.2,
           8.9,
           9.4,
           8.4,
           7.5,
           8,
           8.3,
           7.1,
           9.3,
           7.8,
           9.2,
           8.5,
           7.9,
           8.7,
           8,
           8.2,
           7.9,
           8.4,
           7.5,
           8.4,
           7.9,
           8.3,
           8.5,
           7.6,
           8,
           7.5,
           8.8,
           8.6,
           8.4,
           7.9,
           8,
           8.4,
           7.2,
           7.5,
           7.9,
           8.7,
           8.6,
           8.5,
           8.6,
           7.4,
           7.6,
           9.5,
           7.7,
           7.9,
           7.6,
           7.7,
           7.7,
           7.4,
           9.1,
           7.7,
           8.5,
           7.5,
           7.3,
           8,
           7.5,
           7.6,
           7.9,
           7.6,
           7.7,
           7.1,
           8.7,
           8.6,
           8.6,
           8.5,
           8.8,
           8.5,
           8.1,
           7.4,
           7.1,
           7.3,
           7.2,
           7.1,
           8.1,
           8,
           7.3,
           7.5,
           7.6,
           7.5,
           7.8,
           7.7,
           8.8,
           8.1,
           7.5,
           7.2,
           7.5,
           9,
           7.8,
           7.6,
           8.8,
           8.2
          ],
          "coloraxis": "coloraxis"
         },
         "name": "",
         "offsetgroup": "",
         "orientation": "h",
         "showlegend": false,
         "textposition": "auto",
         "type": "bar",
         "x": [
          31449600000,
          31449600000,
          62985600000,
          62985600000,
          62985600000,
          94521600000,
          126144000000,
          126144000000,
          157680000000,
          189216000000,
          189216000000,
          189216000000,
          189216000000,
          220752000000,
          220752000000,
          220752000000,
          252374400000,
          252374400000,
          283910400000,
          473212800000,
          504835200000,
          62985600000,
          94608000000,
          94608000000,
          94608000000,
          94608000000,
          126144000000,
          157680000000,
          189216000000,
          189216000000,
          189216000000,
          189216000000,
          220838400000,
          220838400000,
          220838400000,
          252374400000,
          283910400000,
          283910400000,
          347068800000,
          410140800000,
          31449600000,
          31449600000,
          31449600000,
          63072000000,
          94608000000,
          94608000000,
          157680000000,
          157680000000,
          189302400000,
          189302400000,
          189302400000,
          220838400000,
          220838400000,
          252374400000,
          410140800000,
          31449600000,
          31449600000,
          62985600000,
          62985600000,
          62985600000,
          62985600000,
          62985600000,
          94521600000,
          94521600000,
          94521600000,
          94521600000,
          94521600000,
          94521600000,
          126057600000,
          157680000000,
          157680000000,
          157680000000,
          189216000000,
          189216000000,
          220752000000,
          220752000000,
          220752000000,
          220752000000,
          252288000000,
          252288000000,
          283910400000,
          283910400000,
          315446400000,
          346982400000,
          378518400000,
          378518400000,
          441676800000,
          31449600000,
          31449600000,
          62985600000,
          94521600000,
          126144000000,
          126144000000,
          157680000000,
          157680000000,
          157680000000,
          189216000000,
          189216000000,
          189216000000,
          189216000000,
          189216000000,
          220752000000,
          220752000000,
          252374400000,
          252374400000,
          283910400000,
          315446400000,
          315446400000,
          346982400000,
          346982400000,
          410140800000,
          410140800000,
          410140800000,
          410140800000,
          410140800000,
          31449600000,
          31449600000,
          62985600000,
          62985600000,
          62985600000,
          94608000000,
          126144000000,
          126144000000,
          126144000000,
          126144000000,
          126144000000,
          126144000000,
          157680000000,
          157680000000,
          157680000000,
          157680000000,
          189216000000,
          189216000000,
          189216000000,
          189216000000,
          220838400000,
          220838400000,
          220838400000,
          220838400000,
          220838400000,
          220838400000,
          252374400000,
          252374400000,
          252374400000,
          283910400000,
          283910400000,
          283910400000,
          315446400000,
          315446400000,
          347068800000,
          347068800000,
          378604800000,
          378604800000,
          378604800000,
          378604800000,
          31449600000,
          31449600000,
          63072000000,
          63072000000,
          63072000000,
          63072000000,
          94608000000,
          94608000000,
          94608000000,
          94608000000,
          126144000000,
          157680000000,
          157680000000,
          157680000000,
          189302400000,
          189302400000,
          189302400000,
          220838400000,
          220838400000,
          252374400000,
          252374400000,
          283910400000,
          347068800000,
          347068800000,
          347068800000,
          347068800000,
          31449600000,
          31449600000,
          62985600000,
          62985600000,
          62985600000,
          62985600000,
          62985600000,
          94521600000,
          94521600000,
          94521600000,
          94521600000,
          126057600000,
          126057600000,
          126057600000,
          126057600000,
          126057600000,
          157680000000,
          157680000000,
          157680000000,
          157680000000,
          157680000000,
          157680000000,
          157680000000,
          189216000000,
          189216000000,
          189216000000,
          189216000000,
          220752000000,
          252288000000,
          252288000000,
          252288000000,
          252288000000,
          283910400000,
          283910400000,
          315446400000,
          315446400000,
          315446400000,
          315446400000,
          315446400000,
          31449600000,
          31449600000,
          31449600000,
          31449600000,
          62985600000,
          62985600000,
          62985600000,
          62985600000,
          94521600000,
          94521600000,
          94521600000,
          94521600000,
          94521600000,
          94521600000,
          126144000000,
          126144000000,
          126144000000,
          126144000000,
          126144000000,
          157680000000,
          157680000000,
          157680000000,
          157680000000,
          189216000000,
          189216000000,
          189216000000,
          189216000000,
          189216000000,
          189216000000,
          189216000000,
          189216000000,
          189216000000,
          189216000000,
          220752000000,
          220752000000,
          220752000000,
          220752000000,
          283910400000,
          283910400000,
          283910400000,
          283910400000,
          283910400000,
          283910400000,
          283910400000,
          283910400000,
          283910400000,
          283910400000,
          31449600000,
          31449600000,
          31449600000,
          31449600000,
          31449600000,
          62985600000,
          62985600000,
          62985600000,
          62985600000,
          94608000000,
          94608000000,
          94608000000,
          94608000000,
          126144000000,
          126144000000,
          126144000000,
          126144000000,
          126144000000,
          126144000000,
          126144000000,
          126144000000,
          126144000000,
          157680000000,
          157680000000,
          157680000000,
          157680000000,
          157680000000,
          157680000000,
          157680000000,
          157680000000,
          157680000000,
          157680000000,
          157680000000,
          189216000000,
          189216000000,
          189216000000,
          189216000000,
          189216000000,
          220838400000,
          252374400000,
          252374400000,
          252374400000,
          252374400000,
          252374400000,
          252374400000,
          252374400000,
          252374400000,
          31449600000,
          31449600000,
          31449600000,
          31449600000,
          31449600000,
          31449600000,
          31449600000,
          31449600000,
          31449600000,
          31449600000,
          63072000000,
          63072000000,
          63072000000,
          94608000000,
          94608000000,
          94608000000,
          94608000000,
          94608000000,
          94608000000,
          94608000000,
          94608000000,
          126144000000,
          126144000000,
          126144000000,
          126144000000,
          126144000000,
          157680000000,
          157680000000,
          157680000000,
          189302400000,
          189302400000,
          220838400000,
          220838400000,
          220838400000,
          220838400000,
          220838400000,
          220838400000,
          220838400000,
          220838400000,
          220838400000,
          220838400000,
          220838400000,
          220838400000,
          220838400000,
          220838400000,
          31449600000,
          31449600000,
          31449600000,
          31449600000,
          31449600000,
          31449600000,
          62985600000,
          94521600000,
          94521600000,
          94521600000,
          94521600000,
          94521600000,
          94521600000,
          94521600000,
          94521600000,
          94521600000,
          94521600000,
          94521600000,
          94521600000,
          94521600000,
          126057600000,
          126057600000,
          126057600000,
          157680000000,
          157680000000,
          157680000000,
          189216000000,
          189216000000,
          189216000000,
          189216000000,
          189216000000,
          189216000000,
          189216000000,
          189216000000,
          189216000000,
          189216000000,
          189216000000,
          189216000000,
          189216000000,
          189216000000,
          31449600000,
          31449600000,
          31449600000,
          31449600000,
          31449600000,
          31449600000,
          31449600000,
          31449600000,
          31449600000,
          31449600000,
          62985600000,
          62985600000,
          62985600000,
          94521600000,
          94521600000,
          94521600000,
          126144000000,
          126144000000,
          157680000000,
          157680000000,
          157680000000,
          157680000000,
          157680000000,
          157680000000,
          157680000000,
          157680000000,
          157680000000,
          157680000000,
          157680000000,
          157680000000,
          157680000000,
          157680000000,
          157680000000,
          157680000000,
          157680000000,
          157680000000,
          157680000000,
          157680000000,
          157680000000,
          157680000000,
          157680000000,
          157680000000,
          157680000000,
          157680000000,
          31449600000,
          31449600000,
          31449600000,
          31449600000,
          31449600000,
          31449600000,
          31449600000,
          31449600000,
          31449600000,
          31449600000,
          31449600000,
          31449600000,
          31449600000,
          31449600000,
          31449600000,
          94608000000,
          126144000000,
          126144000000,
          126144000000,
          126144000000,
          126144000000,
          126144000000,
          126144000000,
          126144000000,
          126144000000,
          126144000000,
          126144000000,
          126144000000,
          126144000000,
          126144000000,
          126144000000,
          126144000000,
          126144000000,
          126144000000,
          126144000000,
          126144000000,
          126144000000,
          126144000000,
          126144000000,
          126144000000,
          126144000000,
          126144000000,
          31449600000,
          31449600000,
          31449600000,
          31449600000,
          31449600000,
          31449600000,
          31449600000,
          31449600000,
          31449600000,
          31449600000,
          31449600000,
          31449600000,
          31449600000,
          31449600000,
          31449600000,
          31449600000,
          31449600000,
          63072000000,
          94608000000,
          94608000000,
          94608000000,
          94608000000,
          94608000000,
          94608000000,
          94608000000,
          94608000000,
          94608000000,
          94608000000,
          94608000000,
          94608000000,
          94608000000,
          94608000000,
          94608000000,
          94608000000,
          94608000000,
          94608000000,
          94608000000,
          94608000000,
          94608000000,
          94608000000,
          94608000000,
          31449600000,
          31449600000,
          31449600000,
          31449600000,
          31449600000,
          62985600000,
          62985600000,
          62985600000,
          62985600000,
          62985600000,
          62985600000
         ],
         "xaxis": "x",
         "y": [
          "Planet Earth tt0795176",
          "The Lost Room tt0830361",
          "Life on Mars tt0478942",
          "Studio 60 on the Sunset Strip tt0485842",
          "Death Note tt0877057",
          "Jericho tt0805663",
          "The Unit tt0460690",
          "Kyle XY tt0756509",
          "Heroes tt0813715",
          "Big Love tt0421030",
          "Torchwood tt0485301",
          "Brothers & Sisters tt0758737",
          "Friday Night Lights tt0758745",
          "Hellsing Ultimate tt0495212",
          "Eureka tt0796264",
          "Code Geass tt0994314",
          "The IT Crowd tt0487831",
          "30 Rock tt0496424",
          "Psych tt0491738",
          "Man vs. Wild tt0883772",
          "Dexter tt0773262",
          "Moonlight tt0955346",
          "Flight of the Conchords tt0863046",
          "Life tt0874936",
          "Pushing Daisies tt0925266",
          "Reaper tt0955322",
          "The Tudors tt0758790",
          "Greek tt0976014",
          "Gossip Girl tt0397442",
          "Forbrydelsen tt0826760",
          "Damages tt0914387",
          "Chuck tt0934814",
          "Rules of Engagement tt0790772",
          "Burn Notice tt0810788",
          "Skins tt0840196",
          "Californication tt0904208",
          "Mad Men tt0804503",
          "Phineas and Ferb tt0852863",
          "Naruto: Shippûden tt0988824",
          "The Big Bang Theory tt0898266",
          "John Adams tt0472027",
          "Generation Kill tt0995832",
          "Dr. Horrible's Sing-Along Blog tt1227926",
          "Terminator: The Sarah Connor Chronicles tt0851851",
          "Legend of the Seeker tt0844653",
          "The Inbetweeners tt1220617",
          "Leverage tt1103987",
          "Merlin tt1199099",
          "Breaking Bad tt0903747",
          "Fringe tt1119644",
          "Being Human tt1349938",
          "True Blood tt0844441",
          "Sons of Anarchy tt1124373",
          "The Mentalist tt1196946",
          "Star Wars: The Clone Wars tt0458290",
          "Harper's Island tt1232320",
          "Life tt1533395",
          "Caprica tt0799862",
          "Party Down tt1073507",
          "Dollhouse tt1135300",
          "Better Off Ted tt1235547",
          "FlashForward tt1441135",
          "United States of Tara tt1001482",
          "Hung tt1229413",
          "Lie to Me tt1235099",
          "Bored to Death tt1255913",
          "Stargate Universe tt1286039",
          "Ezel tt1534360",
          "Fullmetal Alchemist: Brotherhood tt1355642",
          "Eastbound & Down tt0866442",
          "Southland tt1299368",
          "Misfits tt1548850",
          "Warehouse 13 tt1132290",
          "White Collar tt1358522",
          "Nurse Jackie tt1190689",
          "Dragon Ball Z Kai tt1409055",
          "Community tt1439629",
          "The League tt1480684",
          "Castle tt1219024",
          "The Good Wife tt1442462",
          "The Vampire Diaries tt1405406",
          "Regular Show tt1710308",
          "The Middle tt1442464",
          "Fairy Tail tt1528406",
          "Parks and Recreation tt1266020",
          "Modern Family tt1442437",
          "Archer tt1486217",
          "The Pacific tt0374463",
          "The Pillars of the Earth tt1453159",
          "Blue Mountain State tt1344204",
          "An Idiot Abroad tt1702042",
          "Spartacus tt1442449",
          "Nikita tt1592154",
          "Boardwalk Empire tt0979432",
          "Covert Affairs tt1495708",
          "Raising Hope tt1615919",
          "Parenthood tt1416765",
          "Justified tt1489428",
          "Louie tt1492966",
          "Haven tt1519931",
          "Downton Abbey tt1606375",
          "Lost Girl tt1429449",
          "Rizzoli & Isles tt1551632",
          "Sherlock tt1475582",
          "Pretty Little Liars tt1578873",
          "Adventure Time tt1305826",
          "Luther tt1474684",
          "Behzat Ç.: Bir Ankara Polisiyesi tt1795096",
          "Strike Back tt1492179",
          "Hawaii Five-0 tt1600194",
          "The Walking Dead tt1520211",
          "Borgen tt1526318",
          "Blue Bloods tt1595859",
          "Conan tt1637574",
          "Young Justice tt1641384",
          "Spartacus: Gods of the Arena tt1758429",
          "Human Planet tt1806234",
          "Alphas tt1183865",
          "The Secret Circle tt1837654",
          "Frozen Planet tt2092588",
          "The Borgias tt1582457",
          "Being Human tt1595680",
          "The Killing tt1637727",
          "Wilfred tt1703925",
          "Suburgatory tt1741256",
          "Leyla and Mecnun tt1831164",
          "Hunter x Hunter tt2098220",
          "Falling Skies tt1462059",
          "Hart of Dixie tt1832979",
          "Revenge tt1837642",
          "Steins;Gate tt1910272",
          "Awkward. tt1663676",
          "Hell on Wheels tt1699748",
          "Person of Interest tt1839578",
          "Undercover tt1909015",
          "Teen Wolf tt1567432",
          "Episodes tt1582350",
          "Workaholics tt1610527",
          "Switched at Birth tt1758772",
          "Grimm tt1830617",
          "The Filthy Frank Show tt4202274",
          "Bron/Broen tt1733785",
          "New Girl tt1826940",
          "Once Upon a Time tt1843230",
          "Game of Thrones tt0944947",
          "Suits tt1632701",
          "The Amazing World of Gumball tt1942683",
          "Happy Endings tt1587678",
          "Homeland tt1796960",
          "Shameless tt1586680",
          "Last Man Standing tt1828327",
          "Bob's Burgers tt1561755",
          "American Horror Story tt1844624",
          "Black Mirror tt2085059",
          "Impractical Jokers tt2100976",
          "Awake tt1839683",
          "Hatfields & McCoys tt1985443",
          "Don't Trust the B---- in Apartment 23 tt1819509",
          "Touch tt1821681",
          "Last Resort tt2172103",
          "Isler Güçler tt2311418",
          "The Legend of Korra tt1695360",
          "The Newsroom tt1870479",
          "Lilyhammer tt1958961",
          "Derek tt2616280",
          "Continuum tt1954347",
          "House of Lies tt1797404",
          "Gravity Falls tt1865718",
          "Beauty and the Beast tt2193041",
          "Girls tt1723816",
          "Longmire tt1836037",
          "The Mindy Project tt2211129",
          "Scandal tt1837576",
          "Nashville tt2281375",
          "Veep tt1759761",
          "Elementary tt2191671",
          "Arrow tt2193021",
          "Call the Midwife tt1983079",
          "Sword Art Online tt2250192",
          "Chicago Fire tt2261391",
          "Line of Duty tt2303687",
          "Generation War tt1883092",
          "The White Queen tt2372220",
          "Witches of East End tt2288064",
          "Dracula tt2296682",
          "Utopia tt2384811",
          "Almost Human tt2654580",
          "The Tomorrow People tt2660734",
          "The Following tt2071645",
          "Da Vinci's Demons tt2094262",
          "Hannibal tt2243973",
          "Hemlock Grove tt2309295",
          "Banshee tt2017109",
          "Masters of Sex tt2137109",
          "Rectify tt2183404",
          "Devious Maids tt2226342",
          "The Fall tt2294189",
          "Top of the Lake tt2103085",
          "Bates Motel tt2188671",
          "Orphan Black tt2234222",
          "Broadchurch tt2249364",
          "Nathan for You tt2297757",
          "Sleepy Hollow tt2647544",
          "Reign tt2710394",
          "House of Cards tt1856010",
          "The Americans tt2149175",
          "The Fosters tt2262532",
          "The Originals tt2632424",
          "Orange Is the New Black tt2372162",
          "Ray Donovan tt2249007",
          "Vikings tt2306299",
          "Agents of S.H.I.E.L.D. tt2364582",
          "Steven Universe tt3061046",
          "Attack on Titan tt2560140",
          "Mom tt2660806",
          "Peaky Blinders tt2442560",
          "Brooklyn Nine-Nine tt2467372",
          "The Goldbergs tt2712740",
          "The Blacklist tt2741602",
          "Rick and Morty tt2861424",
          "24: Live Another Day tt1598754",
          "Cosmos tt2395695",
          "Over the Garden Wall tt3718778",
          "Tokyo Ghoul tt3741634",
          "The Knick tt2937900",
          "Parasyte: The Maxim tt3358020",
          "Forever tt3487382",
          "Constantine tt3489184",
          "Marco Polo tt2189461",
          "Tyrant tt2568204",
          "Penny Dreadful tt2628232",
          "The Musketeers tt2733252",
          "The Missing tt3877200",
          "Permanent Roommates tt4156586",
          "Black Sails tt2375692",
          "Halt and Catch Fire tt2543312",
          "The Strain tt2654620",
          "The Leftovers tt2699128",
          "Salem tt2963254",
          "The Last Ship tt2402207",
          "Star Wars Rebels tt2930604",
          "Mozart in the Jungle tt3502172",
          "Scorpion tt3514324",
          "True Detective tt2356777",
          "Silicon Valley tt2575988",
          "Broad City tt2578560",
          "The Affair tt2699110",
          "You're the Worst tt3228420",
          "Madam Secretary tt3501074",
          "Transparent tt3502262",
          "Jane the Virgin tt3566726",
          "Gotham tt3749900",
          "Dirilis: Ertugrul tt4320258",
          "The 100 tt2661044",
          "How to Get Away with Murder tt3205802",
          "Power tt3281796",
          "BoJack Horseman tt3398228",
          "Gomorrah tt2049116",
          "Fargo tt2802850",
          "Chicago P.D. tt2805096",
          "Outlander tt3006802",
          "The Flash tt3107288",
          "Happy Valley tt3428912",
          "Black-ish tt3487356",
          "Bosch tt3502248",
          "Last Week Tonight with John Oliver tt3530232",
          "The Seven Deadly Sins tt3909224",
          "And Then There Were None tt3581932",
          "River tt4258440",
          "The Jinx: The Life and Deaths of Robert Durst tt4299972",
          "Wet Hot American Summer: First Day of Camp tt4341500",
          "TVF Pitchers tt4742876",
          "Wayward Pines tt2618986",
          "Agent Carter tt3475734",
          "Scream Queens tt4145384",
          "Limitless tt4422836",
          "Narcos tt2707408",
          "Bloodline tt3520702",
          "Dark Matter tt4159076",
          "Skam tt5288312",
          "Sense8 tt2431438",
          "12 Monkeys tt3148266",
          "The Last Man on Earth tt3230454",
          "Daredevil tt3322312",
          "Fortitude tt3498622",
          "Humans tt4122068",
          "Ash vs Evil Dead tt4189022",
          "Dragon Ball Super tt4644488",
          "Making a Murderer tt5189670",
          "The Man in the High Castle tt1740299",
          "Jessica Jones tt2357547",
          "Ballers tt2891574",
          "Unbreakable Kimmy Schmidt tt3339966",
          "iZombie tt3501584",
          "Poldark tt3636060",
          "Into the Badlands tt3865236",
          "Scream: The TV Series tt3921180",
          "Killjoys tt3952222",
          "Mr. Robot tt4158110",
          "Sneaky Pete tt5011816",
          "Empire tt3228904",
          "Schitt's Creek tt3526078",
          "Fresh Off the Boat tt3551096",
          "The Magicians tt4254242",
          "Blindspot tt4474344",
          "Superstore tt4477976",
          "Better Call Saul tt3032476",
          "The Expanse tt3230854",
          "Grace and Frankie tt3609352",
          "The Last Kingdom tt4179452",
          "F Is for Family tt4326894",
          "One Punch Man tt4508902",
          "Fauda tt4565380",
          "Master of None tt4635276",
          "The Night Manager tt1399664",
          "The Night Of tt2401256",
          "11.22.63 tt2879552",
          "Vinyl tt3186130",
          "The Young Pope tt3655448",
          "War & Peace tt3910804",
          "Erased tt5249462",
          "Gilmore Girls: A Year in the Life tt5435008",
          "Planet Earth II tt5491994",
          "Inside Look: The People v. O.J. Simpson - American Crime Story tt6205862",
          "The Shannara Chronicles tt1051220",
          "Dirk Gently's Holistic Detective Agency tt4047038",
          "The Get Down tt4592410",
          "Luke Cage tt3322314",
          "Vice Principals tt3766376",
          "Love tt4061080",
          "Shooter tt4181172",
          "Colony tt4209256",
          "The Exorcist tt5368542",
          "Timeless tt5511582",
          "Travelers tt5651844",
          "The OA tt4635282",
          "Preacher tt5016504",
          "Lethal Weapon tt5164196",
          "Designated Survivor tt5296406",
          "Fleabag tt5687612",
          "3% tt4922804",
          "The Good Place tt4955642",
          "The Ranch tt4998212",
          "Queen of the South tt1064899",
          "Wynonna Earp tt4878326",
          "Westworld tt0475784",
          "American Crime Story tt2788432",
          "Lucifer tt4052886",
          "Billions tt4270492",
          "Atlanta tt4288182",
          "Stranger Things tt4574334",
          "Goliath tt4687880",
          "The Crown tt4786824",
          "Victoria tt5137338",
          "Marcella tt5269594",
          "This Is Us tt5555260",
          "Animal Kingdom tt5574490",
          "My Hero Academia tt5626028",
          "The Grand Tour tt5712554",
          "Alias Grace tt1034007",
          "The Vietnam War tt1877514",
          "Twin Peaks tt4093826",
          "The Defenders tt4230076",
          "Godless tt5516154",
          "Blue Planet II tt6769208",
          "American Vandal tt6877772",
          "Happy! tt2452242",
          "Big Little Lies tt3920596",
          "The Gifted tt4396630",
          "Counterpart tt4643084",
          "A Series of Unfortunate Events tt4834206",
          "The Deuce tt4998350",
          "Legion tt5114356",
          "Mindhunter tt5290382",
          "Anne with an E tt5421602",
          "Santa Clarita Diet tt5580540",
          "The Punisher tt5675620",
          "GLOW tt5770786",
          "The End of the F***ing World tt6257970",
          "13 Reasons Why tt1837492",
          "Future Man tt4975856",
          "Dark tt5753856",
          "American Gods tt1898069",
          "Atypical tt6315640",
          "Castlevania tt6517102",
          "Taboo tt3647998",
          "Babylon Berlin tt4378376",
          "Ozark tt5071412",
          "Star Trek: Discovery tt5171438",
          "Manhunt tt5618256",
          "The Orville tt5691552",
          "The Marvelous Mrs. Maisel tt5788792",
          "The Handmaid's Tale tt5834204",
          "The Good Fight tt5853176",
          "The Sinner tt6048596",
          "Young Sheldon tt6226232",
          "Money Heist tt6468322",
          "The Good Doctor tt6470478",
          "Big Mouth tt6524350",
          "Sharp Objects tt2649356",
          "Maniac tt5580146",
          "Patrick Melrose tt6586318",
          "The Haunting of Hill House tt6763664",
          "Bodyguard tt7493974",
          "Wild Wild Country tt7768848",
          "Safe tt7902072",
          "Persona tt7920978",
          "Evil Genius: The True Story of America's Most Diabolical Bank Heist tt8342862",
          "Yeh Meri Family tt8595766",
          "The Terror tt2708480",
          "Sacred Games tt6077448",
          "Castle Rock tt6548228",
          "Altered Carbon tt2261227",
          "The Alienist: Angel of Darkness tt4604612",
          "Chilling Adventures of Sabrina tt7569592",
          "The Kominsky Method tt7255502",
          "Pose tt7562112",
          "Titans tt1043813",
          "A Discovery of Witches tt2177461",
          "Yellowstone tt4236770",
          "Tom Clancy's Jack Ryan tt5057054",
          "Lost in Space tt5232792",
          "Barry tt5348176",
          "Disenchantment tt5363918",
          "Final Space tt6317068",
          "Mirzapur tt6473300",
          "Good Girls tt6474378",
          "The Mechanism tt6873658",
          "Homecoming tt7008682",
          "Killing Eve tt7016936",
          "Derry Girls tt7120662",
          "Elite tt7134908",
          "Cobra Kai tt7221388",
          "9-1-1 tt7235466",
          "You tt7335184",
          "The Rookie tt7587890",
          "Succession tt7660850",
          "New Amsterdam tt7817340",
          "Flames tt7927936",
          "Legacies tt8103070",
          "Manifest tt8421350",
          "Narcos: Mexico tt8714904",
          "College Romance tt8809646",
          "Don't F**k with Cats: Hunting an Internet Killer tt11318602",
          "Good Omens tt1869454",
          "The Spy tt5952634",
          "The Dark Crystal: Age of Resistance tt6905542",
          "Watchmen tt7049682",
          "When They See Us tt7137906",
          "Chernobyl tt7366338",
          "Unbelievable tt7909970",
          "Swamp Thing tt8362852",
          "The Act tt8682948",
          "Years and Years tt8694364",
          "The Society tt8778064",
          "Our Planet tt9253866",
          "Conversations with a Killer: The Ted Bundy Tapes tt9425132",
          "Kota Factory tt9432978",
          "The Promised Neverland tt8788458",
          "Carnival Row tt0489974",
          "The Boys tt1190634",
          "The Umbrella Academy tt1312171",
          "The Witcher tt5180504",
          "His Dark Materials tt5607976",
          "Kingdom tt6611916",
          "Hanna tt6932244",
          "The Morning Show tt7203552",
          "Russian Doll tt7520794",
          "Sex Education tt7767422",
          "What We Do in the Shadows tt7908628",
          "See tt7949218",
          "Dead to Me tt8064302",
          "Servant tt8068860",
          "The Mandalorian tt8111088",
          "Formula 1: Drive to Survive tt8289930",
          "After Life tt8398600",
          "Doom Patrol tt8416494",
          "Modern Love tt8543390",
          "Euphoria tt8772296",
          "Living with Yourself tt8880894",
          "Virgin River tt9077530",
          "How to Sell Drugs Online (Fast) tt9184994",
          "Demon Slayer: Kimetsu no Yaiba tt9335498",
          "The Family Man tt9544034",
          "Love, Death & Robots tt9561862",
          "The Queen's Gambit tt10048342",
          "The Haunting of Bly Manor tt10970552",
          "Tiger King tt11823076",
          "Scam 1992: The Harshad Mehta Story tt12392504",
          "Aashram tt12805346",
          "Defending Jacob tt2304589",
          "Messiah tt7671598",
          "Little Fires Everywhere tt8089592",
          "Devs tt8134186",
          "The Undoing tt8134470",
          "The Last Dance tt8420184",
          "The Outsider tt8550800",
          "Normal People tt9059760",
          "I Am Not Okay with This tt9446688",
          "The Stranger tt9698480",
          "Unorthodox tt9815454",
          "Hollywood tt9827854",
          "Your Honor tt7440726",
          "Never Have I Ever tt10062292",
          "Outer Banks tt10293938",
          "Alice in Borderland tt10795658",
          "Into the Night tt10919486",
          "Ted Lasso tt10986410",
          "Ethos tt11301642",
          "Special OPS tt11854694",
          "Asur: Welcome to Your Dark Side tt11912196",
          "Panchayat tt12004706",
          "Paranormal tt12411074",
          "The Great tt2235759",
          "Locke & Key tt3007572",
          "Lovecraft Country tt6905686",
          "Ratched tt7423538",
          "Hunters tt7456722",
          "The Flight Attendant tt7569576",
          "Gangs of London tt7661390",
          "Upload tt7826376",
          "Bridgerton tt8740790",
          "Star Trek: Picard tt8806524",
          "Raised by Wolves tt9170108",
          "Ragnarok tt9251798",
          "Paatal Lok tt9680440",
          "The Serpent tt7985576",
          "It's a Sin tt9140342",
          "WandaVision tt9140560",
          "The Falcon and the Winter Soldier tt9208876",
          "Behind Her Eyes tt9698442",
          "Ginny & Georgia tt10813940",
          "Aspirants tt14392248",
          "Shadow and Bone tt2403776",
          "Lupin tt2531336",
          "Invincible tt6741278",
          "Resident Alien tt8690918"
         ],
         "yaxis": "y"
        }
       ],
       "layout": {
        "barmode": "overlay",
        "coloraxis": {
         "colorbar": {
          "title": {
           "text": "averageRating"
          }
         },
         "colorscale": [
          [
           0,
           "rgb(0,0,255)"
          ],
          [
           1,
           "rgb(255,0,0)"
          ]
         ]
        },
        "legend": {
         "tracegroupgap": 0
        },
        "margin": {
         "t": 60
        },
        "template": {
         "data": {
          "bar": [
           {
            "error_x": {
             "color": "#2a3f5f"
            },
            "error_y": {
             "color": "#2a3f5f"
            },
            "marker": {
             "line": {
              "color": "#E5ECF6",
              "width": 0.5
             }
            },
            "type": "bar"
           }
          ],
          "barpolar": [
           {
            "marker": {
             "line": {
              "color": "#E5ECF6",
              "width": 0.5
             }
            },
            "type": "barpolar"
           }
          ],
          "carpet": [
           {
            "aaxis": {
             "endlinecolor": "#2a3f5f",
             "gridcolor": "white",
             "linecolor": "white",
             "minorgridcolor": "white",
             "startlinecolor": "#2a3f5f"
            },
            "baxis": {
             "endlinecolor": "#2a3f5f",
             "gridcolor": "white",
             "linecolor": "white",
             "minorgridcolor": "white",
             "startlinecolor": "#2a3f5f"
            },
            "type": "carpet"
           }
          ],
          "choropleth": [
           {
            "colorbar": {
             "outlinewidth": 0,
             "ticks": ""
            },
            "type": "choropleth"
           }
          ],
          "contour": [
           {
            "colorbar": {
             "outlinewidth": 0,
             "ticks": ""
            },
            "colorscale": [
             [
              0,
              "#0d0887"
             ],
             [
              0.1111111111111111,
              "#46039f"
             ],
             [
              0.2222222222222222,
              "#7201a8"
             ],
             [
              0.3333333333333333,
              "#9c179e"
             ],
             [
              0.4444444444444444,
              "#bd3786"
             ],
             [
              0.5555555555555556,
              "#d8576b"
             ],
             [
              0.6666666666666666,
              "#ed7953"
             ],
             [
              0.7777777777777778,
              "#fb9f3a"
             ],
             [
              0.8888888888888888,
              "#fdca26"
             ],
             [
              1,
              "#f0f921"
             ]
            ],
            "type": "contour"
           }
          ],
          "contourcarpet": [
           {
            "colorbar": {
             "outlinewidth": 0,
             "ticks": ""
            },
            "type": "contourcarpet"
           }
          ],
          "heatmap": [
           {
            "colorbar": {
             "outlinewidth": 0,
             "ticks": ""
            },
            "colorscale": [
             [
              0,
              "#0d0887"
             ],
             [
              0.1111111111111111,
              "#46039f"
             ],
             [
              0.2222222222222222,
              "#7201a8"
             ],
             [
              0.3333333333333333,
              "#9c179e"
             ],
             [
              0.4444444444444444,
              "#bd3786"
             ],
             [
              0.5555555555555556,
              "#d8576b"
             ],
             [
              0.6666666666666666,
              "#ed7953"
             ],
             [
              0.7777777777777778,
              "#fb9f3a"
             ],
             [
              0.8888888888888888,
              "#fdca26"
             ],
             [
              1,
              "#f0f921"
             ]
            ],
            "type": "heatmap"
           }
          ],
          "heatmapgl": [
           {
            "colorbar": {
             "outlinewidth": 0,
             "ticks": ""
            },
            "colorscale": [
             [
              0,
              "#0d0887"
             ],
             [
              0.1111111111111111,
              "#46039f"
             ],
             [
              0.2222222222222222,
              "#7201a8"
             ],
             [
              0.3333333333333333,
              "#9c179e"
             ],
             [
              0.4444444444444444,
              "#bd3786"
             ],
             [
              0.5555555555555556,
              "#d8576b"
             ],
             [
              0.6666666666666666,
              "#ed7953"
             ],
             [
              0.7777777777777778,
              "#fb9f3a"
             ],
             [
              0.8888888888888888,
              "#fdca26"
             ],
             [
              1,
              "#f0f921"
             ]
            ],
            "type": "heatmapgl"
           }
          ],
          "histogram": [
           {
            "marker": {
             "colorbar": {
              "outlinewidth": 0,
              "ticks": ""
             }
            },
            "type": "histogram"
           }
          ],
          "histogram2d": [
           {
            "colorbar": {
             "outlinewidth": 0,
             "ticks": ""
            },
            "colorscale": [
             [
              0,
              "#0d0887"
             ],
             [
              0.1111111111111111,
              "#46039f"
             ],
             [
              0.2222222222222222,
              "#7201a8"
             ],
             [
              0.3333333333333333,
              "#9c179e"
             ],
             [
              0.4444444444444444,
              "#bd3786"
             ],
             [
              0.5555555555555556,
              "#d8576b"
             ],
             [
              0.6666666666666666,
              "#ed7953"
             ],
             [
              0.7777777777777778,
              "#fb9f3a"
             ],
             [
              0.8888888888888888,
              "#fdca26"
             ],
             [
              1,
              "#f0f921"
             ]
            ],
            "type": "histogram2d"
           }
          ],
          "histogram2dcontour": [
           {
            "colorbar": {
             "outlinewidth": 0,
             "ticks": ""
            },
            "colorscale": [
             [
              0,
              "#0d0887"
             ],
             [
              0.1111111111111111,
              "#46039f"
             ],
             [
              0.2222222222222222,
              "#7201a8"
             ],
             [
              0.3333333333333333,
              "#9c179e"
             ],
             [
              0.4444444444444444,
              "#bd3786"
             ],
             [
              0.5555555555555556,
              "#d8576b"
             ],
             [
              0.6666666666666666,
              "#ed7953"
             ],
             [
              0.7777777777777778,
              "#fb9f3a"
             ],
             [
              0.8888888888888888,
              "#fdca26"
             ],
             [
              1,
              "#f0f921"
             ]
            ],
            "type": "histogram2dcontour"
           }
          ],
          "mesh3d": [
           {
            "colorbar": {
             "outlinewidth": 0,
             "ticks": ""
            },
            "type": "mesh3d"
           }
          ],
          "parcoords": [
           {
            "line": {
             "colorbar": {
              "outlinewidth": 0,
              "ticks": ""
             }
            },
            "type": "parcoords"
           }
          ],
          "pie": [
           {
            "automargin": true,
            "type": "pie"
           }
          ],
          "scatter": [
           {
            "marker": {
             "colorbar": {
              "outlinewidth": 0,
              "ticks": ""
             }
            },
            "type": "scatter"
           }
          ],
          "scatter3d": [
           {
            "line": {
             "colorbar": {
              "outlinewidth": 0,
              "ticks": ""
             }
            },
            "marker": {
             "colorbar": {
              "outlinewidth": 0,
              "ticks": ""
             }
            },
            "type": "scatter3d"
           }
          ],
          "scattercarpet": [
           {
            "marker": {
             "colorbar": {
              "outlinewidth": 0,
              "ticks": ""
             }
            },
            "type": "scattercarpet"
           }
          ],
          "scattergeo": [
           {
            "marker": {
             "colorbar": {
              "outlinewidth": 0,
              "ticks": ""
             }
            },
            "type": "scattergeo"
           }
          ],
          "scattergl": [
           {
            "marker": {
             "colorbar": {
              "outlinewidth": 0,
              "ticks": ""
             }
            },
            "type": "scattergl"
           }
          ],
          "scattermapbox": [
           {
            "marker": {
             "colorbar": {
              "outlinewidth": 0,
              "ticks": ""
             }
            },
            "type": "scattermapbox"
           }
          ],
          "scatterpolar": [
           {
            "marker": {
             "colorbar": {
              "outlinewidth": 0,
              "ticks": ""
             }
            },
            "type": "scatterpolar"
           }
          ],
          "scatterpolargl": [
           {
            "marker": {
             "colorbar": {
              "outlinewidth": 0,
              "ticks": ""
             }
            },
            "type": "scatterpolargl"
           }
          ],
          "scatterternary": [
           {
            "marker": {
             "colorbar": {
              "outlinewidth": 0,
              "ticks": ""
             }
            },
            "type": "scatterternary"
           }
          ],
          "surface": [
           {
            "colorbar": {
             "outlinewidth": 0,
             "ticks": ""
            },
            "colorscale": [
             [
              0,
              "#0d0887"
             ],
             [
              0.1111111111111111,
              "#46039f"
             ],
             [
              0.2222222222222222,
              "#7201a8"
             ],
             [
              0.3333333333333333,
              "#9c179e"
             ],
             [
              0.4444444444444444,
              "#bd3786"
             ],
             [
              0.5555555555555556,
              "#d8576b"
             ],
             [
              0.6666666666666666,
              "#ed7953"
             ],
             [
              0.7777777777777778,
              "#fb9f3a"
             ],
             [
              0.8888888888888888,
              "#fdca26"
             ],
             [
              1,
              "#f0f921"
             ]
            ],
            "type": "surface"
           }
          ],
          "table": [
           {
            "cells": {
             "fill": {
              "color": "#EBF0F8"
             },
             "line": {
              "color": "white"
             }
            },
            "header": {
             "fill": {
              "color": "#C8D4E3"
             },
             "line": {
              "color": "white"
             }
            },
            "type": "table"
           }
          ]
         },
         "layout": {
          "annotationdefaults": {
           "arrowcolor": "#2a3f5f",
           "arrowhead": 0,
           "arrowwidth": 1
          },
          "autotypenumbers": "strict",
          "coloraxis": {
           "colorbar": {
            "outlinewidth": 0,
            "ticks": ""
           }
          },
          "colorscale": {
           "diverging": [
            [
             0,
             "#8e0152"
            ],
            [
             0.1,
             "#c51b7d"
            ],
            [
             0.2,
             "#de77ae"
            ],
            [
             0.3,
             "#f1b6da"
            ],
            [
             0.4,
             "#fde0ef"
            ],
            [
             0.5,
             "#f7f7f7"
            ],
            [
             0.6,
             "#e6f5d0"
            ],
            [
             0.7,
             "#b8e186"
            ],
            [
             0.8,
             "#7fbc41"
            ],
            [
             0.9,
             "#4d9221"
            ],
            [
             1,
             "#276419"
            ]
           ],
           "sequential": [
            [
             0,
             "#0d0887"
            ],
            [
             0.1111111111111111,
             "#46039f"
            ],
            [
             0.2222222222222222,
             "#7201a8"
            ],
            [
             0.3333333333333333,
             "#9c179e"
            ],
            [
             0.4444444444444444,
             "#bd3786"
            ],
            [
             0.5555555555555556,
             "#d8576b"
            ],
            [
             0.6666666666666666,
             "#ed7953"
            ],
            [
             0.7777777777777778,
             "#fb9f3a"
            ],
            [
             0.8888888888888888,
             "#fdca26"
            ],
            [
             1,
             "#f0f921"
            ]
           ],
           "sequentialminus": [
            [
             0,
             "#0d0887"
            ],
            [
             0.1111111111111111,
             "#46039f"
            ],
            [
             0.2222222222222222,
             "#7201a8"
            ],
            [
             0.3333333333333333,
             "#9c179e"
            ],
            [
             0.4444444444444444,
             "#bd3786"
            ],
            [
             0.5555555555555556,
             "#d8576b"
            ],
            [
             0.6666666666666666,
             "#ed7953"
            ],
            [
             0.7777777777777778,
             "#fb9f3a"
            ],
            [
             0.8888888888888888,
             "#fdca26"
            ],
            [
             1,
             "#f0f921"
            ]
           ]
          },
          "colorway": [
           "#636efa",
           "#EF553B",
           "#00cc96",
           "#ab63fa",
           "#FFA15A",
           "#19d3f3",
           "#FF6692",
           "#B6E880",
           "#FF97FF",
           "#FECB52"
          ],
          "font": {
           "color": "#2a3f5f"
          },
          "geo": {
           "bgcolor": "white",
           "lakecolor": "white",
           "landcolor": "#E5ECF6",
           "showlakes": true,
           "showland": true,
           "subunitcolor": "white"
          },
          "hoverlabel": {
           "align": "left"
          },
          "hovermode": "closest",
          "mapbox": {
           "style": "light"
          },
          "paper_bgcolor": "white",
          "plot_bgcolor": "#E5ECF6",
          "polar": {
           "angularaxis": {
            "gridcolor": "white",
            "linecolor": "white",
            "ticks": ""
           },
           "bgcolor": "#E5ECF6",
           "radialaxis": {
            "gridcolor": "white",
            "linecolor": "white",
            "ticks": ""
           }
          },
          "scene": {
           "xaxis": {
            "backgroundcolor": "#E5ECF6",
            "gridcolor": "white",
            "gridwidth": 2,
            "linecolor": "white",
            "showbackground": true,
            "ticks": "",
            "zerolinecolor": "white"
           },
           "yaxis": {
            "backgroundcolor": "#E5ECF6",
            "gridcolor": "white",
            "gridwidth": 2,
            "linecolor": "white",
            "showbackground": true,
            "ticks": "",
            "zerolinecolor": "white"
           },
           "zaxis": {
            "backgroundcolor": "#E5ECF6",
            "gridcolor": "white",
            "gridwidth": 2,
            "linecolor": "white",
            "showbackground": true,
            "ticks": "",
            "zerolinecolor": "white"
           }
          },
          "shapedefaults": {
           "line": {
            "color": "#2a3f5f"
           }
          },
          "ternary": {
           "aaxis": {
            "gridcolor": "white",
            "linecolor": "white",
            "ticks": ""
           },
           "baxis": {
            "gridcolor": "white",
            "linecolor": "white",
            "ticks": ""
           },
           "bgcolor": "#E5ECF6",
           "caxis": {
            "gridcolor": "white",
            "linecolor": "white",
            "ticks": ""
           }
          },
          "title": {
           "x": 0.05
          },
          "xaxis": {
           "automargin": true,
           "gridcolor": "white",
           "linecolor": "white",
           "ticks": "",
           "title": {
            "standoff": 15
           },
           "zerolinecolor": "white",
           "zerolinewidth": 2
          },
          "yaxis": {
           "automargin": true,
           "gridcolor": "white",
           "linecolor": "white",
           "ticks": "",
           "title": {
            "standoff": 15
           },
           "zerolinecolor": "white",
           "zerolinewidth": 2
          }
         }
        },
        "xaxis": {
         "anchor": "y",
         "domain": [
          0,
          1
         ],
         "type": "date"
        },
        "yaxis": {
         "anchor": "x",
         "autorange": "reversed",
         "domain": [
          0,
          1
         ],
         "title": {
          "text": "title_and_tconst"
         }
        }
       }
      }
     },
     "metadata": {}
    }
   ],
   "source": [
    "fig = px.timeline(tv_popular_sorted,\n",
    "    x_start=\"startYear\",\n",
    "    x_end=\"endYear\",\n",
    "    y=\"title_and_tconst\",\n",
    "    color=\"averageRating\",\n",
    "    hover_name=\"primaryTitle\",\n",
    "    hover_data=[\"averageRating\", \"numVotes\", \"genres\"],\n",
    "    color_continuous_scale='Bluered'\n",
    ")\n",
    "fig.update_yaxes(autorange=\"reversed\") # otherwise tasks are listed from the bottom up\n",
    "fig.show()"
   ]
  },
  {
   "cell_type": "code",
   "execution_count": 22,
   "metadata": {},
   "outputs": [
    {
     "output_type": "execute_result",
     "data": {
      "text/plain": [
       "'popular.html'"
      ]
     },
     "metadata": {},
     "execution_count": 22
    }
   ],
   "source": [
    "plotly.offline.plot(fig, filename='popular.html', auto_open=False) "
   ]
  },
  {
   "cell_type": "code",
   "execution_count": 23,
   "metadata": {},
   "outputs": [],
   "source": [
    "fig.write_image(\"popular.svg\", width=1080.0, height=15000.0)"
   ]
  },
  {
   "cell_type": "code",
   "execution_count": 24,
   "metadata": {},
   "outputs": [
    {
     "output_type": "display_data",
     "data": {
      "application/vnd.plotly.v1+json": {
       "config": {
        "plotlyServerURL": "https://plot.ly"
       },
       "data": [
        {
         "cells": {
          "align": "left",
          "fill": {
           "color": "lavender"
          },
          "values": [
           [
            "Planet Earth",
            "The Lost Room",
            "Life on Mars",
            "Studio 60 on the Sunset Strip",
            "Death Note",
            "Jericho",
            "The Unit",
            "Kyle XY",
            "Heroes",
            "Big Love",
            "Torchwood",
            "Brothers & Sisters",
            "Friday Night Lights",
            "Hellsing Ultimate",
            "Eureka",
            "Code Geass",
            "The IT Crowd",
            "30 Rock",
            "Psych",
            "Man vs. Wild",
            "Dexter",
            "Moonlight",
            "Flight of the Conchords",
            "Life",
            "Pushing Daisies",
            "Reaper",
            "The Tudors",
            "Greek",
            "Gossip Girl",
            "Forbrydelsen",
            "Damages",
            "Chuck",
            "Rules of Engagement",
            "Burn Notice",
            "Skins",
            "Californication",
            "Mad Men",
            "Phineas and Ferb",
            "Naruto: Shippûden",
            "The Big Bang Theory",
            "John Adams",
            "Generation Kill",
            "Dr. Horrible's Sing-Along Blog",
            "Terminator: The Sarah Connor Chronicles",
            "Legend of the Seeker",
            "The Inbetweeners",
            "Leverage",
            "Merlin",
            "Breaking Bad",
            "Fringe",
            "Being Human",
            "True Blood",
            "Sons of Anarchy",
            "The Mentalist",
            "Star Wars: The Clone Wars",
            "Harper's Island",
            "Life",
            "Caprica",
            "Party Down",
            "Dollhouse",
            "Better Off Ted",
            "FlashForward",
            "United States of Tara",
            "Hung",
            "Lie to Me",
            "Bored to Death",
            "Stargate Universe",
            "Ezel",
            "Fullmetal Alchemist: Brotherhood",
            "Eastbound & Down",
            "Southland",
            "Misfits",
            "Warehouse 13",
            "White Collar",
            "Nurse Jackie",
            "Dragon Ball Z Kai",
            "Community",
            "The League",
            "Castle",
            "The Good Wife",
            "The Vampire Diaries",
            "Regular Show",
            "The Middle",
            "Fairy Tail",
            "Parks and Recreation",
            "Modern Family",
            "Archer",
            "The Pacific",
            "The Pillars of the Earth",
            "Blue Mountain State",
            "An Idiot Abroad",
            "Spartacus",
            "Nikita",
            "Boardwalk Empire",
            "Covert Affairs",
            "Raising Hope",
            "Parenthood",
            "Justified",
            "Louie",
            "Haven",
            "Downton Abbey",
            "Lost Girl",
            "Rizzoli & Isles",
            "Sherlock",
            "Pretty Little Liars",
            "Adventure Time",
            "Luther",
            "Behzat Ç.: Bir Ankara Polisiyesi",
            "Strike Back",
            "Hawaii Five-0",
            "The Walking Dead",
            "Borgen",
            "Blue Bloods",
            "Conan",
            "Young Justice",
            "Spartacus: Gods of the Arena",
            "Human Planet",
            "Alphas",
            "The Secret Circle",
            "Frozen Planet",
            "The Borgias",
            "Being Human",
            "The Killing",
            "Wilfred",
            "Suburgatory",
            "Leyla and Mecnun",
            "Hunter x Hunter",
            "Falling Skies",
            "Hart of Dixie",
            "Revenge",
            "Steins;Gate",
            "Awkward.",
            "Hell on Wheels",
            "Person of Interest",
            "Undercover",
            "Teen Wolf",
            "Episodes",
            "Workaholics",
            "Switched at Birth",
            "Grimm",
            "The Filthy Frank Show",
            "Bron/Broen",
            "New Girl",
            "Once Upon a Time",
            "Game of Thrones",
            "Suits",
            "The Amazing World of Gumball",
            "Happy Endings",
            "Homeland",
            "Shameless",
            "Last Man Standing",
            "Bob's Burgers",
            "American Horror Story",
            "Black Mirror",
            "Impractical Jokers",
            "Awake",
            "Hatfields & McCoys",
            "Don't Trust the B---- in Apartment 23",
            "Touch",
            "Last Resort",
            "Isler Güçler",
            "The Legend of Korra",
            "The Newsroom",
            "Lilyhammer",
            "Derek",
            "Continuum",
            "House of Lies",
            "Gravity Falls",
            "Beauty and the Beast",
            "Girls",
            "Longmire",
            "The Mindy Project",
            "Scandal",
            "Nashville",
            "Veep",
            "Elementary",
            "Arrow",
            "Call the Midwife",
            "Sword Art Online",
            "Chicago Fire",
            "Line of Duty",
            "Generation War",
            "The White Queen",
            "Witches of East End",
            "Dracula",
            "Utopia",
            "Almost Human",
            "The Tomorrow People",
            "The Following",
            "Da Vinci's Demons",
            "Hannibal",
            "Hemlock Grove",
            "Banshee",
            "Masters of Sex",
            "Rectify",
            "Devious Maids",
            "The Fall",
            "Top of the Lake",
            "Bates Motel",
            "Orphan Black",
            "Broadchurch",
            "Nathan for You",
            "Sleepy Hollow",
            "Reign",
            "House of Cards",
            "The Americans",
            "The Fosters",
            "The Originals",
            "Orange Is the New Black",
            "Ray Donovan",
            "Vikings",
            "Agents of S.H.I.E.L.D.",
            "Steven Universe",
            "Attack on Titan",
            "Mom",
            "Peaky Blinders",
            "Brooklyn Nine-Nine",
            "The Goldbergs",
            "The Blacklist",
            "Rick and Morty",
            "24: Live Another Day",
            "Cosmos",
            "Over the Garden Wall",
            "Tokyo Ghoul",
            "The Knick",
            "Parasyte: The Maxim",
            "Forever",
            "Constantine",
            "Marco Polo",
            "Tyrant",
            "Penny Dreadful",
            "The Musketeers",
            "The Missing",
            "Permanent Roommates",
            "Black Sails",
            "Halt and Catch Fire",
            "The Strain",
            "The Leftovers",
            "Salem",
            "The Last Ship",
            "Star Wars Rebels",
            "Mozart in the Jungle",
            "Scorpion",
            "True Detective",
            "Silicon Valley",
            "Broad City",
            "The Affair",
            "You're the Worst",
            "Madam Secretary",
            "Transparent",
            "Jane the Virgin",
            "Gotham",
            "Dirilis: Ertugrul",
            "The 100",
            "How to Get Away with Murder",
            "Power",
            "BoJack Horseman",
            "Gomorrah",
            "Fargo",
            "Chicago P.D.",
            "Outlander",
            "The Flash",
            "Happy Valley",
            "Black-ish",
            "Bosch",
            "Last Week Tonight with John Oliver",
            "The Seven Deadly Sins",
            "And Then There Were None",
            "River",
            "The Jinx: The Life and Deaths of Robert Durst",
            "Wet Hot American Summer: First Day of Camp",
            "TVF Pitchers",
            "Wayward Pines",
            "Agent Carter",
            "Scream Queens",
            "Limitless",
            "Narcos",
            "Bloodline",
            "Dark Matter",
            "Skam",
            "Sense8",
            "12 Monkeys",
            "The Last Man on Earth",
            "Daredevil",
            "Fortitude",
            "Humans",
            "Ash vs Evil Dead",
            "Dragon Ball Super",
            "Making a Murderer",
            "The Man in the High Castle",
            "Jessica Jones",
            "Ballers",
            "Unbreakable Kimmy Schmidt",
            "iZombie",
            "Poldark",
            "Into the Badlands",
            "Scream: The TV Series",
            "Killjoys",
            "Mr. Robot",
            "Sneaky Pete",
            "Empire",
            "Schitt's Creek",
            "Fresh Off the Boat",
            "The Magicians",
            "Blindspot",
            "Superstore",
            "Better Call Saul",
            "The Expanse",
            "Grace and Frankie",
            "The Last Kingdom",
            "F Is for Family",
            "One Punch Man",
            "Fauda",
            "Master of None",
            "The Night Manager",
            "The Night Of",
            "11.22.63",
            "Vinyl",
            "The Young Pope",
            "War & Peace",
            "Erased",
            "Gilmore Girls: A Year in the Life",
            "Planet Earth II",
            "Inside Look: The People v. O.J. Simpson - American Crime Story",
            "The Shannara Chronicles",
            "Dirk Gently's Holistic Detective Agency",
            "The Get Down",
            "Luke Cage",
            "Vice Principals",
            "Love",
            "Shooter",
            "Colony",
            "The Exorcist",
            "Timeless",
            "Travelers",
            "The OA",
            "Preacher",
            "Lethal Weapon",
            "Designated Survivor",
            "Fleabag",
            "3%",
            "The Good Place",
            "The Ranch",
            "Queen of the South",
            "Wynonna Earp",
            "Westworld",
            "American Crime Story",
            "Lucifer",
            "Billions",
            "Atlanta",
            "Stranger Things",
            "Goliath",
            "The Crown",
            "Victoria",
            "Marcella",
            "This Is Us",
            "Animal Kingdom",
            "My Hero Academia",
            "The Grand Tour",
            "Alias Grace",
            "The Vietnam War",
            "Twin Peaks",
            "The Defenders",
            "Godless",
            "Blue Planet II",
            "American Vandal",
            "Happy!",
            "Big Little Lies",
            "The Gifted",
            "Counterpart",
            "A Series of Unfortunate Events",
            "The Deuce",
            "Legion",
            "Mindhunter",
            "Anne with an E",
            "Santa Clarita Diet",
            "The Punisher",
            "GLOW",
            "The End of the F***ing World",
            "13 Reasons Why",
            "Future Man",
            "Dark",
            "American Gods",
            "Atypical",
            "Castlevania",
            "Taboo",
            "Babylon Berlin",
            "Ozark",
            "Star Trek: Discovery",
            "Manhunt",
            "The Orville",
            "The Marvelous Mrs. Maisel",
            "The Handmaid's Tale",
            "The Good Fight",
            "The Sinner",
            "Young Sheldon",
            "Money Heist",
            "The Good Doctor",
            "Big Mouth",
            "Sharp Objects",
            "Maniac",
            "Patrick Melrose",
            "The Haunting of Hill House",
            "Bodyguard",
            "Wild Wild Country",
            "Safe",
            "Persona",
            "Evil Genius: The True Story of America's Most Diabolical Bank Heist",
            "Yeh Meri Family",
            "The Terror",
            "Sacred Games",
            "Castle Rock",
            "Altered Carbon",
            "The Alienist: Angel of Darkness",
            "Chilling Adventures of Sabrina",
            "The Kominsky Method",
            "Pose",
            "Titans",
            "A Discovery of Witches",
            "Yellowstone",
            "Tom Clancy's Jack Ryan",
            "Lost in Space",
            "Barry",
            "Disenchantment",
            "Final Space",
            "Mirzapur",
            "Good Girls",
            "The Mechanism",
            "Homecoming",
            "Killing Eve",
            "Derry Girls",
            "Elite",
            "Cobra Kai",
            "9-1-1",
            "You",
            "The Rookie",
            "Succession",
            "New Amsterdam",
            "Flames",
            "Legacies",
            "Manifest",
            "Narcos: Mexico",
            "College Romance",
            "Don't F**k with Cats: Hunting an Internet Killer",
            "Good Omens",
            "The Spy",
            "The Dark Crystal: Age of Resistance",
            "Watchmen",
            "When They See Us",
            "Chernobyl",
            "Unbelievable",
            "Swamp Thing",
            "The Act",
            "Years and Years",
            "The Society",
            "Our Planet",
            "Conversations with a Killer: The Ted Bundy Tapes",
            "Kota Factory",
            "The Promised Neverland",
            "Carnival Row",
            "The Boys",
            "The Umbrella Academy",
            "The Witcher",
            "His Dark Materials",
            "Kingdom",
            "Hanna",
            "The Morning Show",
            "Russian Doll",
            "Sex Education",
            "What We Do in the Shadows",
            "See",
            "Dead to Me",
            "Servant",
            "The Mandalorian",
            "Formula 1: Drive to Survive",
            "After Life",
            "Doom Patrol",
            "Modern Love",
            "Euphoria",
            "Living with Yourself",
            "Virgin River",
            "How to Sell Drugs Online (Fast)",
            "Demon Slayer: Kimetsu no Yaiba",
            "The Family Man",
            "Love, Death & Robots",
            "The Queen's Gambit",
            "The Haunting of Bly Manor",
            "Tiger King",
            "Scam 1992: The Harshad Mehta Story",
            "Aashram",
            "Defending Jacob",
            "Messiah",
            "Little Fires Everywhere",
            "Devs",
            "The Undoing",
            "The Last Dance",
            "The Outsider",
            "Normal People",
            "I Am Not Okay with This",
            "The Stranger",
            "Unorthodox",
            "Hollywood",
            "Your Honor",
            "Never Have I Ever",
            "Outer Banks",
            "Alice in Borderland",
            "Into the Night",
            "Ted Lasso",
            "Ethos",
            "Special OPS",
            "Asur: Welcome to Your Dark Side",
            "Panchayat",
            "Paranormal",
            "The Great",
            "Locke & Key",
            "Lovecraft Country",
            "Ratched",
            "Hunters",
            "The Flight Attendant",
            "Gangs of London",
            "Upload",
            "Bridgerton",
            "Star Trek: Picard",
            "Raised by Wolves",
            "Ragnarok",
            "Paatal Lok",
            "The Serpent",
            "It's a Sin",
            "WandaVision",
            "The Falcon and the Winter Soldier",
            "Behind Her Eyes",
            "Ginny & Georgia",
            "Aspirants",
            "Shadow and Bone",
            "Lupin",
            "Invincible",
            "Resident Alien"
           ],
           [
            "2006-01-01T00:00:00",
            "2006-01-01T00:00:00",
            "2006-01-01T00:00:00",
            "2006-01-01T00:00:00",
            "2006-01-01T00:00:00",
            "2006-01-01T00:00:00",
            "2006-01-01T00:00:00",
            "2006-01-01T00:00:00",
            "2006-01-01T00:00:00",
            "2006-01-01T00:00:00",
            "2006-01-01T00:00:00",
            "2006-01-01T00:00:00",
            "2006-01-01T00:00:00",
            "2006-01-01T00:00:00",
            "2006-01-01T00:00:00",
            "2006-01-01T00:00:00",
            "2006-01-01T00:00:00",
            "2006-01-01T00:00:00",
            "2006-01-01T00:00:00",
            "2006-01-01T00:00:00",
            "2006-01-01T00:00:00",
            "2007-01-01T00:00:00",
            "2007-01-01T00:00:00",
            "2007-01-01T00:00:00",
            "2007-01-01T00:00:00",
            "2007-01-01T00:00:00",
            "2007-01-01T00:00:00",
            "2007-01-01T00:00:00",
            "2007-01-01T00:00:00",
            "2007-01-01T00:00:00",
            "2007-01-01T00:00:00",
            "2007-01-01T00:00:00",
            "2007-01-01T00:00:00",
            "2007-01-01T00:00:00",
            "2007-01-01T00:00:00",
            "2007-01-01T00:00:00",
            "2007-01-01T00:00:00",
            "2007-01-01T00:00:00",
            "2007-01-01T00:00:00",
            "2007-01-01T00:00:00",
            "2008-01-01T00:00:00",
            "2008-01-01T00:00:00",
            "2008-01-01T00:00:00",
            "2008-01-01T00:00:00",
            "2008-01-01T00:00:00",
            "2008-01-01T00:00:00",
            "2008-01-01T00:00:00",
            "2008-01-01T00:00:00",
            "2008-01-01T00:00:00",
            "2008-01-01T00:00:00",
            "2008-01-01T00:00:00",
            "2008-01-01T00:00:00",
            "2008-01-01T00:00:00",
            "2008-01-01T00:00:00",
            "2008-01-01T00:00:00",
            "2009-01-01T00:00:00",
            "2009-01-01T00:00:00",
            "2009-01-01T00:00:00",
            "2009-01-01T00:00:00",
            "2009-01-01T00:00:00",
            "2009-01-01T00:00:00",
            "2009-01-01T00:00:00",
            "2009-01-01T00:00:00",
            "2009-01-01T00:00:00",
            "2009-01-01T00:00:00",
            "2009-01-01T00:00:00",
            "2009-01-01T00:00:00",
            "2009-01-01T00:00:00",
            "2009-01-01T00:00:00",
            "2009-01-01T00:00:00",
            "2009-01-01T00:00:00",
            "2009-01-01T00:00:00",
            "2009-01-01T00:00:00",
            "2009-01-01T00:00:00",
            "2009-01-01T00:00:00",
            "2009-01-01T00:00:00",
            "2009-01-01T00:00:00",
            "2009-01-01T00:00:00",
            "2009-01-01T00:00:00",
            "2009-01-01T00:00:00",
            "2009-01-01T00:00:00",
            "2009-01-01T00:00:00",
            "2009-01-01T00:00:00",
            "2009-01-01T00:00:00",
            "2009-01-01T00:00:00",
            "2009-01-01T00:00:00",
            "2009-01-01T00:00:00",
            "2010-01-01T00:00:00",
            "2010-01-01T00:00:00",
            "2010-01-01T00:00:00",
            "2010-01-01T00:00:00",
            "2010-01-01T00:00:00",
            "2010-01-01T00:00:00",
            "2010-01-01T00:00:00",
            "2010-01-01T00:00:00",
            "2010-01-01T00:00:00",
            "2010-01-01T00:00:00",
            "2010-01-01T00:00:00",
            "2010-01-01T00:00:00",
            "2010-01-01T00:00:00",
            "2010-01-01T00:00:00",
            "2010-01-01T00:00:00",
            "2010-01-01T00:00:00",
            "2010-01-01T00:00:00",
            "2010-01-01T00:00:00",
            "2010-01-01T00:00:00",
            "2010-01-01T00:00:00",
            "2010-01-01T00:00:00",
            "2010-01-01T00:00:00",
            "2010-01-01T00:00:00",
            "2010-01-01T00:00:00",
            "2010-01-01T00:00:00",
            "2010-01-01T00:00:00",
            "2010-01-01T00:00:00",
            "2010-01-01T00:00:00",
            "2011-01-01T00:00:00",
            "2011-01-01T00:00:00",
            "2011-01-01T00:00:00",
            "2011-01-01T00:00:00",
            "2011-01-01T00:00:00",
            "2011-01-01T00:00:00",
            "2011-01-01T00:00:00",
            "2011-01-01T00:00:00",
            "2011-01-01T00:00:00",
            "2011-01-01T00:00:00",
            "2011-01-01T00:00:00",
            "2011-01-01T00:00:00",
            "2011-01-01T00:00:00",
            "2011-01-01T00:00:00",
            "2011-01-01T00:00:00",
            "2011-01-01T00:00:00",
            "2011-01-01T00:00:00",
            "2011-01-01T00:00:00",
            "2011-01-01T00:00:00",
            "2011-01-01T00:00:00",
            "2011-01-01T00:00:00",
            "2011-01-01T00:00:00",
            "2011-01-01T00:00:00",
            "2011-01-01T00:00:00",
            "2011-01-01T00:00:00",
            "2011-01-01T00:00:00",
            "2011-01-01T00:00:00",
            "2011-01-01T00:00:00",
            "2011-01-01T00:00:00",
            "2011-01-01T00:00:00",
            "2011-01-01T00:00:00",
            "2011-01-01T00:00:00",
            "2011-01-01T00:00:00",
            "2011-01-01T00:00:00",
            "2011-01-01T00:00:00",
            "2011-01-01T00:00:00",
            "2011-01-01T00:00:00",
            "2011-01-01T00:00:00",
            "2011-01-01T00:00:00",
            "2011-01-01T00:00:00",
            "2012-01-01T00:00:00",
            "2012-01-01T00:00:00",
            "2012-01-01T00:00:00",
            "2012-01-01T00:00:00",
            "2012-01-01T00:00:00",
            "2012-01-01T00:00:00",
            "2012-01-01T00:00:00",
            "2012-01-01T00:00:00",
            "2012-01-01T00:00:00",
            "2012-01-01T00:00:00",
            "2012-01-01T00:00:00",
            "2012-01-01T00:00:00",
            "2012-01-01T00:00:00",
            "2012-01-01T00:00:00",
            "2012-01-01T00:00:00",
            "2012-01-01T00:00:00",
            "2012-01-01T00:00:00",
            "2012-01-01T00:00:00",
            "2012-01-01T00:00:00",
            "2012-01-01T00:00:00",
            "2012-01-01T00:00:00",
            "2012-01-01T00:00:00",
            "2012-01-01T00:00:00",
            "2012-01-01T00:00:00",
            "2012-01-01T00:00:00",
            "2012-01-01T00:00:00",
            "2013-01-01T00:00:00",
            "2013-01-01T00:00:00",
            "2013-01-01T00:00:00",
            "2013-01-01T00:00:00",
            "2013-01-01T00:00:00",
            "2013-01-01T00:00:00",
            "2013-01-01T00:00:00",
            "2013-01-01T00:00:00",
            "2013-01-01T00:00:00",
            "2013-01-01T00:00:00",
            "2013-01-01T00:00:00",
            "2013-01-01T00:00:00",
            "2013-01-01T00:00:00",
            "2013-01-01T00:00:00",
            "2013-01-01T00:00:00",
            "2013-01-01T00:00:00",
            "2013-01-01T00:00:00",
            "2013-01-01T00:00:00",
            "2013-01-01T00:00:00",
            "2013-01-01T00:00:00",
            "2013-01-01T00:00:00",
            "2013-01-01T00:00:00",
            "2013-01-01T00:00:00",
            "2013-01-01T00:00:00",
            "2013-01-01T00:00:00",
            "2013-01-01T00:00:00",
            "2013-01-01T00:00:00",
            "2013-01-01T00:00:00",
            "2013-01-01T00:00:00",
            "2013-01-01T00:00:00",
            "2013-01-01T00:00:00",
            "2013-01-01T00:00:00",
            "2013-01-01T00:00:00",
            "2013-01-01T00:00:00",
            "2013-01-01T00:00:00",
            "2013-01-01T00:00:00",
            "2013-01-01T00:00:00",
            "2013-01-01T00:00:00",
            "2013-01-01T00:00:00",
            "2014-01-01T00:00:00",
            "2014-01-01T00:00:00",
            "2014-01-01T00:00:00",
            "2014-01-01T00:00:00",
            "2014-01-01T00:00:00",
            "2014-01-01T00:00:00",
            "2014-01-01T00:00:00",
            "2014-01-01T00:00:00",
            "2014-01-01T00:00:00",
            "2014-01-01T00:00:00",
            "2014-01-01T00:00:00",
            "2014-01-01T00:00:00",
            "2014-01-01T00:00:00",
            "2014-01-01T00:00:00",
            "2014-01-01T00:00:00",
            "2014-01-01T00:00:00",
            "2014-01-01T00:00:00",
            "2014-01-01T00:00:00",
            "2014-01-01T00:00:00",
            "2014-01-01T00:00:00",
            "2014-01-01T00:00:00",
            "2014-01-01T00:00:00",
            "2014-01-01T00:00:00",
            "2014-01-01T00:00:00",
            "2014-01-01T00:00:00",
            "2014-01-01T00:00:00",
            "2014-01-01T00:00:00",
            "2014-01-01T00:00:00",
            "2014-01-01T00:00:00",
            "2014-01-01T00:00:00",
            "2014-01-01T00:00:00",
            "2014-01-01T00:00:00",
            "2014-01-01T00:00:00",
            "2014-01-01T00:00:00",
            "2014-01-01T00:00:00",
            "2014-01-01T00:00:00",
            "2014-01-01T00:00:00",
            "2014-01-01T00:00:00",
            "2014-01-01T00:00:00",
            "2014-01-01T00:00:00",
            "2014-01-01T00:00:00",
            "2014-01-01T00:00:00",
            "2014-01-01T00:00:00",
            "2014-01-01T00:00:00",
            "2014-01-01T00:00:00",
            "2014-01-01T00:00:00",
            "2014-01-01T00:00:00",
            "2015-01-01T00:00:00",
            "2015-01-01T00:00:00",
            "2015-01-01T00:00:00",
            "2015-01-01T00:00:00",
            "2015-01-01T00:00:00",
            "2015-01-01T00:00:00",
            "2015-01-01T00:00:00",
            "2015-01-01T00:00:00",
            "2015-01-01T00:00:00",
            "2015-01-01T00:00:00",
            "2015-01-01T00:00:00",
            "2015-01-01T00:00:00",
            "2015-01-01T00:00:00",
            "2015-01-01T00:00:00",
            "2015-01-01T00:00:00",
            "2015-01-01T00:00:00",
            "2015-01-01T00:00:00",
            "2015-01-01T00:00:00",
            "2015-01-01T00:00:00",
            "2015-01-01T00:00:00",
            "2015-01-01T00:00:00",
            "2015-01-01T00:00:00",
            "2015-01-01T00:00:00",
            "2015-01-01T00:00:00",
            "2015-01-01T00:00:00",
            "2015-01-01T00:00:00",
            "2015-01-01T00:00:00",
            "2015-01-01T00:00:00",
            "2015-01-01T00:00:00",
            "2015-01-01T00:00:00",
            "2015-01-01T00:00:00",
            "2015-01-01T00:00:00",
            "2015-01-01T00:00:00",
            "2015-01-01T00:00:00",
            "2015-01-01T00:00:00",
            "2015-01-01T00:00:00",
            "2015-01-01T00:00:00",
            "2015-01-01T00:00:00",
            "2015-01-01T00:00:00",
            "2015-01-01T00:00:00",
            "2015-01-01T00:00:00",
            "2015-01-01T00:00:00",
            "2015-01-01T00:00:00",
            "2015-01-01T00:00:00",
            "2015-01-01T00:00:00",
            "2015-01-01T00:00:00",
            "2015-01-01T00:00:00",
            "2016-01-01T00:00:00",
            "2016-01-01T00:00:00",
            "2016-01-01T00:00:00",
            "2016-01-01T00:00:00",
            "2016-01-01T00:00:00",
            "2016-01-01T00:00:00",
            "2016-01-01T00:00:00",
            "2016-01-01T00:00:00",
            "2016-01-01T00:00:00",
            "2016-01-01T00:00:00",
            "2016-01-01T00:00:00",
            "2016-01-01T00:00:00",
            "2016-01-01T00:00:00",
            "2016-01-01T00:00:00",
            "2016-01-01T00:00:00",
            "2016-01-01T00:00:00",
            "2016-01-01T00:00:00",
            "2016-01-01T00:00:00",
            "2016-01-01T00:00:00",
            "2016-01-01T00:00:00",
            "2016-01-01T00:00:00",
            "2016-01-01T00:00:00",
            "2016-01-01T00:00:00",
            "2016-01-01T00:00:00",
            "2016-01-01T00:00:00",
            "2016-01-01T00:00:00",
            "2016-01-01T00:00:00",
            "2016-01-01T00:00:00",
            "2016-01-01T00:00:00",
            "2016-01-01T00:00:00",
            "2016-01-01T00:00:00",
            "2016-01-01T00:00:00",
            "2016-01-01T00:00:00",
            "2016-01-01T00:00:00",
            "2016-01-01T00:00:00",
            "2016-01-01T00:00:00",
            "2016-01-01T00:00:00",
            "2016-01-01T00:00:00",
            "2016-01-01T00:00:00",
            "2016-01-01T00:00:00",
            "2016-01-01T00:00:00",
            "2016-01-01T00:00:00",
            "2016-01-01T00:00:00",
            "2016-01-01T00:00:00",
            "2016-01-01T00:00:00",
            "2017-01-01T00:00:00",
            "2017-01-01T00:00:00",
            "2017-01-01T00:00:00",
            "2017-01-01T00:00:00",
            "2017-01-01T00:00:00",
            "2017-01-01T00:00:00",
            "2017-01-01T00:00:00",
            "2017-01-01T00:00:00",
            "2017-01-01T00:00:00",
            "2017-01-01T00:00:00",
            "2017-01-01T00:00:00",
            "2017-01-01T00:00:00",
            "2017-01-01T00:00:00",
            "2017-01-01T00:00:00",
            "2017-01-01T00:00:00",
            "2017-01-01T00:00:00",
            "2017-01-01T00:00:00",
            "2017-01-01T00:00:00",
            "2017-01-01T00:00:00",
            "2017-01-01T00:00:00",
            "2017-01-01T00:00:00",
            "2017-01-01T00:00:00",
            "2017-01-01T00:00:00",
            "2017-01-01T00:00:00",
            "2017-01-01T00:00:00",
            "2017-01-01T00:00:00",
            "2017-01-01T00:00:00",
            "2017-01-01T00:00:00",
            "2017-01-01T00:00:00",
            "2017-01-01T00:00:00",
            "2017-01-01T00:00:00",
            "2017-01-01T00:00:00",
            "2017-01-01T00:00:00",
            "2017-01-01T00:00:00",
            "2017-01-01T00:00:00",
            "2017-01-01T00:00:00",
            "2017-01-01T00:00:00",
            "2017-01-01T00:00:00",
            "2017-01-01T00:00:00",
            "2017-01-01T00:00:00",
            "2018-01-01T00:00:00",
            "2018-01-01T00:00:00",
            "2018-01-01T00:00:00",
            "2018-01-01T00:00:00",
            "2018-01-01T00:00:00",
            "2018-01-01T00:00:00",
            "2018-01-01T00:00:00",
            "2018-01-01T00:00:00",
            "2018-01-01T00:00:00",
            "2018-01-01T00:00:00",
            "2018-01-01T00:00:00",
            "2018-01-01T00:00:00",
            "2018-01-01T00:00:00",
            "2018-01-01T00:00:00",
            "2018-01-01T00:00:00",
            "2018-01-01T00:00:00",
            "2018-01-01T00:00:00",
            "2018-01-01T00:00:00",
            "2018-01-01T00:00:00",
            "2018-01-01T00:00:00",
            "2018-01-01T00:00:00",
            "2018-01-01T00:00:00",
            "2018-01-01T00:00:00",
            "2018-01-01T00:00:00",
            "2018-01-01T00:00:00",
            "2018-01-01T00:00:00",
            "2018-01-01T00:00:00",
            "2018-01-01T00:00:00",
            "2018-01-01T00:00:00",
            "2018-01-01T00:00:00",
            "2018-01-01T00:00:00",
            "2018-01-01T00:00:00",
            "2018-01-01T00:00:00",
            "2018-01-01T00:00:00",
            "2018-01-01T00:00:00",
            "2018-01-01T00:00:00",
            "2018-01-01T00:00:00",
            "2018-01-01T00:00:00",
            "2018-01-01T00:00:00",
            "2018-01-01T00:00:00",
            "2018-01-01T00:00:00",
            "2018-01-01T00:00:00",
            "2018-01-01T00:00:00",
            "2018-01-01T00:00:00",
            "2019-01-01T00:00:00",
            "2019-01-01T00:00:00",
            "2019-01-01T00:00:00",
            "2019-01-01T00:00:00",
            "2019-01-01T00:00:00",
            "2019-01-01T00:00:00",
            "2019-01-01T00:00:00",
            "2019-01-01T00:00:00",
            "2019-01-01T00:00:00",
            "2019-01-01T00:00:00",
            "2019-01-01T00:00:00",
            "2019-01-01T00:00:00",
            "2019-01-01T00:00:00",
            "2019-01-01T00:00:00",
            "2019-01-01T00:00:00",
            "2019-01-01T00:00:00",
            "2019-01-01T00:00:00",
            "2019-01-01T00:00:00",
            "2019-01-01T00:00:00",
            "2019-01-01T00:00:00",
            "2019-01-01T00:00:00",
            "2019-01-01T00:00:00",
            "2019-01-01T00:00:00",
            "2019-01-01T00:00:00",
            "2019-01-01T00:00:00",
            "2019-01-01T00:00:00",
            "2019-01-01T00:00:00",
            "2019-01-01T00:00:00",
            "2019-01-01T00:00:00",
            "2019-01-01T00:00:00",
            "2019-01-01T00:00:00",
            "2019-01-01T00:00:00",
            "2019-01-01T00:00:00",
            "2019-01-01T00:00:00",
            "2019-01-01T00:00:00",
            "2019-01-01T00:00:00",
            "2019-01-01T00:00:00",
            "2019-01-01T00:00:00",
            "2019-01-01T00:00:00",
            "2019-01-01T00:00:00",
            "2019-01-01T00:00:00",
            "2019-01-01T00:00:00",
            "2020-01-01T00:00:00",
            "2020-01-01T00:00:00",
            "2020-01-01T00:00:00",
            "2020-01-01T00:00:00",
            "2020-01-01T00:00:00",
            "2020-01-01T00:00:00",
            "2020-01-01T00:00:00",
            "2020-01-01T00:00:00",
            "2020-01-01T00:00:00",
            "2020-01-01T00:00:00",
            "2020-01-01T00:00:00",
            "2020-01-01T00:00:00",
            "2020-01-01T00:00:00",
            "2020-01-01T00:00:00",
            "2020-01-01T00:00:00",
            "2020-01-01T00:00:00",
            "2020-01-01T00:00:00",
            "2020-01-01T00:00:00",
            "2020-01-01T00:00:00",
            "2020-01-01T00:00:00",
            "2020-01-01T00:00:00",
            "2020-01-01T00:00:00",
            "2020-01-01T00:00:00",
            "2020-01-01T00:00:00",
            "2020-01-01T00:00:00",
            "2020-01-01T00:00:00",
            "2020-01-01T00:00:00",
            "2020-01-01T00:00:00",
            "2020-01-01T00:00:00",
            "2020-01-01T00:00:00",
            "2020-01-01T00:00:00",
            "2020-01-01T00:00:00",
            "2020-01-01T00:00:00",
            "2020-01-01T00:00:00",
            "2020-01-01T00:00:00",
            "2020-01-01T00:00:00",
            "2020-01-01T00:00:00",
            "2020-01-01T00:00:00",
            "2020-01-01T00:00:00",
            "2020-01-01T00:00:00",
            "2020-01-01T00:00:00",
            "2021-01-01T00:00:00",
            "2021-01-01T00:00:00",
            "2021-01-01T00:00:00",
            "2021-01-01T00:00:00",
            "2021-01-01T00:00:00",
            "2021-01-01T00:00:00",
            "2021-01-01T00:00:00",
            "2021-01-01T00:00:00",
            "2021-01-01T00:00:00",
            "2021-01-01T00:00:00",
            "2021-01-01T00:00:00"
           ],
           [
            "2006-12-31T00:00:00",
            "2006-12-31T00:00:00",
            "2007-12-31T00:00:00",
            "2007-12-31T00:00:00",
            "2007-12-31T00:00:00",
            "2008-12-30T00:00:00",
            "2009-12-31T00:00:00",
            "2009-12-31T00:00:00",
            "2010-12-31T00:00:00",
            "2011-12-31T00:00:00",
            "2011-12-31T00:00:00",
            "2011-12-31T00:00:00",
            "2011-12-31T00:00:00",
            "2012-12-30T00:00:00",
            "2012-12-30T00:00:00",
            "2012-12-30T00:00:00",
            "2013-12-31T00:00:00",
            "2013-12-31T00:00:00",
            "2014-12-31T00:00:00",
            "2020-12-30T00:00:00",
            "2021-12-31T00:00:00",
            "2008-12-30T00:00:00",
            "2009-12-31T00:00:00",
            "2009-12-31T00:00:00",
            "2009-12-31T00:00:00",
            "2009-12-31T00:00:00",
            "2010-12-31T00:00:00",
            "2011-12-31T00:00:00",
            "2012-12-30T00:00:00",
            "2012-12-30T00:00:00",
            "2012-12-30T00:00:00",
            "2012-12-30T00:00:00",
            "2013-12-31T00:00:00",
            "2013-12-31T00:00:00",
            "2013-12-31T00:00:00",
            "2014-12-31T00:00:00",
            "2015-12-31T00:00:00",
            "2015-12-31T00:00:00",
            "2017-12-31T00:00:00",
            "2019-12-31T00:00:00",
            "2008-12-30T00:00:00",
            "2008-12-30T00:00:00",
            "2008-12-30T00:00:00",
            "2009-12-31T00:00:00",
            "2010-12-31T00:00:00",
            "2010-12-31T00:00:00",
            "2012-12-30T00:00:00",
            "2012-12-30T00:00:00",
            "2013-12-31T00:00:00",
            "2013-12-31T00:00:00",
            "2013-12-31T00:00:00",
            "2014-12-31T00:00:00",
            "2014-12-31T00:00:00",
            "2015-12-31T00:00:00",
            "2020-12-30T00:00:00",
            "2009-12-31T00:00:00",
            "2009-12-31T00:00:00",
            "2010-12-31T00:00:00",
            "2010-12-31T00:00:00",
            "2010-12-31T00:00:00",
            "2010-12-31T00:00:00",
            "2010-12-31T00:00:00",
            "2011-12-31T00:00:00",
            "2011-12-31T00:00:00",
            "2011-12-31T00:00:00",
            "2011-12-31T00:00:00",
            "2011-12-31T00:00:00",
            "2011-12-31T00:00:00",
            "2012-12-30T00:00:00",
            "2013-12-31T00:00:00",
            "2013-12-31T00:00:00",
            "2013-12-31T00:00:00",
            "2014-12-31T00:00:00",
            "2014-12-31T00:00:00",
            "2015-12-31T00:00:00",
            "2015-12-31T00:00:00",
            "2015-12-31T00:00:00",
            "2015-12-31T00:00:00",
            "2016-12-30T00:00:00",
            "2016-12-30T00:00:00",
            "2017-12-31T00:00:00",
            "2017-12-31T00:00:00",
            "2018-12-31T00:00:00",
            "2019-12-31T00:00:00",
            "2020-12-30T00:00:00",
            "2020-12-30T00:00:00",
            "2022-12-31T00:00:00",
            "2010-12-31T00:00:00",
            "2010-12-31T00:00:00",
            "2011-12-31T00:00:00",
            "2012-12-30T00:00:00",
            "2013-12-31T00:00:00",
            "2013-12-31T00:00:00",
            "2014-12-31T00:00:00",
            "2014-12-31T00:00:00",
            "2014-12-31T00:00:00",
            "2015-12-31T00:00:00",
            "2015-12-31T00:00:00",
            "2015-12-31T00:00:00",
            "2015-12-31T00:00:00",
            "2015-12-31T00:00:00",
            "2016-12-30T00:00:00",
            "2016-12-30T00:00:00",
            "2017-12-31T00:00:00",
            "2017-12-31T00:00:00",
            "2018-12-31T00:00:00",
            "2019-12-31T00:00:00",
            "2019-12-31T00:00:00",
            "2020-12-30T00:00:00",
            "2020-12-30T00:00:00",
            "2022-12-31T00:00:00",
            "2022-12-31T00:00:00",
            "2022-12-31T00:00:00",
            "2022-12-31T00:00:00",
            "2022-12-31T00:00:00",
            "2011-12-31T00:00:00",
            "2011-12-31T00:00:00",
            "2012-12-30T00:00:00",
            "2012-12-30T00:00:00",
            "2012-12-30T00:00:00",
            "2013-12-31T00:00:00",
            "2014-12-31T00:00:00",
            "2014-12-31T00:00:00",
            "2014-12-31T00:00:00",
            "2014-12-31T00:00:00",
            "2014-12-31T00:00:00",
            "2014-12-31T00:00:00",
            "2015-12-31T00:00:00",
            "2015-12-31T00:00:00",
            "2015-12-31T00:00:00",
            "2015-12-31T00:00:00",
            "2016-12-30T00:00:00",
            "2016-12-30T00:00:00",
            "2016-12-30T00:00:00",
            "2016-12-30T00:00:00",
            "2017-12-31T00:00:00",
            "2017-12-31T00:00:00",
            "2017-12-31T00:00:00",
            "2017-12-31T00:00:00",
            "2017-12-31T00:00:00",
            "2017-12-31T00:00:00",
            "2018-12-31T00:00:00",
            "2018-12-31T00:00:00",
            "2018-12-31T00:00:00",
            "2019-12-31T00:00:00",
            "2019-12-31T00:00:00",
            "2019-12-31T00:00:00",
            "2020-12-30T00:00:00",
            "2020-12-30T00:00:00",
            "2021-12-31T00:00:00",
            "2021-12-31T00:00:00",
            "2022-12-31T00:00:00",
            "2022-12-31T00:00:00",
            "2022-12-31T00:00:00",
            "2022-12-31T00:00:00",
            "2012-12-30T00:00:00",
            "2012-12-30T00:00:00",
            "2013-12-31T00:00:00",
            "2013-12-31T00:00:00",
            "2013-12-31T00:00:00",
            "2013-12-31T00:00:00",
            "2014-12-31T00:00:00",
            "2014-12-31T00:00:00",
            "2014-12-31T00:00:00",
            "2014-12-31T00:00:00",
            "2015-12-31T00:00:00",
            "2016-12-30T00:00:00",
            "2016-12-30T00:00:00",
            "2016-12-30T00:00:00",
            "2017-12-31T00:00:00",
            "2017-12-31T00:00:00",
            "2017-12-31T00:00:00",
            "2018-12-31T00:00:00",
            "2018-12-31T00:00:00",
            "2019-12-31T00:00:00",
            "2019-12-31T00:00:00",
            "2020-12-30T00:00:00",
            "2022-12-31T00:00:00",
            "2022-12-31T00:00:00",
            "2022-12-31T00:00:00",
            "2022-12-31T00:00:00",
            "2013-12-31T00:00:00",
            "2013-12-31T00:00:00",
            "2014-12-31T00:00:00",
            "2014-12-31T00:00:00",
            "2014-12-31T00:00:00",
            "2014-12-31T00:00:00",
            "2014-12-31T00:00:00",
            "2015-12-31T00:00:00",
            "2015-12-31T00:00:00",
            "2015-12-31T00:00:00",
            "2015-12-31T00:00:00",
            "2016-12-30T00:00:00",
            "2016-12-30T00:00:00",
            "2016-12-30T00:00:00",
            "2016-12-30T00:00:00",
            "2016-12-30T00:00:00",
            "2017-12-31T00:00:00",
            "2017-12-31T00:00:00",
            "2017-12-31T00:00:00",
            "2017-12-31T00:00:00",
            "2017-12-31T00:00:00",
            "2017-12-31T00:00:00",
            "2017-12-31T00:00:00",
            "2018-12-31T00:00:00",
            "2018-12-31T00:00:00",
            "2018-12-31T00:00:00",
            "2018-12-31T00:00:00",
            "2019-12-31T00:00:00",
            "2020-12-30T00:00:00",
            "2020-12-30T00:00:00",
            "2020-12-30T00:00:00",
            "2020-12-30T00:00:00",
            "2021-12-31T00:00:00",
            "2021-12-31T00:00:00",
            "2022-12-31T00:00:00",
            "2022-12-31T00:00:00",
            "2022-12-31T00:00:00",
            "2022-12-31T00:00:00",
            "2022-12-31T00:00:00",
            "2014-12-31T00:00:00",
            "2014-12-31T00:00:00",
            "2014-12-31T00:00:00",
            "2014-12-31T00:00:00",
            "2015-12-31T00:00:00",
            "2015-12-31T00:00:00",
            "2015-12-31T00:00:00",
            "2015-12-31T00:00:00",
            "2016-12-30T00:00:00",
            "2016-12-30T00:00:00",
            "2016-12-30T00:00:00",
            "2016-12-30T00:00:00",
            "2016-12-30T00:00:00",
            "2016-12-30T00:00:00",
            "2017-12-31T00:00:00",
            "2017-12-31T00:00:00",
            "2017-12-31T00:00:00",
            "2017-12-31T00:00:00",
            "2017-12-31T00:00:00",
            "2018-12-31T00:00:00",
            "2018-12-31T00:00:00",
            "2018-12-31T00:00:00",
            "2018-12-31T00:00:00",
            "2019-12-31T00:00:00",
            "2019-12-31T00:00:00",
            "2019-12-31T00:00:00",
            "2019-12-31T00:00:00",
            "2019-12-31T00:00:00",
            "2019-12-31T00:00:00",
            "2019-12-31T00:00:00",
            "2019-12-31T00:00:00",
            "2019-12-31T00:00:00",
            "2019-12-31T00:00:00",
            "2020-12-30T00:00:00",
            "2020-12-30T00:00:00",
            "2020-12-30T00:00:00",
            "2020-12-30T00:00:00",
            "2022-12-31T00:00:00",
            "2022-12-31T00:00:00",
            "2022-12-31T00:00:00",
            "2022-12-31T00:00:00",
            "2022-12-31T00:00:00",
            "2022-12-31T00:00:00",
            "2022-12-31T00:00:00",
            "2022-12-31T00:00:00",
            "2022-12-31T00:00:00",
            "2022-12-31T00:00:00",
            "2015-12-31T00:00:00",
            "2015-12-31T00:00:00",
            "2015-12-31T00:00:00",
            "2015-12-31T00:00:00",
            "2015-12-31T00:00:00",
            "2016-12-30T00:00:00",
            "2016-12-30T00:00:00",
            "2016-12-30T00:00:00",
            "2016-12-30T00:00:00",
            "2017-12-31T00:00:00",
            "2017-12-31T00:00:00",
            "2017-12-31T00:00:00",
            "2017-12-31T00:00:00",
            "2018-12-31T00:00:00",
            "2018-12-31T00:00:00",
            "2018-12-31T00:00:00",
            "2018-12-31T00:00:00",
            "2018-12-31T00:00:00",
            "2018-12-31T00:00:00",
            "2018-12-31T00:00:00",
            "2018-12-31T00:00:00",
            "2018-12-31T00:00:00",
            "2019-12-31T00:00:00",
            "2019-12-31T00:00:00",
            "2019-12-31T00:00:00",
            "2019-12-31T00:00:00",
            "2019-12-31T00:00:00",
            "2019-12-31T00:00:00",
            "2019-12-31T00:00:00",
            "2019-12-31T00:00:00",
            "2019-12-31T00:00:00",
            "2019-12-31T00:00:00",
            "2019-12-31T00:00:00",
            "2020-12-30T00:00:00",
            "2020-12-30T00:00:00",
            "2020-12-30T00:00:00",
            "2020-12-30T00:00:00",
            "2020-12-30T00:00:00",
            "2021-12-31T00:00:00",
            "2022-12-31T00:00:00",
            "2022-12-31T00:00:00",
            "2022-12-31T00:00:00",
            "2022-12-31T00:00:00",
            "2022-12-31T00:00:00",
            "2022-12-31T00:00:00",
            "2022-12-31T00:00:00",
            "2022-12-31T00:00:00",
            "2016-12-30T00:00:00",
            "2016-12-30T00:00:00",
            "2016-12-30T00:00:00",
            "2016-12-30T00:00:00",
            "2016-12-30T00:00:00",
            "2016-12-30T00:00:00",
            "2016-12-30T00:00:00",
            "2016-12-30T00:00:00",
            "2016-12-30T00:00:00",
            "2016-12-30T00:00:00",
            "2017-12-31T00:00:00",
            "2017-12-31T00:00:00",
            "2017-12-31T00:00:00",
            "2018-12-31T00:00:00",
            "2018-12-31T00:00:00",
            "2018-12-31T00:00:00",
            "2018-12-31T00:00:00",
            "2018-12-31T00:00:00",
            "2018-12-31T00:00:00",
            "2018-12-31T00:00:00",
            "2018-12-31T00:00:00",
            "2019-12-31T00:00:00",
            "2019-12-31T00:00:00",
            "2019-12-31T00:00:00",
            "2019-12-31T00:00:00",
            "2019-12-31T00:00:00",
            "2020-12-30T00:00:00",
            "2020-12-30T00:00:00",
            "2020-12-30T00:00:00",
            "2021-12-31T00:00:00",
            "2021-12-31T00:00:00",
            "2022-12-31T00:00:00",
            "2022-12-31T00:00:00",
            "2022-12-31T00:00:00",
            "2022-12-31T00:00:00",
            "2022-12-31T00:00:00",
            "2022-12-31T00:00:00",
            "2022-12-31T00:00:00",
            "2022-12-31T00:00:00",
            "2022-12-31T00:00:00",
            "2022-12-31T00:00:00",
            "2022-12-31T00:00:00",
            "2022-12-31T00:00:00",
            "2022-12-31T00:00:00",
            "2022-12-31T00:00:00",
            "2017-12-31T00:00:00",
            "2017-12-31T00:00:00",
            "2017-12-31T00:00:00",
            "2017-12-31T00:00:00",
            "2017-12-31T00:00:00",
            "2017-12-31T00:00:00",
            "2018-12-31T00:00:00",
            "2019-12-31T00:00:00",
            "2019-12-31T00:00:00",
            "2019-12-31T00:00:00",
            "2019-12-31T00:00:00",
            "2019-12-31T00:00:00",
            "2019-12-31T00:00:00",
            "2019-12-31T00:00:00",
            "2019-12-31T00:00:00",
            "2019-12-31T00:00:00",
            "2019-12-31T00:00:00",
            "2019-12-31T00:00:00",
            "2019-12-31T00:00:00",
            "2019-12-31T00:00:00",
            "2020-12-30T00:00:00",
            "2020-12-30T00:00:00",
            "2020-12-30T00:00:00",
            "2021-12-31T00:00:00",
            "2021-12-31T00:00:00",
            "2021-12-31T00:00:00",
            "2022-12-31T00:00:00",
            "2022-12-31T00:00:00",
            "2022-12-31T00:00:00",
            "2022-12-31T00:00:00",
            "2022-12-31T00:00:00",
            "2022-12-31T00:00:00",
            "2022-12-31T00:00:00",
            "2022-12-31T00:00:00",
            "2022-12-31T00:00:00",
            "2022-12-31T00:00:00",
            "2022-12-31T00:00:00",
            "2022-12-31T00:00:00",
            "2022-12-31T00:00:00",
            "2022-12-31T00:00:00",
            "2018-12-31T00:00:00",
            "2018-12-31T00:00:00",
            "2018-12-31T00:00:00",
            "2018-12-31T00:00:00",
            "2018-12-31T00:00:00",
            "2018-12-31T00:00:00",
            "2018-12-31T00:00:00",
            "2018-12-31T00:00:00",
            "2018-12-31T00:00:00",
            "2018-12-31T00:00:00",
            "2019-12-31T00:00:00",
            "2019-12-31T00:00:00",
            "2019-12-31T00:00:00",
            "2020-12-30T00:00:00",
            "2020-12-30T00:00:00",
            "2020-12-30T00:00:00",
            "2021-12-31T00:00:00",
            "2021-12-31T00:00:00",
            "2022-12-31T00:00:00",
            "2022-12-31T00:00:00",
            "2022-12-31T00:00:00",
            "2022-12-31T00:00:00",
            "2022-12-31T00:00:00",
            "2022-12-31T00:00:00",
            "2022-12-31T00:00:00",
            "2022-12-31T00:00:00",
            "2022-12-31T00:00:00",
            "2022-12-31T00:00:00",
            "2022-12-31T00:00:00",
            "2022-12-31T00:00:00",
            "2022-12-31T00:00:00",
            "2022-12-31T00:00:00",
            "2022-12-31T00:00:00",
            "2022-12-31T00:00:00",
            "2022-12-31T00:00:00",
            "2022-12-31T00:00:00",
            "2022-12-31T00:00:00",
            "2022-12-31T00:00:00",
            "2022-12-31T00:00:00",
            "2022-12-31T00:00:00",
            "2022-12-31T00:00:00",
            "2022-12-31T00:00:00",
            "2022-12-31T00:00:00",
            "2022-12-31T00:00:00",
            "2019-12-31T00:00:00",
            "2019-12-31T00:00:00",
            "2019-12-31T00:00:00",
            "2019-12-31T00:00:00",
            "2019-12-31T00:00:00",
            "2019-12-31T00:00:00",
            "2019-12-31T00:00:00",
            "2019-12-31T00:00:00",
            "2019-12-31T00:00:00",
            "2019-12-31T00:00:00",
            "2019-12-31T00:00:00",
            "2019-12-31T00:00:00",
            "2019-12-31T00:00:00",
            "2019-12-31T00:00:00",
            "2019-12-31T00:00:00",
            "2021-12-31T00:00:00",
            "2022-12-31T00:00:00",
            "2022-12-31T00:00:00",
            "2022-12-31T00:00:00",
            "2022-12-31T00:00:00",
            "2022-12-31T00:00:00",
            "2022-12-31T00:00:00",
            "2022-12-31T00:00:00",
            "2022-12-31T00:00:00",
            "2022-12-31T00:00:00",
            "2022-12-31T00:00:00",
            "2022-12-31T00:00:00",
            "2022-12-31T00:00:00",
            "2022-12-31T00:00:00",
            "2022-12-31T00:00:00",
            "2022-12-31T00:00:00",
            "2022-12-31T00:00:00",
            "2022-12-31T00:00:00",
            "2022-12-31T00:00:00",
            "2022-12-31T00:00:00",
            "2022-12-31T00:00:00",
            "2022-12-31T00:00:00",
            "2022-12-31T00:00:00",
            "2022-12-31T00:00:00",
            "2022-12-31T00:00:00",
            "2022-12-31T00:00:00",
            "2022-12-31T00:00:00",
            "2020-12-30T00:00:00",
            "2020-12-30T00:00:00",
            "2020-12-30T00:00:00",
            "2020-12-30T00:00:00",
            "2020-12-30T00:00:00",
            "2020-12-30T00:00:00",
            "2020-12-30T00:00:00",
            "2020-12-30T00:00:00",
            "2020-12-30T00:00:00",
            "2020-12-30T00:00:00",
            "2020-12-30T00:00:00",
            "2020-12-30T00:00:00",
            "2020-12-30T00:00:00",
            "2020-12-30T00:00:00",
            "2020-12-30T00:00:00",
            "2020-12-30T00:00:00",
            "2020-12-30T00:00:00",
            "2021-12-31T00:00:00",
            "2022-12-31T00:00:00",
            "2022-12-31T00:00:00",
            "2022-12-31T00:00:00",
            "2022-12-31T00:00:00",
            "2022-12-31T00:00:00",
            "2022-12-31T00:00:00",
            "2022-12-31T00:00:00",
            "2022-12-31T00:00:00",
            "2022-12-31T00:00:00",
            "2022-12-31T00:00:00",
            "2022-12-31T00:00:00",
            "2022-12-31T00:00:00",
            "2022-12-31T00:00:00",
            "2022-12-31T00:00:00",
            "2022-12-31T00:00:00",
            "2022-12-31T00:00:00",
            "2022-12-31T00:00:00",
            "2022-12-31T00:00:00",
            "2022-12-31T00:00:00",
            "2022-12-31T00:00:00",
            "2022-12-31T00:00:00",
            "2022-12-31T00:00:00",
            "2022-12-31T00:00:00",
            "2021-12-31T00:00:00",
            "2021-12-31T00:00:00",
            "2021-12-31T00:00:00",
            "2021-12-31T00:00:00",
            "2021-12-31T00:00:00",
            "2022-12-31T00:00:00",
            "2022-12-31T00:00:00",
            "2022-12-31T00:00:00",
            "2022-12-31T00:00:00",
            "2022-12-31T00:00:00",
            "2022-12-31T00:00:00"
           ],
           [
            "tt0795176",
            "tt0830361",
            "tt0478942",
            "tt0485842",
            "tt0877057",
            "tt0805663",
            "tt0460690",
            "tt0756509",
            "tt0813715",
            "tt0421030",
            "tt0485301",
            "tt0758737",
            "tt0758745",
            "tt0495212",
            "tt0796264",
            "tt0994314",
            "tt0487831",
            "tt0496424",
            "tt0491738",
            "tt0883772",
            "tt0773262",
            "tt0955346",
            "tt0863046",
            "tt0874936",
            "tt0925266",
            "tt0955322",
            "tt0758790",
            "tt0976014",
            "tt0397442",
            "tt0826760",
            "tt0914387",
            "tt0934814",
            "tt0790772",
            "tt0810788",
            "tt0840196",
            "tt0904208",
            "tt0804503",
            "tt0852863",
            "tt0988824",
            "tt0898266",
            "tt0472027",
            "tt0995832",
            "tt1227926",
            "tt0851851",
            "tt0844653",
            "tt1220617",
            "tt1103987",
            "tt1199099",
            "tt0903747",
            "tt1119644",
            "tt1349938",
            "tt0844441",
            "tt1124373",
            "tt1196946",
            "tt0458290",
            "tt1232320",
            "tt1533395",
            "tt0799862",
            "tt1073507",
            "tt1135300",
            "tt1235547",
            "tt1441135",
            "tt1001482",
            "tt1229413",
            "tt1235099",
            "tt1255913",
            "tt1286039",
            "tt1534360",
            "tt1355642",
            "tt0866442",
            "tt1299368",
            "tt1548850",
            "tt1132290",
            "tt1358522",
            "tt1190689",
            "tt1409055",
            "tt1439629",
            "tt1480684",
            "tt1219024",
            "tt1442462",
            "tt1405406",
            "tt1710308",
            "tt1442464",
            "tt1528406",
            "tt1266020",
            "tt1442437",
            "tt1486217",
            "tt0374463",
            "tt1453159",
            "tt1344204",
            "tt1702042",
            "tt1442449",
            "tt1592154",
            "tt0979432",
            "tt1495708",
            "tt1615919",
            "tt1416765",
            "tt1489428",
            "tt1492966",
            "tt1519931",
            "tt1606375",
            "tt1429449",
            "tt1551632",
            "tt1475582",
            "tt1578873",
            "tt1305826",
            "tt1474684",
            "tt1795096",
            "tt1492179",
            "tt1600194",
            "tt1520211",
            "tt1526318",
            "tt1595859",
            "tt1637574",
            "tt1641384",
            "tt1758429",
            "tt1806234",
            "tt1183865",
            "tt1837654",
            "tt2092588",
            "tt1582457",
            "tt1595680",
            "tt1637727",
            "tt1703925",
            "tt1741256",
            "tt1831164",
            "tt2098220",
            "tt1462059",
            "tt1832979",
            "tt1837642",
            "tt1910272",
            "tt1663676",
            "tt1699748",
            "tt1839578",
            "tt1909015",
            "tt1567432",
            "tt1582350",
            "tt1610527",
            "tt1758772",
            "tt1830617",
            "tt4202274",
            "tt1733785",
            "tt1826940",
            "tt1843230",
            "tt0944947",
            "tt1632701",
            "tt1942683",
            "tt1587678",
            "tt1796960",
            "tt1586680",
            "tt1828327",
            "tt1561755",
            "tt1844624",
            "tt2085059",
            "tt2100976",
            "tt1839683",
            "tt1985443",
            "tt1819509",
            "tt1821681",
            "tt2172103",
            "tt2311418",
            "tt1695360",
            "tt1870479",
            "tt1958961",
            "tt2616280",
            "tt1954347",
            "tt1797404",
            "tt1865718",
            "tt2193041",
            "tt1723816",
            "tt1836037",
            "tt2211129",
            "tt1837576",
            "tt2281375",
            "tt1759761",
            "tt2191671",
            "tt2193021",
            "tt1983079",
            "tt2250192",
            "tt2261391",
            "tt2303687",
            "tt1883092",
            "tt2372220",
            "tt2288064",
            "tt2296682",
            "tt2384811",
            "tt2654580",
            "tt2660734",
            "tt2071645",
            "tt2094262",
            "tt2243973",
            "tt2309295",
            "tt2017109",
            "tt2137109",
            "tt2183404",
            "tt2226342",
            "tt2294189",
            "tt2103085",
            "tt2188671",
            "tt2234222",
            "tt2249364",
            "tt2297757",
            "tt2647544",
            "tt2710394",
            "tt1856010",
            "tt2149175",
            "tt2262532",
            "tt2632424",
            "tt2372162",
            "tt2249007",
            "tt2306299",
            "tt2364582",
            "tt3061046",
            "tt2560140",
            "tt2660806",
            "tt2442560",
            "tt2467372",
            "tt2712740",
            "tt2741602",
            "tt2861424",
            "tt1598754",
            "tt2395695",
            "tt3718778",
            "tt3741634",
            "tt2937900",
            "tt3358020",
            "tt3487382",
            "tt3489184",
            "tt2189461",
            "tt2568204",
            "tt2628232",
            "tt2733252",
            "tt3877200",
            "tt4156586",
            "tt2375692",
            "tt2543312",
            "tt2654620",
            "tt2699128",
            "tt2963254",
            "tt2402207",
            "tt2930604",
            "tt3502172",
            "tt3514324",
            "tt2356777",
            "tt2575988",
            "tt2578560",
            "tt2699110",
            "tt3228420",
            "tt3501074",
            "tt3502262",
            "tt3566726",
            "tt3749900",
            "tt4320258",
            "tt2661044",
            "tt3205802",
            "tt3281796",
            "tt3398228",
            "tt2049116",
            "tt2802850",
            "tt2805096",
            "tt3006802",
            "tt3107288",
            "tt3428912",
            "tt3487356",
            "tt3502248",
            "tt3530232",
            "tt3909224",
            "tt3581932",
            "tt4258440",
            "tt4299972",
            "tt4341500",
            "tt4742876",
            "tt2618986",
            "tt3475734",
            "tt4145384",
            "tt4422836",
            "tt2707408",
            "tt3520702",
            "tt4159076",
            "tt5288312",
            "tt2431438",
            "tt3148266",
            "tt3230454",
            "tt3322312",
            "tt3498622",
            "tt4122068",
            "tt4189022",
            "tt4644488",
            "tt5189670",
            "tt1740299",
            "tt2357547",
            "tt2891574",
            "tt3339966",
            "tt3501584",
            "tt3636060",
            "tt3865236",
            "tt3921180",
            "tt3952222",
            "tt4158110",
            "tt5011816",
            "tt3228904",
            "tt3526078",
            "tt3551096",
            "tt4254242",
            "tt4474344",
            "tt4477976",
            "tt3032476",
            "tt3230854",
            "tt3609352",
            "tt4179452",
            "tt4326894",
            "tt4508902",
            "tt4565380",
            "tt4635276",
            "tt1399664",
            "tt2401256",
            "tt2879552",
            "tt3186130",
            "tt3655448",
            "tt3910804",
            "tt5249462",
            "tt5435008",
            "tt5491994",
            "tt6205862",
            "tt1051220",
            "tt4047038",
            "tt4592410",
            "tt3322314",
            "tt3766376",
            "tt4061080",
            "tt4181172",
            "tt4209256",
            "tt5368542",
            "tt5511582",
            "tt5651844",
            "tt4635282",
            "tt5016504",
            "tt5164196",
            "tt5296406",
            "tt5687612",
            "tt4922804",
            "tt4955642",
            "tt4998212",
            "tt1064899",
            "tt4878326",
            "tt0475784",
            "tt2788432",
            "tt4052886",
            "tt4270492",
            "tt4288182",
            "tt4574334",
            "tt4687880",
            "tt4786824",
            "tt5137338",
            "tt5269594",
            "tt5555260",
            "tt5574490",
            "tt5626028",
            "tt5712554",
            "tt1034007",
            "tt1877514",
            "tt4093826",
            "tt4230076",
            "tt5516154",
            "tt6769208",
            "tt6877772",
            "tt2452242",
            "tt3920596",
            "tt4396630",
            "tt4643084",
            "tt4834206",
            "tt4998350",
            "tt5114356",
            "tt5290382",
            "tt5421602",
            "tt5580540",
            "tt5675620",
            "tt5770786",
            "tt6257970",
            "tt1837492",
            "tt4975856",
            "tt5753856",
            "tt1898069",
            "tt6315640",
            "tt6517102",
            "tt3647998",
            "tt4378376",
            "tt5071412",
            "tt5171438",
            "tt5618256",
            "tt5691552",
            "tt5788792",
            "tt5834204",
            "tt5853176",
            "tt6048596",
            "tt6226232",
            "tt6468322",
            "tt6470478",
            "tt6524350",
            "tt2649356",
            "tt5580146",
            "tt6586318",
            "tt6763664",
            "tt7493974",
            "tt7768848",
            "tt7902072",
            "tt7920978",
            "tt8342862",
            "tt8595766",
            "tt2708480",
            "tt6077448",
            "tt6548228",
            "tt2261227",
            "tt4604612",
            "tt7569592",
            "tt7255502",
            "tt7562112",
            "tt1043813",
            "tt2177461",
            "tt4236770",
            "tt5057054",
            "tt5232792",
            "tt5348176",
            "tt5363918",
            "tt6317068",
            "tt6473300",
            "tt6474378",
            "tt6873658",
            "tt7008682",
            "tt7016936",
            "tt7120662",
            "tt7134908",
            "tt7221388",
            "tt7235466",
            "tt7335184",
            "tt7587890",
            "tt7660850",
            "tt7817340",
            "tt7927936",
            "tt8103070",
            "tt8421350",
            "tt8714904",
            "tt8809646",
            "tt11318602",
            "tt1869454",
            "tt5952634",
            "tt6905542",
            "tt7049682",
            "tt7137906",
            "tt7366338",
            "tt7909970",
            "tt8362852",
            "tt8682948",
            "tt8694364",
            "tt8778064",
            "tt9253866",
            "tt9425132",
            "tt9432978",
            "tt8788458",
            "tt0489974",
            "tt1190634",
            "tt1312171",
            "tt5180504",
            "tt5607976",
            "tt6611916",
            "tt6932244",
            "tt7203552",
            "tt7520794",
            "tt7767422",
            "tt7908628",
            "tt7949218",
            "tt8064302",
            "tt8068860",
            "tt8111088",
            "tt8289930",
            "tt8398600",
            "tt8416494",
            "tt8543390",
            "tt8772296",
            "tt8880894",
            "tt9077530",
            "tt9184994",
            "tt9335498",
            "tt9544034",
            "tt9561862",
            "tt10048342",
            "tt10970552",
            "tt11823076",
            "tt12392504",
            "tt12805346",
            "tt2304589",
            "tt7671598",
            "tt8089592",
            "tt8134186",
            "tt8134470",
            "tt8420184",
            "tt8550800",
            "tt9059760",
            "tt9446688",
            "tt9698480",
            "tt9815454",
            "tt9827854",
            "tt7440726",
            "tt10062292",
            "tt10293938",
            "tt10795658",
            "tt10919486",
            "tt10986410",
            "tt11301642",
            "tt11854694",
            "tt11912196",
            "tt12004706",
            "tt12411074",
            "tt2235759",
            "tt3007572",
            "tt6905686",
            "tt7423538",
            "tt7456722",
            "tt7569576",
            "tt7661390",
            "tt7826376",
            "tt8740790",
            "tt8806524",
            "tt9170108",
            "tt9251798",
            "tt9680440",
            "tt7985576",
            "tt9140342",
            "tt9140560",
            "tt9208876",
            "tt9698442",
            "tt10813940",
            "tt14392248",
            "tt2403776",
            "tt2531336",
            "tt6741278",
            "tt8690918"
           ]
          ]
         },
         "header": {
          "align": "left",
          "fill": {
           "color": "paleturquoise"
          },
          "values": [
           "primaryTitle",
           "startYear",
           "endYear",
           "tconst"
          ]
         },
         "type": "table"
        }
       ],
       "layout": {
        "template": {
         "data": {
          "bar": [
           {
            "error_x": {
             "color": "#2a3f5f"
            },
            "error_y": {
             "color": "#2a3f5f"
            },
            "marker": {
             "line": {
              "color": "#E5ECF6",
              "width": 0.5
             }
            },
            "type": "bar"
           }
          ],
          "barpolar": [
           {
            "marker": {
             "line": {
              "color": "#E5ECF6",
              "width": 0.5
             }
            },
            "type": "barpolar"
           }
          ],
          "carpet": [
           {
            "aaxis": {
             "endlinecolor": "#2a3f5f",
             "gridcolor": "white",
             "linecolor": "white",
             "minorgridcolor": "white",
             "startlinecolor": "#2a3f5f"
            },
            "baxis": {
             "endlinecolor": "#2a3f5f",
             "gridcolor": "white",
             "linecolor": "white",
             "minorgridcolor": "white",
             "startlinecolor": "#2a3f5f"
            },
            "type": "carpet"
           }
          ],
          "choropleth": [
           {
            "colorbar": {
             "outlinewidth": 0,
             "ticks": ""
            },
            "type": "choropleth"
           }
          ],
          "contour": [
           {
            "colorbar": {
             "outlinewidth": 0,
             "ticks": ""
            },
            "colorscale": [
             [
              0,
              "#0d0887"
             ],
             [
              0.1111111111111111,
              "#46039f"
             ],
             [
              0.2222222222222222,
              "#7201a8"
             ],
             [
              0.3333333333333333,
              "#9c179e"
             ],
             [
              0.4444444444444444,
              "#bd3786"
             ],
             [
              0.5555555555555556,
              "#d8576b"
             ],
             [
              0.6666666666666666,
              "#ed7953"
             ],
             [
              0.7777777777777778,
              "#fb9f3a"
             ],
             [
              0.8888888888888888,
              "#fdca26"
             ],
             [
              1,
              "#f0f921"
             ]
            ],
            "type": "contour"
           }
          ],
          "contourcarpet": [
           {
            "colorbar": {
             "outlinewidth": 0,
             "ticks": ""
            },
            "type": "contourcarpet"
           }
          ],
          "heatmap": [
           {
            "colorbar": {
             "outlinewidth": 0,
             "ticks": ""
            },
            "colorscale": [
             [
              0,
              "#0d0887"
             ],
             [
              0.1111111111111111,
              "#46039f"
             ],
             [
              0.2222222222222222,
              "#7201a8"
             ],
             [
              0.3333333333333333,
              "#9c179e"
             ],
             [
              0.4444444444444444,
              "#bd3786"
             ],
             [
              0.5555555555555556,
              "#d8576b"
             ],
             [
              0.6666666666666666,
              "#ed7953"
             ],
             [
              0.7777777777777778,
              "#fb9f3a"
             ],
             [
              0.8888888888888888,
              "#fdca26"
             ],
             [
              1,
              "#f0f921"
             ]
            ],
            "type": "heatmap"
           }
          ],
          "heatmapgl": [
           {
            "colorbar": {
             "outlinewidth": 0,
             "ticks": ""
            },
            "colorscale": [
             [
              0,
              "#0d0887"
             ],
             [
              0.1111111111111111,
              "#46039f"
             ],
             [
              0.2222222222222222,
              "#7201a8"
             ],
             [
              0.3333333333333333,
              "#9c179e"
             ],
             [
              0.4444444444444444,
              "#bd3786"
             ],
             [
              0.5555555555555556,
              "#d8576b"
             ],
             [
              0.6666666666666666,
              "#ed7953"
             ],
             [
              0.7777777777777778,
              "#fb9f3a"
             ],
             [
              0.8888888888888888,
              "#fdca26"
             ],
             [
              1,
              "#f0f921"
             ]
            ],
            "type": "heatmapgl"
           }
          ],
          "histogram": [
           {
            "marker": {
             "colorbar": {
              "outlinewidth": 0,
              "ticks": ""
             }
            },
            "type": "histogram"
           }
          ],
          "histogram2d": [
           {
            "colorbar": {
             "outlinewidth": 0,
             "ticks": ""
            },
            "colorscale": [
             [
              0,
              "#0d0887"
             ],
             [
              0.1111111111111111,
              "#46039f"
             ],
             [
              0.2222222222222222,
              "#7201a8"
             ],
             [
              0.3333333333333333,
              "#9c179e"
             ],
             [
              0.4444444444444444,
              "#bd3786"
             ],
             [
              0.5555555555555556,
              "#d8576b"
             ],
             [
              0.6666666666666666,
              "#ed7953"
             ],
             [
              0.7777777777777778,
              "#fb9f3a"
             ],
             [
              0.8888888888888888,
              "#fdca26"
             ],
             [
              1,
              "#f0f921"
             ]
            ],
            "type": "histogram2d"
           }
          ],
          "histogram2dcontour": [
           {
            "colorbar": {
             "outlinewidth": 0,
             "ticks": ""
            },
            "colorscale": [
             [
              0,
              "#0d0887"
             ],
             [
              0.1111111111111111,
              "#46039f"
             ],
             [
              0.2222222222222222,
              "#7201a8"
             ],
             [
              0.3333333333333333,
              "#9c179e"
             ],
             [
              0.4444444444444444,
              "#bd3786"
             ],
             [
              0.5555555555555556,
              "#d8576b"
             ],
             [
              0.6666666666666666,
              "#ed7953"
             ],
             [
              0.7777777777777778,
              "#fb9f3a"
             ],
             [
              0.8888888888888888,
              "#fdca26"
             ],
             [
              1,
              "#f0f921"
             ]
            ],
            "type": "histogram2dcontour"
           }
          ],
          "mesh3d": [
           {
            "colorbar": {
             "outlinewidth": 0,
             "ticks": ""
            },
            "type": "mesh3d"
           }
          ],
          "parcoords": [
           {
            "line": {
             "colorbar": {
              "outlinewidth": 0,
              "ticks": ""
             }
            },
            "type": "parcoords"
           }
          ],
          "pie": [
           {
            "automargin": true,
            "type": "pie"
           }
          ],
          "scatter": [
           {
            "marker": {
             "colorbar": {
              "outlinewidth": 0,
              "ticks": ""
             }
            },
            "type": "scatter"
           }
          ],
          "scatter3d": [
           {
            "line": {
             "colorbar": {
              "outlinewidth": 0,
              "ticks": ""
             }
            },
            "marker": {
             "colorbar": {
              "outlinewidth": 0,
              "ticks": ""
             }
            },
            "type": "scatter3d"
           }
          ],
          "scattercarpet": [
           {
            "marker": {
             "colorbar": {
              "outlinewidth": 0,
              "ticks": ""
             }
            },
            "type": "scattercarpet"
           }
          ],
          "scattergeo": [
           {
            "marker": {
             "colorbar": {
              "outlinewidth": 0,
              "ticks": ""
             }
            },
            "type": "scattergeo"
           }
          ],
          "scattergl": [
           {
            "marker": {
             "colorbar": {
              "outlinewidth": 0,
              "ticks": ""
             }
            },
            "type": "scattergl"
           }
          ],
          "scattermapbox": [
           {
            "marker": {
             "colorbar": {
              "outlinewidth": 0,
              "ticks": ""
             }
            },
            "type": "scattermapbox"
           }
          ],
          "scatterpolar": [
           {
            "marker": {
             "colorbar": {
              "outlinewidth": 0,
              "ticks": ""
             }
            },
            "type": "scatterpolar"
           }
          ],
          "scatterpolargl": [
           {
            "marker": {
             "colorbar": {
              "outlinewidth": 0,
              "ticks": ""
             }
            },
            "type": "scatterpolargl"
           }
          ],
          "scatterternary": [
           {
            "marker": {
             "colorbar": {
              "outlinewidth": 0,
              "ticks": ""
             }
            },
            "type": "scatterternary"
           }
          ],
          "surface": [
           {
            "colorbar": {
             "outlinewidth": 0,
             "ticks": ""
            },
            "colorscale": [
             [
              0,
              "#0d0887"
             ],
             [
              0.1111111111111111,
              "#46039f"
             ],
             [
              0.2222222222222222,
              "#7201a8"
             ],
             [
              0.3333333333333333,
              "#9c179e"
             ],
             [
              0.4444444444444444,
              "#bd3786"
             ],
             [
              0.5555555555555556,
              "#d8576b"
             ],
             [
              0.6666666666666666,
              "#ed7953"
             ],
             [
              0.7777777777777778,
              "#fb9f3a"
             ],
             [
              0.8888888888888888,
              "#fdca26"
             ],
             [
              1,
              "#f0f921"
             ]
            ],
            "type": "surface"
           }
          ],
          "table": [
           {
            "cells": {
             "fill": {
              "color": "#EBF0F8"
             },
             "line": {
              "color": "white"
             }
            },
            "header": {
             "fill": {
              "color": "#C8D4E3"
             },
             "line": {
              "color": "white"
             }
            },
            "type": "table"
           }
          ]
         },
         "layout": {
          "annotationdefaults": {
           "arrowcolor": "#2a3f5f",
           "arrowhead": 0,
           "arrowwidth": 1
          },
          "autotypenumbers": "strict",
          "coloraxis": {
           "colorbar": {
            "outlinewidth": 0,
            "ticks": ""
           }
          },
          "colorscale": {
           "diverging": [
            [
             0,
             "#8e0152"
            ],
            [
             0.1,
             "#c51b7d"
            ],
            [
             0.2,
             "#de77ae"
            ],
            [
             0.3,
             "#f1b6da"
            ],
            [
             0.4,
             "#fde0ef"
            ],
            [
             0.5,
             "#f7f7f7"
            ],
            [
             0.6,
             "#e6f5d0"
            ],
            [
             0.7,
             "#b8e186"
            ],
            [
             0.8,
             "#7fbc41"
            ],
            [
             0.9,
             "#4d9221"
            ],
            [
             1,
             "#276419"
            ]
           ],
           "sequential": [
            [
             0,
             "#0d0887"
            ],
            [
             0.1111111111111111,
             "#46039f"
            ],
            [
             0.2222222222222222,
             "#7201a8"
            ],
            [
             0.3333333333333333,
             "#9c179e"
            ],
            [
             0.4444444444444444,
             "#bd3786"
            ],
            [
             0.5555555555555556,
             "#d8576b"
            ],
            [
             0.6666666666666666,
             "#ed7953"
            ],
            [
             0.7777777777777778,
             "#fb9f3a"
            ],
            [
             0.8888888888888888,
             "#fdca26"
            ],
            [
             1,
             "#f0f921"
            ]
           ],
           "sequentialminus": [
            [
             0,
             "#0d0887"
            ],
            [
             0.1111111111111111,
             "#46039f"
            ],
            [
             0.2222222222222222,
             "#7201a8"
            ],
            [
             0.3333333333333333,
             "#9c179e"
            ],
            [
             0.4444444444444444,
             "#bd3786"
            ],
            [
             0.5555555555555556,
             "#d8576b"
            ],
            [
             0.6666666666666666,
             "#ed7953"
            ],
            [
             0.7777777777777778,
             "#fb9f3a"
            ],
            [
             0.8888888888888888,
             "#fdca26"
            ],
            [
             1,
             "#f0f921"
            ]
           ]
          },
          "colorway": [
           "#636efa",
           "#EF553B",
           "#00cc96",
           "#ab63fa",
           "#FFA15A",
           "#19d3f3",
           "#FF6692",
           "#B6E880",
           "#FF97FF",
           "#FECB52"
          ],
          "font": {
           "color": "#2a3f5f"
          },
          "geo": {
           "bgcolor": "white",
           "lakecolor": "white",
           "landcolor": "#E5ECF6",
           "showlakes": true,
           "showland": true,
           "subunitcolor": "white"
          },
          "hoverlabel": {
           "align": "left"
          },
          "hovermode": "closest",
          "mapbox": {
           "style": "light"
          },
          "paper_bgcolor": "white",
          "plot_bgcolor": "#E5ECF6",
          "polar": {
           "angularaxis": {
            "gridcolor": "white",
            "linecolor": "white",
            "ticks": ""
           },
           "bgcolor": "#E5ECF6",
           "radialaxis": {
            "gridcolor": "white",
            "linecolor": "white",
            "ticks": ""
           }
          },
          "scene": {
           "xaxis": {
            "backgroundcolor": "#E5ECF6",
            "gridcolor": "white",
            "gridwidth": 2,
            "linecolor": "white",
            "showbackground": true,
            "ticks": "",
            "zerolinecolor": "white"
           },
           "yaxis": {
            "backgroundcolor": "#E5ECF6",
            "gridcolor": "white",
            "gridwidth": 2,
            "linecolor": "white",
            "showbackground": true,
            "ticks": "",
            "zerolinecolor": "white"
           },
           "zaxis": {
            "backgroundcolor": "#E5ECF6",
            "gridcolor": "white",
            "gridwidth": 2,
            "linecolor": "white",
            "showbackground": true,
            "ticks": "",
            "zerolinecolor": "white"
           }
          },
          "shapedefaults": {
           "line": {
            "color": "#2a3f5f"
           }
          },
          "ternary": {
           "aaxis": {
            "gridcolor": "white",
            "linecolor": "white",
            "ticks": ""
           },
           "baxis": {
            "gridcolor": "white",
            "linecolor": "white",
            "ticks": ""
           },
           "bgcolor": "#E5ECF6",
           "caxis": {
            "gridcolor": "white",
            "linecolor": "white",
            "ticks": ""
           }
          },
          "title": {
           "x": 0.05
          },
          "xaxis": {
           "automargin": true,
           "gridcolor": "white",
           "linecolor": "white",
           "ticks": "",
           "title": {
            "standoff": 15
           },
           "zerolinecolor": "white",
           "zerolinewidth": 2
          },
          "yaxis": {
           "automargin": true,
           "gridcolor": "white",
           "linecolor": "white",
           "ticks": "",
           "title": {
            "standoff": 15
           },
           "zerolinecolor": "white",
           "zerolinewidth": 2
          }
         }
        }
       }
      }
     },
     "metadata": {}
    }
   ],
   "source": [
    "fig = go.Figure(data=[go.Table(\n",
    "    header=dict(values=['primaryTitle', 'startYear', 'endYear', 'tconst'],\n",
    "                fill_color='paleturquoise',\n",
    "                align='left'),\n",
    "    cells=dict(values=[tv_popular_sorted.primaryTitle, tv_popular_sorted.startYear, tv_popular_sorted.endYear, tv_popular_sorted.tconst],\n",
    "               fill_color='lavender',\n",
    "               align='left'))\n",
    "])\n",
    "fig.show()"
   ]
  },
  {
   "cell_type": "code",
   "execution_count": 25,
   "metadata": {},
   "outputs": [
    {
     "output_type": "stream",
     "name": "stdout",
     "text": [
      "Amount of episodes connected to series found: (5790039, 15)\n",
      "Amount of episodes merged to popular tv serie parent: (5790039, 27)\n",
      "Amount of episodes actually has  popular tv serie parent: (28697, 27)\n"
     ]
    },
    {
     "output_type": "execute_result",
     "data": {
      "text/plain": [
       "  episodeTconst parentTconst  seasonNumber  episodeNumber episodeTitleType  \\\n",
       "0     tt1576600    tt0374463           1.0            1.0        tvEpisode   \n",
       "1     tt1576598    tt0374463           1.0            2.0        tvEpisode   \n",
       "2     tt1576603    tt0374463           1.0            3.0        tvEpisode   \n",
       "3     tt1576599    tt0374463           1.0            4.0        tvEpisode   \n",
       "4     tt1576607    tt0374463           1.0            5.0        tvEpisode   \n",
       "\n",
       "        episodePrimaryTitle      episodeOriginalTitle  episodeIsAdult  \\\n",
       "0        Guadalcanal/Leckie        Guadalcanal/Leckie             0.0   \n",
       "1                  Basilone                  Basilone             0.0   \n",
       "2                 Melbourne                 Melbourne             0.0   \n",
       "3  Gloucester/Pavuvu/Banika  Gloucester/Pavuvu/Banika             0.0   \n",
       "4           Peleliu Landing           Peleliu Landing             0.0   \n",
       "\n",
       "  episodeStartYear episodeEndYear  ...  primaryTitle originalTitle isAdult  \\\n",
       "0       2010-01-01     2022-12-31  ...   The Pacific   The Pacific     0.0   \n",
       "1       2010-01-01     2022-12-31  ...   The Pacific   The Pacific     0.0   \n",
       "2       2010-01-01     2022-12-31  ...   The Pacific   The Pacific     0.0   \n",
       "3       2010-01-01     2022-12-31  ...   The Pacific   The Pacific     0.0   \n",
       "4       2010-01-01     2022-12-31  ...   The Pacific   The Pacific     0.0   \n",
       "\n",
       "   startYear    endYear runtimeMinutes                  genres  \\\n",
       "0 2010-01-01 2010-12-31          530.0  Action,Adventure,Drama   \n",
       "1 2010-01-01 2010-12-31          530.0  Action,Adventure,Drama   \n",
       "2 2010-01-01 2010-12-31          530.0  Action,Adventure,Drama   \n",
       "3 2010-01-01 2010-12-31          530.0  Action,Adventure,Drama   \n",
       "4 2010-01-01 2010-12-31          530.0  Action,Adventure,Drama   \n",
       "\n",
       "        title_and_tconst averageRating  numVotes  \n",
       "0  The Pacific tt0374463           8.3  101949.0  \n",
       "1  The Pacific tt0374463           8.3  101949.0  \n",
       "2  The Pacific tt0374463           8.3  101949.0  \n",
       "3  The Pacific tt0374463           8.3  101949.0  \n",
       "4  The Pacific tt0374463           8.3  101949.0  \n",
       "\n",
       "[5 rows x 27 columns]"
      ],
      "text/html": "<div>\n<style scoped>\n    .dataframe tbody tr th:only-of-type {\n        vertical-align: middle;\n    }\n\n    .dataframe tbody tr th {\n        vertical-align: top;\n    }\n\n    .dataframe thead th {\n        text-align: right;\n    }\n</style>\n<table border=\"1\" class=\"dataframe\">\n  <thead>\n    <tr style=\"text-align: right;\">\n      <th></th>\n      <th>episodeTconst</th>\n      <th>parentTconst</th>\n      <th>seasonNumber</th>\n      <th>episodeNumber</th>\n      <th>episodeTitleType</th>\n      <th>episodePrimaryTitle</th>\n      <th>episodeOriginalTitle</th>\n      <th>episodeIsAdult</th>\n      <th>episodeStartYear</th>\n      <th>episodeEndYear</th>\n      <th>...</th>\n      <th>primaryTitle</th>\n      <th>originalTitle</th>\n      <th>isAdult</th>\n      <th>startYear</th>\n      <th>endYear</th>\n      <th>runtimeMinutes</th>\n      <th>genres</th>\n      <th>title_and_tconst</th>\n      <th>averageRating</th>\n      <th>numVotes</th>\n    </tr>\n  </thead>\n  <tbody>\n    <tr>\n      <th>0</th>\n      <td>tt1576600</td>\n      <td>tt0374463</td>\n      <td>1.0</td>\n      <td>1.0</td>\n      <td>tvEpisode</td>\n      <td>Guadalcanal/Leckie</td>\n      <td>Guadalcanal/Leckie</td>\n      <td>0.0</td>\n      <td>2010-01-01</td>\n      <td>2022-12-31</td>\n      <td>...</td>\n      <td>The Pacific</td>\n      <td>The Pacific</td>\n      <td>0.0</td>\n      <td>2010-01-01</td>\n      <td>2010-12-31</td>\n      <td>530.0</td>\n      <td>Action,Adventure,Drama</td>\n      <td>The Pacific tt0374463</td>\n      <td>8.3</td>\n      <td>101949.0</td>\n    </tr>\n    <tr>\n      <th>1</th>\n      <td>tt1576598</td>\n      <td>tt0374463</td>\n      <td>1.0</td>\n      <td>2.0</td>\n      <td>tvEpisode</td>\n      <td>Basilone</td>\n      <td>Basilone</td>\n      <td>0.0</td>\n      <td>2010-01-01</td>\n      <td>2022-12-31</td>\n      <td>...</td>\n      <td>The Pacific</td>\n      <td>The Pacific</td>\n      <td>0.0</td>\n      <td>2010-01-01</td>\n      <td>2010-12-31</td>\n      <td>530.0</td>\n      <td>Action,Adventure,Drama</td>\n      <td>The Pacific tt0374463</td>\n      <td>8.3</td>\n      <td>101949.0</td>\n    </tr>\n    <tr>\n      <th>2</th>\n      <td>tt1576603</td>\n      <td>tt0374463</td>\n      <td>1.0</td>\n      <td>3.0</td>\n      <td>tvEpisode</td>\n      <td>Melbourne</td>\n      <td>Melbourne</td>\n      <td>0.0</td>\n      <td>2010-01-01</td>\n      <td>2022-12-31</td>\n      <td>...</td>\n      <td>The Pacific</td>\n      <td>The Pacific</td>\n      <td>0.0</td>\n      <td>2010-01-01</td>\n      <td>2010-12-31</td>\n      <td>530.0</td>\n      <td>Action,Adventure,Drama</td>\n      <td>The Pacific tt0374463</td>\n      <td>8.3</td>\n      <td>101949.0</td>\n    </tr>\n    <tr>\n      <th>3</th>\n      <td>tt1576599</td>\n      <td>tt0374463</td>\n      <td>1.0</td>\n      <td>4.0</td>\n      <td>tvEpisode</td>\n      <td>Gloucester/Pavuvu/Banika</td>\n      <td>Gloucester/Pavuvu/Banika</td>\n      <td>0.0</td>\n      <td>2010-01-01</td>\n      <td>2022-12-31</td>\n      <td>...</td>\n      <td>The Pacific</td>\n      <td>The Pacific</td>\n      <td>0.0</td>\n      <td>2010-01-01</td>\n      <td>2010-12-31</td>\n      <td>530.0</td>\n      <td>Action,Adventure,Drama</td>\n      <td>The Pacific tt0374463</td>\n      <td>8.3</td>\n      <td>101949.0</td>\n    </tr>\n    <tr>\n      <th>4</th>\n      <td>tt1576607</td>\n      <td>tt0374463</td>\n      <td>1.0</td>\n      <td>5.0</td>\n      <td>tvEpisode</td>\n      <td>Peleliu Landing</td>\n      <td>Peleliu Landing</td>\n      <td>0.0</td>\n      <td>2010-01-01</td>\n      <td>2022-12-31</td>\n      <td>...</td>\n      <td>The Pacific</td>\n      <td>The Pacific</td>\n      <td>0.0</td>\n      <td>2010-01-01</td>\n      <td>2010-12-31</td>\n      <td>530.0</td>\n      <td>Action,Adventure,Drama</td>\n      <td>The Pacific tt0374463</td>\n      <td>8.3</td>\n      <td>101949.0</td>\n    </tr>\n  </tbody>\n</table>\n<p>5 rows × 27 columns</p>\n</div>"
     },
     "metadata": {},
     "execution_count": 25
    }
   ],
   "source": [
    "# add info to episode\n",
    "episode_merged = pd.merge(episode_file, ratings_merged, how=\"left\", on=\"tconst\")\n",
    "# TODO remove empty / non merged\n",
    "print(\"Amount of episodes connected to series found:\", episode_merged.shape)\n",
    "# rename episode only columns\n",
    "episode_merged.rename(columns = {'tconst':'episodeTconst'}, inplace = True)\n",
    "episode_merged.rename(columns = {'averageRating':'episodeAverageRating'}, inplace = True)\n",
    "episode_merged.rename(columns = {'numVotes':'episodeNumVotes'}, inplace = True)\n",
    "episode_merged.rename(columns = {'titleType':'episodeTitleType'}, inplace = True)\n",
    "episode_merged.rename(columns = {'primaryTitle':'episodePrimaryTitle'}, inplace = True)\n",
    "episode_merged.rename(columns = {'originalTitle':'episodeOriginalTitle'}, inplace = True)\n",
    "episode_merged.rename(columns = {'isAdult':'episodeIsAdult'}, inplace = True)\n",
    "episode_merged.rename(columns = {'startYear':'episodeStartYear'}, inplace = True)\n",
    "episode_merged.rename(columns = {'endYear':'episodeEndYear'}, inplace = True)\n",
    "episode_merged.rename(columns = {'runtimeMinutes':'episodeRuntimeMinutes'}, inplace = True)\n",
    "episode_merged.rename(columns = {'genres':'episodeGenres'}, inplace = True)\n",
    "episode_merged.rename(columns = {'title_and_tconst':'episode_title_and_tconst'}, inplace = True)\n",
    "# add parent info to episode\n",
    "episode_merged = pd.merge(episode_merged, tv_popular_sorted, how=\"left\", left_on='parentTconst', right_on='tconst')\n",
    "print(\"Amount of episodes merged to popular tv serie parent:\", episode_merged.shape)\n",
    "# remove episodes without parent\n",
    "episode_merged = episode_merged[(episode_merged[\"titleType\"] == 'tvSeries') | (episode_merged[\"titleType\"] == 'tvMiniSeries')]\n",
    "print(\"Amount of episodes actually has  popular tv serie parent:\", episode_merged.shape)\n",
    "# sort episodes\n",
    "episode_merged = episode_merged.sort_values(by=[\"parentTconst\", \"episodeStartYear\", \"seasonNumber\", \"episodeNumber\"])\n",
    "# reset index\n",
    "episode_merged = episode_merged.reset_index()\n",
    "episode_merged.pop(\"index\")\n",
    "episode_merged.head()"
   ]
  },
  {
   "cell_type": "code",
   "execution_count": 27,
   "metadata": {},
   "outputs": [
    {
     "output_type": "stream",
     "name": "stdout",
     "text": [
      "episodeTconst                                  tt1576600\nparentTconst                                   tt0374463\nseasonNumber                                         1.0\nepisodeNumber                                        1.0\nepisodeTitleType                               tvEpisode\nepisodePrimaryTitle                   Guadalcanal/Leckie\nepisodeOriginalTitle                  Guadalcanal/Leckie\nepisodeIsAdult                                       0.0\nepisodeStartYear                     2010-01-01 00:00:00\nepisodeEndYear                       2022-12-31 00:00:00\nepisodeRuntimeMinutes                               52.0\nepisodeGenres                     Action,Adventure,Drama\nepisode_title_and_tconst    Guadalcanal/Leckie tt1576600\nepisodeAverageRating                                 8.0\nepisodeNumVotes                                   2147.0\ntconst                                         tt0374463\ntitleType                                   tvMiniSeries\nprimaryTitle                                 The Pacific\noriginalTitle                                The Pacific\nisAdult                                              0.0\nstartYear                            2010-01-01 00:00:00\nendYear                              2010-12-31 00:00:00\nruntimeMinutes                                     530.0\ngenres                            Action,Adventure,Drama\ntitle_and_tconst                   The Pacific tt0374463\naverageRating                                        8.3\nnumVotes                                        101949.0\nName: 0, dtype: object\n"
     ]
    }
   ],
   "source": [
    "print(episode_merged.iloc[0])"
   ]
  },
  {
   "cell_type": "code",
   "execution_count": 28,
   "metadata": {},
   "outputs": [
    {
     "output_type": "stream",
     "name": "stdout",
     "text": [
      "Amount of unique parents: 537\n"
     ]
    }
   ],
   "source": [
    "print(\"Amount of unique parents:\", len(episode_merged[\"parentTconst\"].unique()))"
   ]
  },
  {
   "cell_type": "code",
   "execution_count": 29,
   "metadata": {},
   "outputs": [
    {
     "output_type": "execute_result",
     "data": {
      "text/plain": [
       "  parentTconst episodeStartYear  count\n",
       "0    tt0374463       2010-01-01     10\n",
       "1    tt0397442       2007-01-01     11\n",
       "2    tt0397442       2008-01-01     20\n",
       "3    tt0397442       2009-01-01     24\n",
       "4    tt0397442       2010-01-01     21"
      ],
      "text/html": "<div>\n<style scoped>\n    .dataframe tbody tr th:only-of-type {\n        vertical-align: middle;\n    }\n\n    .dataframe tbody tr th {\n        vertical-align: top;\n    }\n\n    .dataframe thead th {\n        text-align: right;\n    }\n</style>\n<table border=\"1\" class=\"dataframe\">\n  <thead>\n    <tr style=\"text-align: right;\">\n      <th></th>\n      <th>parentTconst</th>\n      <th>episodeStartYear</th>\n      <th>count</th>\n    </tr>\n  </thead>\n  <tbody>\n    <tr>\n      <th>0</th>\n      <td>tt0374463</td>\n      <td>2010-01-01</td>\n      <td>10</td>\n    </tr>\n    <tr>\n      <th>1</th>\n      <td>tt0397442</td>\n      <td>2007-01-01</td>\n      <td>11</td>\n    </tr>\n    <tr>\n      <th>2</th>\n      <td>tt0397442</td>\n      <td>2008-01-01</td>\n      <td>20</td>\n    </tr>\n    <tr>\n      <th>3</th>\n      <td>tt0397442</td>\n      <td>2009-01-01</td>\n      <td>24</td>\n    </tr>\n    <tr>\n      <th>4</th>\n      <td>tt0397442</td>\n      <td>2010-01-01</td>\n      <td>21</td>\n    </tr>\n  </tbody>\n</table>\n</div>"
     },
     "metadata": {},
     "execution_count": 29
    }
   ],
   "source": [
    "episodes_in_year = episode_merged.groupby(['parentTconst','episodeStartYear']).size().reset_index().rename(columns={0:'count'})\n",
    "episodes_in_year.head()"
   ]
  },
  {
   "cell_type": "code",
   "execution_count": 30,
   "metadata": {},
   "outputs": [
    {
     "output_type": "stream",
     "name": "stdout",
     "text": [
      "28697 / 28697\n"
     ]
    }
   ],
   "source": [
    "# add columns begin and end day in year\n",
    "episode_merged[\"episodes_start\"] = np.datetime64('2000-01-01')\n",
    "episode_merged[\"episodes_end\"] = np.datetime64('2000-01-01')\n",
    "# because of sort count episodes\n",
    "last_start_number = 0.0\n",
    "last_parentTconst = \"\"\n",
    "last_episodeStartYear = \"\"\n",
    "last_seasonNumber = 0.0\n",
    "# loop\n",
    "episodes_len = len(episode_merged)\n",
    "for i in range(episodes_len):\n",
    "    clear_output(wait=True)\n",
    "    print(i+1, \"/\", episodes_len)\n",
    "    row = episode_merged.loc[i]\n",
    "    current_parentTconst = row[\"parentTconst\"]\n",
    "    current_episodeStartYear = row[\"episodeStartYear\"]\n",
    "    current_seasonNumber = row[\"seasonNumber\"]\n",
    "    current_episodeNumber = row[\"episodeNumber\"]\n",
    "    current_episodes_in_year = episodes_in_year[(episodes_in_year[\"parentTconst\"] == current_parentTconst) & (episodes_in_year[\"episodeStartYear\"] == current_episodeStartYear)]\n",
    "    if len(current_episodes_in_year) != 1:\n",
    "        print(current_episodes_in_year)\n",
    "        print(row)\n",
    "        break\n",
    "    current_episodes_in_year = current_episodes_in_year[\"count\"].iloc[0]\n",
    "    distributed = 31536000.0/current_episodes_in_year\n",
    "    if last_parentTconst != current_parentTconst:\n",
    "        last_start_number = 0.0\n",
    "        last_parentTconst = current_parentTconst\n",
    "    if last_episodeStartYear != current_episodeStartYear:\n",
    "        last_start_number = 0.0\n",
    "        last_episodeStartYear = current_episodeStartYear\n",
    "    episodes_start_sec = int(distributed*last_start_number)\n",
    "    episodes_end_sec = int(distributed*(last_start_number+1.0))\n",
    "    episode_merged.loc[i, \"episodes_start\"] = current_episodeStartYear + np.timedelta64(episodes_start_sec, 's')\n",
    "    episode_merged.loc[i, \"episodes_end\"] = current_episodeStartYear + np.timedelta64(episodes_end_sec, 's')\n",
    "    last_start_number += 1.0\n"
   ]
  },
  {
   "cell_type": "code",
   "execution_count": 32,
   "metadata": {},
   "outputs": [],
   "source": [
    "episode_merged[\"episodeEndYear\"] = episode_merged[\"episodeStartYear\"] + np.timedelta64(1, 'Y')"
   ]
  },
  {
   "cell_type": "code",
   "execution_count": 33,
   "metadata": {},
   "outputs": [
    {
     "output_type": "execute_result",
     "data": {
      "text/plain": [
       "  episodeTconst parentTconst  seasonNumber  episodeNumber episodeTitleType  \\\n",
       "0     tt1576600    tt0374463           1.0            1.0        tvEpisode   \n",
       "1     tt1576598    tt0374463           1.0            2.0        tvEpisode   \n",
       "2     tt1576603    tt0374463           1.0            3.0        tvEpisode   \n",
       "3     tt1576599    tt0374463           1.0            4.0        tvEpisode   \n",
       "4     tt1576607    tt0374463           1.0            5.0        tvEpisode   \n",
       "\n",
       "        episodePrimaryTitle      episodeOriginalTitle  episodeIsAdult  \\\n",
       "0        Guadalcanal/Leckie        Guadalcanal/Leckie             0.0   \n",
       "1                  Basilone                  Basilone             0.0   \n",
       "2                 Melbourne                 Melbourne             0.0   \n",
       "3  Gloucester/Pavuvu/Banika  Gloucester/Pavuvu/Banika             0.0   \n",
       "4           Peleliu Landing           Peleliu Landing             0.0   \n",
       "\n",
       "  episodeStartYear      episodeEndYear  ...  isAdult  startYear    endYear  \\\n",
       "0       2010-01-01 2011-01-01 05:49:12  ...      0.0 2010-01-01 2010-12-31   \n",
       "1       2010-01-01 2011-01-01 05:49:12  ...      0.0 2010-01-01 2010-12-31   \n",
       "2       2010-01-01 2011-01-01 05:49:12  ...      0.0 2010-01-01 2010-12-31   \n",
       "3       2010-01-01 2011-01-01 05:49:12  ...      0.0 2010-01-01 2010-12-31   \n",
       "4       2010-01-01 2011-01-01 05:49:12  ...      0.0 2010-01-01 2010-12-31   \n",
       "\n",
       "   runtimeMinutes                  genres       title_and_tconst  \\\n",
       "0           530.0  Action,Adventure,Drama  The Pacific tt0374463   \n",
       "1           530.0  Action,Adventure,Drama  The Pacific tt0374463   \n",
       "2           530.0  Action,Adventure,Drama  The Pacific tt0374463   \n",
       "3           530.0  Action,Adventure,Drama  The Pacific tt0374463   \n",
       "4           530.0  Action,Adventure,Drama  The Pacific tt0374463   \n",
       "\n",
       "  averageRating  numVotes      episodes_start        episodes_end  \n",
       "0           8.3  101949.0 2010-01-01 00:00:00 2010-02-06 12:00:00  \n",
       "1           8.3  101949.0 2010-02-06 12:00:00 2010-03-15 00:00:00  \n",
       "2           8.3  101949.0 2010-03-15 00:00:00 2010-04-20 12:00:00  \n",
       "3           8.3  101949.0 2010-04-20 12:00:00 2010-05-27 00:00:00  \n",
       "4           8.3  101949.0 2010-05-27 00:00:00 2010-07-02 12:00:00  \n",
       "\n",
       "[5 rows x 29 columns]"
      ],
      "text/html": "<div>\n<style scoped>\n    .dataframe tbody tr th:only-of-type {\n        vertical-align: middle;\n    }\n\n    .dataframe tbody tr th {\n        vertical-align: top;\n    }\n\n    .dataframe thead th {\n        text-align: right;\n    }\n</style>\n<table border=\"1\" class=\"dataframe\">\n  <thead>\n    <tr style=\"text-align: right;\">\n      <th></th>\n      <th>episodeTconst</th>\n      <th>parentTconst</th>\n      <th>seasonNumber</th>\n      <th>episodeNumber</th>\n      <th>episodeTitleType</th>\n      <th>episodePrimaryTitle</th>\n      <th>episodeOriginalTitle</th>\n      <th>episodeIsAdult</th>\n      <th>episodeStartYear</th>\n      <th>episodeEndYear</th>\n      <th>...</th>\n      <th>isAdult</th>\n      <th>startYear</th>\n      <th>endYear</th>\n      <th>runtimeMinutes</th>\n      <th>genres</th>\n      <th>title_and_tconst</th>\n      <th>averageRating</th>\n      <th>numVotes</th>\n      <th>episodes_start</th>\n      <th>episodes_end</th>\n    </tr>\n  </thead>\n  <tbody>\n    <tr>\n      <th>0</th>\n      <td>tt1576600</td>\n      <td>tt0374463</td>\n      <td>1.0</td>\n      <td>1.0</td>\n      <td>tvEpisode</td>\n      <td>Guadalcanal/Leckie</td>\n      <td>Guadalcanal/Leckie</td>\n      <td>0.0</td>\n      <td>2010-01-01</td>\n      <td>2011-01-01 05:49:12</td>\n      <td>...</td>\n      <td>0.0</td>\n      <td>2010-01-01</td>\n      <td>2010-12-31</td>\n      <td>530.0</td>\n      <td>Action,Adventure,Drama</td>\n      <td>The Pacific tt0374463</td>\n      <td>8.3</td>\n      <td>101949.0</td>\n      <td>2010-01-01 00:00:00</td>\n      <td>2010-02-06 12:00:00</td>\n    </tr>\n    <tr>\n      <th>1</th>\n      <td>tt1576598</td>\n      <td>tt0374463</td>\n      <td>1.0</td>\n      <td>2.0</td>\n      <td>tvEpisode</td>\n      <td>Basilone</td>\n      <td>Basilone</td>\n      <td>0.0</td>\n      <td>2010-01-01</td>\n      <td>2011-01-01 05:49:12</td>\n      <td>...</td>\n      <td>0.0</td>\n      <td>2010-01-01</td>\n      <td>2010-12-31</td>\n      <td>530.0</td>\n      <td>Action,Adventure,Drama</td>\n      <td>The Pacific tt0374463</td>\n      <td>8.3</td>\n      <td>101949.0</td>\n      <td>2010-02-06 12:00:00</td>\n      <td>2010-03-15 00:00:00</td>\n    </tr>\n    <tr>\n      <th>2</th>\n      <td>tt1576603</td>\n      <td>tt0374463</td>\n      <td>1.0</td>\n      <td>3.0</td>\n      <td>tvEpisode</td>\n      <td>Melbourne</td>\n      <td>Melbourne</td>\n      <td>0.0</td>\n      <td>2010-01-01</td>\n      <td>2011-01-01 05:49:12</td>\n      <td>...</td>\n      <td>0.0</td>\n      <td>2010-01-01</td>\n      <td>2010-12-31</td>\n      <td>530.0</td>\n      <td>Action,Adventure,Drama</td>\n      <td>The Pacific tt0374463</td>\n      <td>8.3</td>\n      <td>101949.0</td>\n      <td>2010-03-15 00:00:00</td>\n      <td>2010-04-20 12:00:00</td>\n    </tr>\n    <tr>\n      <th>3</th>\n      <td>tt1576599</td>\n      <td>tt0374463</td>\n      <td>1.0</td>\n      <td>4.0</td>\n      <td>tvEpisode</td>\n      <td>Gloucester/Pavuvu/Banika</td>\n      <td>Gloucester/Pavuvu/Banika</td>\n      <td>0.0</td>\n      <td>2010-01-01</td>\n      <td>2011-01-01 05:49:12</td>\n      <td>...</td>\n      <td>0.0</td>\n      <td>2010-01-01</td>\n      <td>2010-12-31</td>\n      <td>530.0</td>\n      <td>Action,Adventure,Drama</td>\n      <td>The Pacific tt0374463</td>\n      <td>8.3</td>\n      <td>101949.0</td>\n      <td>2010-04-20 12:00:00</td>\n      <td>2010-05-27 00:00:00</td>\n    </tr>\n    <tr>\n      <th>4</th>\n      <td>tt1576607</td>\n      <td>tt0374463</td>\n      <td>1.0</td>\n      <td>5.0</td>\n      <td>tvEpisode</td>\n      <td>Peleliu Landing</td>\n      <td>Peleliu Landing</td>\n      <td>0.0</td>\n      <td>2010-01-01</td>\n      <td>2011-01-01 05:49:12</td>\n      <td>...</td>\n      <td>0.0</td>\n      <td>2010-01-01</td>\n      <td>2010-12-31</td>\n      <td>530.0</td>\n      <td>Action,Adventure,Drama</td>\n      <td>The Pacific tt0374463</td>\n      <td>8.3</td>\n      <td>101949.0</td>\n      <td>2010-05-27 00:00:00</td>\n      <td>2010-07-02 12:00:00</td>\n    </tr>\n  </tbody>\n</table>\n<p>5 rows × 29 columns</p>\n</div>"
     },
     "metadata": {},
     "execution_count": 33
    }
   ],
   "source": [
    "episode_merged.head()"
   ]
  },
  {
   "cell_type": "code",
   "execution_count": 36,
   "metadata": {},
   "outputs": [
    {
     "output_type": "execute_result",
     "data": {
      "text/plain": [
       "'episodes.html'"
      ]
     },
     "metadata": {},
     "execution_count": 36
    }
   ],
   "source": [
    "fig = px.timeline(episode_merged,\n",
    "    x_start=\"episodes_start\",\n",
    "    x_end=\"episodes_end\",\n",
    "    y=\"title_and_tconst\",\n",
    "    color=\"episodeAverageRating\",\n",
    "    hover_name=\"primaryTitle\",\n",
    "    hover_data=[\"averageRating\", \"numVotes\", \"genres\"],\n",
    "    color_continuous_scale='viridis'\n",
    ")\n",
    "fig.update_yaxes(autorange=\"reversed\") # otherwise tasks are listed from the bottom up\n",
    "plotly.offline.plot(fig, filename='episodes.html', auto_open=False)"
   ]
  },
  {
   "cell_type": "code",
   "execution_count": 37,
   "metadata": {},
   "outputs": [],
   "source": [
    "fig.write_image(\"episodes.svg\", width=1900.0, height=14000.0)"
   ]
  },
  {
   "cell_type": "code",
   "execution_count": 38,
   "metadata": {},
   "outputs": [],
   "source": [
    "fig.write_image(\"episodes.png\", width=1900.0, height=14000.0)"
   ]
  },
  {
   "cell_type": "code",
   "execution_count": null,
   "metadata": {},
   "outputs": [],
   "source": []
  }
 ]
}